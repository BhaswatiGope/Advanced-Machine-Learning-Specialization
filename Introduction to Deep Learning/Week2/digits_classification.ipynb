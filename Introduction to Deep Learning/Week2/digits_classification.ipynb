{
 "cells": [
  {
   "cell_type": "markdown",
   "metadata": {
    "slideshow": {
     "slide_type": "slide"
    }
   },
   "source": [
    "# MNIST digits classification with TensorFlow"
   ]
  },
  {
   "cell_type": "markdown",
   "metadata": {},
   "source": [
    "<img src=\"images/mnist_sample.png\" style=\"width:30%\">"
   ]
  },
  {
   "cell_type": "code",
   "execution_count": 1,
   "metadata": {},
   "outputs": [
    {
     "name": "stdout",
     "output_type": "stream",
     "text": [
      "We're using TF 1.2.1\n"
     ]
    },
    {
     "name": "stderr",
     "output_type": "stream",
     "text": [
      "Using TensorFlow backend.\n"
     ]
    }
   ],
   "source": [
    "import numpy as np\n",
    "from sklearn.metrics import accuracy_score\n",
    "from matplotlib import pyplot as plt\n",
    "%matplotlib inline\n",
    "import tensorflow as tf\n",
    "s=tf.InteractiveSession()\n",
    "print(\"We're using TF\", tf.__version__)\n",
    "\n",
    "import sys\n",
    "sys.path.append(\"../..\")\n",
    "import grading\n",
    "\n",
    "import matplotlib_utils\n",
    "from importlib import reload\n",
    "reload(matplotlib_utils)\n",
    "\n",
    "import grading_utils\n",
    "reload(grading_utils)\n",
    "\n",
    "import keras_utils\n",
    "from keras_utils import reset_tf_session"
   ]
  },
  {
   "cell_type": "markdown",
   "metadata": {},
   "source": [
    "# Fill in your Coursera token and email\n",
    "To successfully submit your answers to our grader, please fill in your Coursera submission token and email"
   ]
  },
  {
   "cell_type": "code",
   "execution_count": 2,
   "metadata": {
    "collapsed": true
   },
   "outputs": [],
   "source": [
    "grader = grading.Grader(assignment_key=\"XtD7ho3TEeiHQBLWejjYAA\", \n",
    "                        all_parts=[\"9XaAS\", \"vmogZ\", \"RMv95\", \"i8bgs\", \"rE763\"])"
   ]
  },
  {
   "cell_type": "code",
   "execution_count": 15,
   "metadata": {
    "collapsed": true
   },
   "outputs": [],
   "source": [
    "# token expires every 30 min\n",
    "COURSERA_TOKEN = \"\"\n",
    "COURSERA_EMAIL = \"\""
   ]
  },
  {
   "cell_type": "markdown",
   "metadata": {},
   "source": [
    "# Look at the data\n",
    "\n",
    "In this task we have 50000 28x28 images of digits from 0 to 9.\n",
    "We will train a classifier on this data."
   ]
  },
  {
   "cell_type": "code",
   "execution_count": 4,
   "metadata": {},
   "outputs": [
    {
     "name": "stdout",
     "output_type": "stream",
     "text": [
      "Downloading data from https://s3.amazonaws.com/img-datasets/mnist.npz\n",
      " 8642560/11490434 [=====================>........] - ETA: 0s"
     ]
    }
   ],
   "source": [
    "import preprocessed_mnist\n",
    "X_train, y_train, X_val, y_val, X_test, y_test = preprocessed_mnist.load_dataset()"
   ]
  },
  {
   "cell_type": "code",
   "execution_count": 5,
   "metadata": {},
   "outputs": [
    {
     "name": "stdout",
     "output_type": "stream",
     "text": [
      "X_train [shape (50000, 28, 28)] sample patch:\n",
      " [[ 0.          0.29803922  0.96470588  0.98823529  0.43921569]\n",
      " [ 0.          0.33333333  0.98823529  0.90196078  0.09803922]\n",
      " [ 0.          0.33333333  0.98823529  0.8745098   0.        ]\n",
      " [ 0.          0.33333333  0.98823529  0.56862745  0.        ]\n",
      " [ 0.          0.3372549   0.99215686  0.88235294  0.        ]]\n",
      "A closeup of a sample patch:\n"
     ]
    },
    {
     "data": {
      "image/png": "[encoded data removed]",
      "text/plain": [
       "<matplotlib.figure.Figure at 0x7ff4dad0bda0>"
      ]
     },
     "metadata": {},
     "output_type": "display_data"
    },
    {
     "name": "stdout",
     "output_type": "stream",
     "text": [
      "And the whole sample:\n"
     ]
    },
    {
     "data": {
      "image/png": "[encoded data removed]",
      "text/plain": [
       "<matplotlib.figure.Figure at 0x7ff47b8586a0>"
      ]
     },
     "metadata": {},
     "output_type": "display_data"
    },
    {
     "name": "stdout",
     "output_type": "stream",
     "text": [
      "y_train [shape (50000,)] 10 samples:\n",
      " [5 0 4 1 9 2 1 3 1 4]\n"
     ]
    }
   ],
   "source": [
    "# X contains rgb values divided by 255\n",
    "print(\"X_train [shape %s] sample patch:\\n\" % (str(X_train.shape)), X_train[1, 15:20, 5:10])\n",
    "print(\"A closeup of a sample patch:\")\n",
    "plt.imshow(X_train[1, 15:20, 5:10], cmap=\"Greys\")\n",
    "plt.show()\n",
    "print(\"And the whole sample:\")\n",
    "plt.imshow(X_train[1], cmap=\"Greys\")\n",
    "plt.show()\n",
    "print(\"y_train [shape %s] 10 samples:\\n\" % (str(y_train.shape)), y_train[:10])"
   ]
  },
  {
   "cell_type": "markdown",
   "metadata": {},
   "source": [
    "# Linear model\n",
    "\n",
    "Your task is to train a linear classifier $\\vec{x} \\rightarrow y$ with SGD using TensorFlow.\n",
    "\n",
    "You will need to calculate a logit (a linear transformation) $z_k$ for each class: \n",
    "$$z_k = \\vec{x} \\cdot \\vec{w_k} + b_k \\quad k = 0..9$$\n",
    "\n",
    "And transform logits $z_k$ to valid probabilities $p_k$ with softmax: \n",
    "$$p_k = \\frac{e^{z_k}}{\\sum_{i=0}^{9}{e^{z_i}}} \\quad k = 0..9$$\n",
    "\n",
    "We will use a cross-entropy loss to train our multi-class classifier:\n",
    "$$\\text{cross-entropy}(y, p) = -\\sum_{k=0}^{9}{\\log(p_k)[y = k]}$$ \n",
    "\n",
    "where \n",
    "$$\n",
    "[x]=\\begin{cases}\n",
    "       1, \\quad \\text{if $x$ is true} \\\\\n",
    "       0, \\quad \\text{otherwise}\n",
    "    \\end{cases}\n",
    "$$\n",
    "\n",
    "Cross-entropy minimization pushes $p_k$ close to 1 when $y = k$, which is what we want.\n",
    "\n",
    "Here's the plan:\n",
    "* Flatten the images (28x28 -> 784) with `X_train.reshape((X_train.shape[0], -1))` to simplify our linear model implementation\n",
    "* Use a matrix placeholder for flattened `X_train`\n",
    "* Convert `y_train` to one-hot encoded vectors that are needed for cross-entropy\n",
    "* Use a shared variable `W` for all weights (a column $\\vec{w_k}$ per class) and `b` for all biases.\n",
    "* Aim for ~0.93 validation accuracy"
   ]
  },
  {
   "cell_type": "code",
   "execution_count": 6,
   "metadata": {},
   "outputs": [
    {
     "name": "stdout",
     "output_type": "stream",
     "text": [
      "(50000, 784)\n",
      "(10000, 784)\n"
     ]
    }
   ],
   "source": [
    "X_train_flat = X_train.reshape((X_train.shape[0], -1))\n",
    "print(X_train_flat.shape)\n",
    "\n",
    "X_val_flat = X_val.reshape((X_val.shape[0], -1))\n",
    "print(X_val_flat.shape)"
   ]
  },
  {
   "cell_type": "code",
   "execution_count": 7,
   "metadata": {},
   "outputs": [
    {
     "name": "stdout",
     "output_type": "stream",
     "text": [
      "(50000, 10)\n",
      "[[ 0.  0.  0.  0.  0.  1.  0.  0.  0.  0.]\n",
      " [ 1.  0.  0.  0.  0.  0.  0.  0.  0.  0.]\n",
      " [ 0.  0.  0.  0.  1.  0.  0.  0.  0.  0.]] [5 0 4]\n"
     ]
    }
   ],
   "source": [
    "import keras\n",
    "\n",
    "y_train_oh = keras.utils.to_categorical(y_train, 10)\n",
    "y_val_oh = keras.utils.to_categorical(y_val, 10)\n",
    "\n",
    "print(y_train_oh.shape)\n",
    "print(y_train_oh[:3], y_train[:3])"
   ]
  },
  {
   "cell_type": "code",
   "execution_count": 18,
   "metadata": {
    "collapsed": true
   },
   "outputs": [],
   "source": [
    "# run this again if you remake your graph\n",
    "s = reset_tf_session()"
   ]
  },
  {
   "cell_type": "code",
   "execution_count": 19,
   "metadata": {
    "collapsed": true
   },
   "outputs": [],
   "source": [
    "# Model parameters: W and b\n",
    "W = tf.Variable(tf.random_normal(shape=[784,10],stddev=0.01),name='weights')\n",
    "b = tf.Variable(tf.zeros([1,10]),name='bias')\n"
   ]
  },
  {
   "cell_type": "code",
   "execution_count": 20,
   "metadata": {
    "collapsed": true
   },
   "outputs": [],
   "source": [
    "# Placeholders for the input data\n",
    "input_X = tf.placeholder(tf.float32,[None,784])### YOUR CODE HERE ### tf.placeholder(...) for flat X with shape[0] = None for any batch size\n",
    "input_y = tf.placeholder(tf.float32,[None,10])### YOUR CODE HERE ### tf.placeholder(...) for one-hot encoded true labels"
   ]
  },
  {
   "cell_type": "code",
   "execution_count": 21,
   "metadata": {
    "collapsed": true
   },
   "outputs": [],
   "source": [
    "# Compute predictions\n",
    "logits = tf.matmul(input_X,W) + b ### YOUR CODE HERE ### logits for input_X, resulting shape should be [input_X.shape[0], 10]\n",
    "probas = tf.nn.softmax(logits)### YOUR CODE HERE ### apply tf.nn.softmax to logits\n",
    "classes = tf.argmax(probas,1)### YOUR CODE HERE ### apply tf.argmax to find a class index with highest probability\n",
    "\n",
    "# Loss should be a scalar number: average loss over all the objects with tf.reduce_mean().\n",
    "# Use tf.nn.softmax_cross_entropy_with_logits on top of one-hot encoded input_y and logits.\n",
    "# It is identical to calculating cross-entropy on top of probas, but is more numerically friendly (read the docs).\n",
    "loss = tf.reduce_mean(tf.nn.softmax_cross_entropy_with_logits(labels=input_y,logits=logits))\n",
    "                      ### YOUR CODE HERE ### cross-entropy loss\n",
    "\n",
    "# Use a default tf.train.AdamOptimizer to get an SGD step\n",
    "step = tf.train.AdamOptimizer(0.01).minimize(loss)### YOUR CODE HERE ### optimizer step that minimizes the loss\n",
    "\n",
    "                     \n",
    "train_loss_results=[]\n",
    "test_loss_results=[]\n",
    "iteration_numbers=[]                "
   ]
  },
  {
   "cell_type": "code",
   "execution_count": 22,
   "metadata": {
    "scrolled": false
   },
   "outputs": [
    {
     "data": {
      "text/html": [
       "<img src=\"data:image/jpeg;base64,/9j/4AAQSkZJRgABAQAAAQABAAD/2wBDAAIBAQEBAQIBAQECAgICAgQDAgICAgUEBAMEBgUGBgYFBgYGBwkIBgcJBwYGCAsICQoKCgoKBggLDAsKDAkKCgr/2wBDAQICAgICAgUDAwUKBwYHCgoKCgoKCgoKCgoKCgoKCgoKCgoKCgoKCgoKCgoKCgoKCgoKCgoKCgoKCgoKCgoKCgr/wAARCAEgA2ADASIAAhEBAxEB/8QAHwAAAQUBAQEBAQEAAAAAAAAAAAECAwQFBgcICQoL/8QAtRAAAgEDAwIEAwUFBAQAAAF9AQIDAAQRBRIhMUEGE1FhByJxFDKBkaEII0KxwRVS0fAkM2JyggkKFhcYGRolJicoKSo0NTY3ODk6Q0RFRkdISUpTVFVWV1hZWmNkZWZnaGlqc3R1dnd4eXqDhIWGh4iJipKTlJWWl5iZmqKjpKWmp6ipqrKztLW2t7i5usLDxMXGx8jJytLT1NXW19jZ2uHi4%2BTl5ufo6erx8vP09fb3%2BPn6/8QAHwEAAwEBAQEBAQEBAQAAAAAAAAECAwQFBgcICQoL/8QAtREAAgECBAQDBAcFBAQAAQJ3AAECAxEEBSExBhJBUQdhcRMiMoEIFEKRobHBCSMzUvAVYnLRChYkNOEl8RcYGRomJygpKjU2Nzg5OkNERUZHSElKU1RVVldYWVpjZGVmZ2hpanN0dXZ3eHl6goOEhYaHiImKkpOUlZaXmJmaoqOkpaanqKmqsrO0tba3uLm6wsPExcbHyMnK0tPU1dbX2Nna4uPk5ebn6Onq8vP09fb3%2BPn6/9oADAMBAAIRAxEAPwD9/KKKKACiiigAooooAKKKKACiiigAooooAKKKKACiiigAooooAKKKKACiiigAooooAKKKKACiiigAooooAKKKKACiiigAooooAKKKKACiiigAooooAKKKKACiiigAooooAKKKKACiiigAooooAKKKKACiiigAooooAKKKKACiiigAooooAKKKKACiiigAooooAKKKKACiiigAooooAKKKKACiiigAooooAKKKKACiiigAooooAKKKKACiiigAooooAKKKKACiiigAooooAKKKKACiiigAooooAKKKKACiiigAooooAKKKKACiiigAormPhz8bfgx8YbjV7T4R/F3wx4pl8P35sdfi8Oa/bXzabdAkGC4ELsYZAVb5Hw3B44rN8DftP/s0/FDXtb8K/DT9ofwN4i1Tw0Jj4j03QvFtnd3GlCKQxym5jilZoNkisjbwNrAg4IxQB3NFc58LfjD8JPjj4VXx38FPil4c8YaG1w8C6z4W1u31C0MqY3xiaB3TcuRlc5Gea6OgAooooAKKKKACiiigAooooAKKKKACiiigArz347ftSfBT9m%2BTRrH4peINTGo%2BIpZ00DQfDnhfUdc1TUfJVXneGx023nuZI4lZDJIsZSPem4ruXPoVeDftD/A/4%2Bf8NJ%2BDv2tv2bLLwfrWueH/AAdrHhTV/CnjnXLrS7S8sL%2B5sLsXEF7a2l49vPFNp6Aqbd1lSUglCitQAaX/AMFMv2LNYu/E9vafFe/SHwVayT%2BMtSu/BesQWOghLSK72Xl3LaLBaytDNGyQyOskhYqisysovaf/AMFD/wBkrUfAGtfEVPH%2Br28Hh/VrLS9V0TUPA2s2uuRXl5t%2BxwLo81ouoSvcBgYRHbt5oDFNwViPLZv2AfjL4x/Zr%2BOfw18YeKfCmkeKfij8VLfx1odzpTXF5YWl5bQ6LLBDciSKGSSI3elFHCjJgcYO4lVo%2BLv2L/2lfi5q/wAR/jl8bfhL8KNa8WeNbHwpo%2Bn%2BArL4jazZabp9jodxqV3DeprtvpqXkOoNc6pM6SxWg8lIo0VmJZyAey%2BIf2%2B/2bPC/hrw54j1e%2B8beZ4rS/k0Tw/a/CbxJca5JFZSxxXc0mkxae1/bwwvNCryzQIimaLLfvEz6ZrPxE8EeG/h7dfFfxP4lttK8OWOjvqt/q%2Bqt9lhtLJIjM88xl2%2BUqxgs2/G0A5xg18YeKf2Ef2z9Y%2BBfhfw1rLeF/FXjvRrnxEdF8ZX/wAdvE2kav4Itb65SS0s7XWrWwkvNchiSOETLerD9pNtF5gIUY9R%2BNH/AATotfj1%2Bzb4n%2BHHxD%2BOfjW78d%2BMPhfH4Z17xS3jbWho818tpDE2oJoS3y2FuzzQLK3kRRSEPIBIrSM5AOkg/wCClH7GX/CufFfxW1j4rXuiaN4IsrK%2B8UP4n8HavpNzZWV5MYbW9%2By3lrFcSWksiuqXMcbQt5bkPhGI4/43f8FZP2d/hn8ENU%2BMfgPRfFXiqbQfiD4X8L674Y/4QXXbHU7A6zqVrax3T2cmnNdeV5Fw88DeT5d48aW8MhknjB8r1T/gmJ8ZPHfwq8faR4i8DeG9G8Y%2BI9D0fR7DxDqv7RfjPxut3aWusW%2BoTRyf27AfsEZ8likUSzHe%2BGkxknv/ANqH9gz40/GD4g/F/wCIPgXxD4Xjk8XwfC288JWerX1zEr3/AIT8R3OtSw3jR28nkQ3Aa3hWWMTOuXYx/IquAeoWH/BQT9lvUfibZfBmHxP4mj8V3mi6frEugXfw316C507T71p0gu79JLJTp0O63lV5LryliIUSFC6bqPhr/gph%2BxT4t8GeLPiFpHxguE0fwX4IuvGWsXuoeEtVtBceHrdGebVrFZ7VG1SzVUOJ7MTxsWQKxLoGwdD/AGQ/ih8Q/iZ8bviD8b18PaDF8aPg74d8IXVj4T1241GXS7i0TXUu2WeeztfNjA1WIxPsVmKSbo48Dd83ftjfsqftQ6P%2Bwx8Uvib%2B0xd%2BALSH4Q/sU/EHwR4Xj8BaheXDa817pFsZ9RulubaAWKhNItwlnG1wFaaQmdtqCgD6z8Pf8FJf2MvE2h6x4j0/4tXUFnoaaVNfyap4S1WyZrTUrtbOx1CFLi1RrmwlnYKL6EPaqAztKqKzD0/RPi78PPEfxS1/4L6H4h%2B0%2BJPC2l6fqGv2EdpNts4L5rgWu6Yp5Rd/ssx8tXMiqEZlVZIy3yTqH7M/iDxXoHin42/8FIvF/wAM/CfgW3/Z7ufh1JceH/EEy2sum3skMl5qt5NewW6WDkwWwhtkMwgJk/0iQsuOw/4I%2BeA/i7Z/sj2vx/8A2kNQN/8AEn4vXkfifxXqD2clu0kItILLTV8qX54f%2BJfaWkjRNgpLNNkBi2QD6qooooAKKKKACiiigAooooAKKKKACiiigAooooAKKKKACiiigAooooAKKKKACiiigAooooAKKKKACiiigAooooAKKKKACiiigArxHSP%2BCjH7HupXevWep/FK88PN4c8OXPiDUJPGvhHVdBjm0m3dI57%2B1k1K1gW%2Bt0eSJWltjKgMsYzl1z7TexXM1nLDZ3QgmeJlimMe/wAtiOG2nrg8471%2BYmr/APBHL9uX4v6t4X1z43fHHQ31vw14P1Cz1DxRqHxW8TeJx4h1v7ZpV9a6idLvoobLSbaS50xfPsLIBRHJtWWQKgUA%2B2X/AG//ANmG1%2BGjfFjWPEHirStLbXINGsbPXPhlr9hqmp38yGSGCy024sUvb9pEDOv2eGQMqOwJCMR0XgP9qz4H/EfX7Lwn4c8Q6pDq9/4Un8SQ6RrXhXUtMu002G7%2BySyyw3lvFJA6z/IYZFWXvs2815N8Tvg5%2B278Ym%2BHvxt1zwb8KtD%2BIfwo8dTax4f8M2vjjUr/AEXXLO40m70y5juL59KhmsZil7JJG6WtwIzEFPmCRsVfiT8Bv24Nf%2BMvh39prwPo3wrtPFl98MNV8F%2BMdC1LxXqUlhpC3F/DdWt/ZXCacJNQMQjdZLeWK0EpcYlixyAdxpP/AAUb/ZA8R694F8LeFfiNqus6n8SfBuleLfBunaJ4H1m9nvND1F9lrqMiQWjNa2%2B7HmSTiNbcMpm8oMCdj4a/tufs3fFf4jXPwn8M%2BL9Ws9ft9LudThsvE/gzVtEW/sbeRI57uyl1G1gjv4I3liDy2zSIvmISQGUnyj9hT9hL4sfsw6/8ONZ8eeIPDV2fB37KXhH4Y376Rczys2raW8zXM0XmQR7rVt6bGYq7bfmjTArxr4af8Eq/2xvE/wAUfC/ib9qb4w2eqRaf4A8V%2BF/GniaD4v8AiTWrzxFLq9ilt/adrpl9DHp%2BhHKljaWilFyoEziNVoA%2BpfCf/BRf9kfxrosfirQfHeuf2Hcarpen6f4lvfh/rdrpWoy6lex2VlJaX09mlteQS3M0UYuIJHhBlQs4VgT6X4W%2BLvw88a/EDxT8LvC/iH7XrnguSzj8T2iWkwWxkuoPtEEZlZBG7tCVkKIzMiyRlgokTd8w%2BOPAnxF8K/8ABPbxp8CP%2BChnif4VeCPAWg/DSLQLb4meHfFt2GadI0trXUntLqzgTTZlmFvJDBHcXTGcoiOTtDdr/wAEr/h98WPDf7ImlfFX9oqwS3%2BJ3xYvpfHXxEhW3aL7Pf36xmG02N8yfZbGOys9pyQLXBoA%2BjaKKKACiiigAooooAKKKKACiiigAooooAKKKKACiiigAooooAKKKKACiiigAooooAKKKKACiiigAooooAKKKKACiiigArN8ZabrOs%2BENV0jw7qX2LULrTZ4bC8yR5EzRsqSZHI2sQePStKigD4j/wCCflhrfh/x74Gv7n4HeNfBll4R/Z%2B8OfD3xNb6v4G1C0WbXoZ3YW0bGAC5t7QR3RN8ha0/4mClJ23vjivFPw3%2BNOp/Cj4vfsrfsyv8VPF3gHWfhh4yvr/SviP8On0E2Wv3Wpx3EWkaXdT2Fi19DeR3erIxY3KIIoCbhFkAf9EaKAPnv9jdr3xl8afjF8dND8AeI/DXhLxZqWhxaHZ%2BKfC13ol1fXNnpkcN1e/YryKKeNSDb2oeSNS/2HK7oxGzR/FDxb%2B2/aftaaF8E/h38ZvhVp%2BgeJ/CHiDxBYPrXwl1K%2BvLFNNu9Gt1t5JItfgScyf2qzGQRxbfJA2HcSPoivC/iJrK2f8AwUq%2BEOiyKMXvwT%2BIbI2ed0ereDTj8mY/hSbS3LhCVR2j2b%2B7Vl7/AIQf/goX/wBHQfBn/wAMPq3/AM1FH/CD/wDBQv8A6Og%2BDP8A4YfVv/mor2aimQeM/wDCD/8ABQv/AKOg%2BDP/AIYfVv8A5qKP%2BEH/AOChf/R0HwZ/8MPq3/zUV7NRQB4z/wAIP/wUL/6Og%2BDP/hh9W/8Amoo/4Qf/AIKF/wDR0HwZ/wDDD6t/81FezUUAeM/8IP8A8FC/%2BjoPgz/4YfVv/moo/wCEH/4KF/8AR0HwZ/8ADD6t/wDNRXs1FAHjP/CD/wDBQv8A6Og%2BDP8A4YfVv/moo/4Qf/goX/0dB8Gf/DD6t/8ANRXs1FAHjP8Awg//AAUL/wCjoPgz/wCGH1b/AOaij/hB/wDgoX/0dB8Gf/DD6t/81FezUUAeM/8ACD/8FC/%2BjoPgz/4YfVv/AJqKP%2BEH/wCChf8A0dB8Gf8Aww%2Brf/NRXs1FAHjP/CD/APBQv/o6D4M/%2BGH1b/5qKP8AhB/%2BChf/AEdB8Gf/AAw%2Brf8AzUVa1/43/sifCm00jSfjp8Yfhz4c1zUNFg1A23i7xDYWl3cRyZHn7bh1dkZ0kAbplGGeCBm/8Nf/APBOD/o6L4I/%2BFto/wD8drmnjMHTk4zqxTXRyin9zkme1h%2BG%2BJMXQjWoYGvOEldSjRrSi13Uo0ZRa0eqbWm5Y/4Qf/goX/0dB8Gf/DD6t/8ANRR/wg//AAUL/wCjoPgz/wCGH1b/AOaiq/8Aw1//AME4P%2Bjovgj/AOFto/8A8dr07QNF%2BFnivQrLxT4W0nw/qWmalaR3Wnajp8EE0F1BIoeOWORAVdGUhlZSQQQQcGrpYnD121TnGVu0k/ybOfHZNnOVwjPG4WrSUnZOpTqU03vZOdOCbtrZNu2trannP/CD/wDBQv8A6Og%2BDP8A4YfVv/moo/4Qf/goX/0dB8Gf/DD6t/8ANRXnnw%2B/4KNfsX%2BL/A9n4w8Q/D3xPoM%2BqeONa8LaJo1z8HtbnvNWvdOuL%2BORbSKHT2e6Jh0%2BedliVzCAY5Nkiso7L4hftUfsteBbLx7aXmiRafrHgLwhrXiG8tvFngTVtJs7uz0xf9Lnt7qTTnF7bxM0QklskuiomjYI%2B9FfY800f%2BEH/wCChf8A0dB8Gf8Aww%2Brf/NRR/wg/wDwUL/6Og%2BDP/hh9W/%2Baiqth%2B1Z%2BxhqHxnk/Z%2BhvLf/AISi38QR6DdR/wDCDX4sIdVfTo9SjsW1BrQWizvaSpMkZlDODhQWBUbPxr%2BKvwV%2BEn7POu/tD6P4R0bxRp2l2DSabb6GttINVumlEEFrFMAUDSXDJDuJ2qzEt0NAFD/hB/8AgoX/ANHQfBn/AMMPq3/zUUf8IP8A8FC/%2BjoPgz/4YfVv/mop/wCzh8QLb4uXnjLwP8UfgV4b8K%2BMPAfiCHTNf0rR9RXVbGRZ7G2vbe5trqS0tnljeK5VTvgjZZYpVwyhXflPDHxr%2BIc3xO8Q/A74g/sp/DzRfFtn4D/4Svw9FZ%2BPDeadNbfaWthFqNydKjfTpC4BBSG5RlSYozmFgQDqP%2BEH/wCChf8A0dB8Gf8Aww%2Brf/NRR/wg/wDwUL/6Og%2BDP/hh9W/%2BaivC5P8AgpX8Oo/gMfjC/wAIPhSsI%2BLB8Dt4vf4lRDwIGGlnUP7S/wCEi/s3/jz3f8S/f9l/5CP%2Bjf8ATSrWrf8ABQ/SR8JrD4weFf2PdMvNO0r4Rx/Er4mQ32tx20uieH3luESSwC2Un9qSyx2V/PCjfZVkit1JdGlVKAPav%2BEH/wCChf8A0dB8Gf8Aww%2Brf/NRR/wg/wDwUL/6Og%2BDP/hh9W/%2BaivMov25/h/cftxL%2BxzbfA3we8h8T/2LsHiaL/hI/L/sb%2B0/7ZGjfY%2BdH/5dvt32nmb5RHniuv8Ag98XPiD8VbH4t%2BHZ/wBkzwXp3jP4aeNovD9hoY8YCax1UTaVpupw3Et5/Zqta/utSUSIsE%2BwwttaTIoA3v8AhB/%2BChf/AEdB8Gf/AAw%2Brf8AzUUf8IP/AMFC/wDo6D4M/wDhh9W/%2BaiuL0H9oLxx4p%2BFfjfxVpX7Mvwvstf%2BGPjC80Xx5ba58QZoNEt4rbT4L%2BS7tNRh0WaS5VY7mJHV7WEpIlwhOYvn4/T/ANvvR9R074VeHtS/Z/8Ahh4U8b/ELwHpfirV/DPxC%2BJcOjwaRDqLlLOwt7htOkk1C/laO4CwLBEo%2ByybpFJQOAeyf8IP/wAFC/8Ao6D4M/8Ahh9W/wDmoo/4Qf8A4KF/9HQfBn/ww%2Brf/NRWDrf7S/w9tf22dA/Y/wDDXwO0/U7e%2B06%2BbxD4vDxRw6TqMNrHdxacsPksZ5mtpEmky8fkpcWxxJ5xCc/pP7X2i%2BGvhH8bPiL8ff2avD3hvUfg142j8OzaLoWvQ6mmsS3Ok6PqFjsuJrS1WCSY6zbW7K4McbqzGVk%2BYAHff8IP/wAFC/8Ao6D4M/8Ahh9W/wDmoo/4Qf8A4KF/9HQfBn/ww%2Brf/NRXG6d8evFviD9mW8/aM8JfCT9nvWbXSpb251i90f4zy3mh2%2BmWsBkluE1K30GQyTIyyK8PkKFCZ8xidtc949/aj%2BOng79nT4bftCQ/sK/DzPjyz8MQ3fhHVfiPNa6rp%2BsazdwW6afGiaFLHcCH7TG8kzPDgRzkoqx72APU/wDhB/8AgoX/ANHQfBn/AMMPq3/zUUf8IP8A8FC/%2BjoPgz/4YfVv/morzPwx%2B3H4C8S/twP%2Bx1F8C/CCzJ4mvtGkij8SxP4js0ttLa//ALXutG%2BxjyNIlKrbxXv2lt8txbL5Y835cD4Cf8FGvhv8U/2LdW/bT8X/AAo%2BFNvplto%2Bjz2HhzwN8SoNdvob/USkcGmamZdPtI9MufPntoiGaRVMkhYoseXAPa/%2BEH/4KF/9HQfBn/ww%2Brf/ADUVQ8D%2BOP2rPB37Vnhz4I/G74j/AA98TaN4m%2BHviHXIZvCvw8vtFurS602%2B0S3RWe41e%2BSWN01SUlQiMGiQhsZBv/BHxxpnxm%2BAl58WG0H4ZpPtuzp2o/C3xqviLTmES8SR34s7QmQOGVkEfylPvNng8cf8pC/hf/2Rnx5/6dvCFAHs1FFFABRRRQAUUUUAFfOPwm8Vft3/AB10fXvHfhf43/CTQNLt/iF4q0PS9Kv/AIP6pf3EVrpevX%2BmQtLcJ4igWWR47NXZlijXc5AUACvo6vGf2D/%2BSIa5/wBlm%2BI//qa63QAf8IP/AMFC/wDo6D4M/wDhh9W/%2Baij/hB/%2BChf/R0HwZ/8MPq3/wA1FezUUAeM/wDCD/8ABQv/AKOg%2BDP/AIYfVv8A5qKP%2BEH/AOChf/R0HwZ/8MPq3/zUV7NRQB4z/wAIP/wUL/6Og%2BDP/hh9W/8Amoo/4Qf/AIKF/wDR0HwZ/wDDD6t/81FezUUAeM/8IP8A8FC/%2BjoPgz/4YfVv/moo/wCEH/4KF/8AR0HwZ/8ADD6t/wDNRXs1FAHjP/CD/wDBQv8A6Og%2BDP8A4YfVv/moo/4Qf/goX/0dB8Gf/DD6t/8ANRXs1FAHjP8Awg//AAUL/wCjoPgz/wCGH1b/AOaij/hB/wDgoX/0dB8Gf/DD6t/81FezUUAeM/8ACD/8FC/%2BjoPgz/4YfVv/AJqKP%2BEH/wCChf8A0dB8Gf8Aww%2Brf/NRXs1FAHjP/CD/APBQv/o6D4M/%2BGH1b/5qKP8AhB/%2BChf/AEdB8Gf/AAw%2Brf8AzUV7NRQB4z/wg/8AwUL/AOjoPgz/AOGH1b/5qKP%2BEH/4KF/9HQfBn/ww%2Brf/ADUV7NRQB4z/AMIP/wAFC/8Ao6D4M/8Ahh9W/wDmoo/4Qf8A4KF/9HQfBn/ww%2Brf/NRXs1FAHjP/AAg//BQv/o6D4M/%2BGH1b/wCaij/hB/8AgoX/ANHQfBn/AMMPq3/zUV7NRQB4z/wg/wDwUL/6Og%2BDP/hh9W/%2Baij/AIQf/goX/wBHQfBn/wAMPq3/AM1FezUUAeM/8IP/AMFC/wDo6D4M/wDhh9W/%2Baij/hB/%2BChf/R0HwZ/8MPq3/wA1FezUUAeM/wDCD/8ABQv/AKOg%2BDP/AIYfVv8A5qKP%2BEH/AOChf/R0HwZ/8MPq3/zUV7LJJHEhllcKqjLMxwAKwL34sfCzTbg2mo/Evw/byr96KbWYEYfgXzUynCHxNL1ZtRw%2BIxDtShKXom/yTPOf%2BEH/AOChf/R0HwZ/8MPq3/zUUf8ACD/8FC/%2BjoPgz/4YfVv/AJqK7XWv2if2fvDdt9t8RfHTwdYQ/wDPW98T2kS/m0gFefeKP%2BCmX/BPvwhu/tf9sPwBIU%2B8NN8RQ3p/K3L1z1MdgqP8SrFesor/ANuPXwXC3E%2BZO2EwFep/go1pflSa/Euf8IP/AMFC/wDo6D4M/wDhh9W/%2Baij/hB/%2BChf/R0HwZ/8MPq3/wA1FcNaf8FnP%2BCZV5ftp0P7VmliRTgtLouoxx/g7WwU/ga0db/4K5/8E3PD9gupX/7W3hqSNhkLYrcXMn4xwxM4%2BmK51nOTtXWIp/8Agcf8z2JeGviNCahLJsWm9l9Wra/%2BUzqP%2BEH/AOChf/R0HwZ/8MPq3/zUUf8ACD/8FC/%2BjoPgz/4YfVv/AJqK8x/4fQfsga7x8J/DvxM8e5/1X/CH/De/m8z/AHfOSKgf8FS/FtyPP03/AIJlftMyQNzE8/w8SJmHqUM%2BRWf9u5Q/hrKX%2BFSl%2BMYSX4nX/wAQr8QofxsvnSfarKjSf/gNXEUpf%2BSnp3/CD/8ABQv/AKOg%2BDP/AIYfVv8A5qKP%2BEH/AOChf/R0HwZ/8MPq3/zUV5kP%2BCm3xWvPl0b/AIJe/tCu3pe%2BF4LYfm0xo/4b3/bY1s7fBH/BJnx9cMfu/wBveMtN0wfiZN2KP7by5/C5P0p1H/7jD/iGHGMf4lOlD/HisHFfji2em/8ACD/8FC/%2BjoPgz/4YfVv/AJqKt/srfEb40%2BMNY%2BKHgT46a/4X1bVPAPxCi0Oz1Xwn4audJt7q1l0HR9TVnt7i9vGWRZNRlQsJdpWNDtU5z5MP2lP%2BCtetjOmf8E0fC%2Bibug1n4yWVzt%2Bv2eMZ/Cuh/wCCder/ABl13W/jzq37QPhDSNB8XzfGaA6tpOg37XVpb48I%2BGxEElYAvmERs3ozMO1dGGx9LFTcYRmtL3lCUV98ktfI8fO%2BEsfkGFVfEV8PO75eWliaNaa0bu40pStHSzle12l1PpOiiiu4%2BXCiiigAooooAKKKKACiiigAooooAKKKKACiiigAooooAKKKKACiiigAr5g%2BP%2Br/ANm/8FY/2a7Lfj%2B0Phd8TLfHribwvLj/AMhV9P18cftgaudM/wCCxn7GluWwt94X%2BKFux/7cdGkA/OMVzYufs6PN5x/GUV%2Bp7fD2H%2BtZl7P/AKd1n/4DQqy/9tPseiiiuk8QKKKKACiiigAooooAKKKKACiiigAooooA8z1L9mT9m340aPoPin4xfs9%2BB/Fmp2/h%2B1tYNR8S%2BE7O/njgVS6xLJPGzBAzuwUHALscZJql/wAMD/sK/wDRlnwl/wDDc6Z/8Yrk/i9/wUg/Yv8A2PpfDnw0/aL%2BMv8Awjut33hSz1O1sv8AhHdRu99q%2B%2BJZN9rbyIMvDKNpYN8ucYIJ5D/h%2Bb/wSy/6Oi/8snXP/kKvFxGL4dp15RrzpKaevN7O9/O6vf1NF4h4jKl9UjnE6Sp6cixNSCj1soqvFR32UVvtqet/8MD/ALCv/Rlnwl/8Nzpn/wAYr07QNA0LwpoVl4W8LaLaabpmm2kdrp2nafbLDBawRqEjijjQBURVAVVUAAAADAr5W/4fm/8ABLL/AKOi/wDLJ1z/AOQq%2BnvAPjrwr8UPAmi/EvwLqn27RPEWkW2p6Pe%2BQ8X2i1uIllik2SKrpuR1O1lDDOCAeK6MDiMnrTksHKm2lryct7efKlpfuKXF1XiT91PMZYnk1s686vLfS9pValr7XSV9r9Dwn4YfsL%2BK/AHjzwprWp/GfTdQ0HwP8UPFXi/w1pcPhCSC7C67/azz2lxcm9dJTFLqrFJUhi/dwhGQsxkHketf8EYZde8U%2BPfEl58dvDsVx4y8BeP/AAv/AG1a/C9E1u5j8TSK4uNV1E3xfVHstojhQLbp5Y27UwGHu1h%2B358I9X06xm0nwp4jmvrrRfFupXeky/YLeXS08OXq2Gox3ck92kEDC7dIEZpfLYksXWNXdeE8G/8ABT7wP8dpvhxqPwEgs5bHXfjPqPgbxvBf31jqUunm38G6v4hQ21zpV9cWcrsbSwO9J5kCTTRsElU%2BV6RB10n7DAfxDquvj4oYOp/HXSfiOYhon%2Br%2BxaRp%2Bm/YM%2Bf82/7B5nnYG3zdvltt3N3nxr%2BB2oftAfs8678EvH/jGK3v9asGjTxBoelmAWV0komtbqKCWWXLQypC%2B1nZXaM5wGwPnjxb/wAFVpX%2BCHhTxr8IvhTr/iO91SD4eyeI/FMvh%2BC30bRW8SXenKkFzANSa5juGtb3zVSA3UUDTQebMyklvpD4w/Hjw/8ACT4BePPj7daNqVzY%2BAvD%2BsapfWVxp81pLcDToZZZVjE6KWVvJYJKoaNwQyMykEgHO/Ab9n/4ofCnVPEfjrxn8WtD8Q%2BLPHHi2HVvGWpWfg%2Baws3tYNOhsYLKxtmvpntdq28UhklmuCzvP8oEiCLjf2d/2T/2qvgkvj3xF4k/ac8BeJ/F/ji6a%2Bm8Xz/CS9guftSyf6NFOp1yRZbG3ty0EVpD9n2gmTzPMeV5Nn9lr42fH7xD8VPE3wG/aVHhG58RaN4K8O%2BK7XUvBelXNlaC11WTUoDZNHc3Nw7y28%2BlzZnDosqTRkRRkMtc943/AGkf2lvhD%2B0Jqnwy1%2B58AeM7S4%2BHviTxZpuiaFplzpF54ft7GSJdPGo3tzezwSR3Zd4fNMVqBJBKyLIkcvlgFY/sFfF5NRHxXg/aP0JfiQfisfHMuot8PJT4ca4/4R/%2Bwfs/9kjUhNt%2ByYk837aZftA37vL/AHNc7qP/AASr1W2%2BGA%2BFPgn9ohNMsPE/w5ufA/xWe58HiZtd0m4vry8kGnhLuJdJkVtT1OKEkXKRRXSr5bGJHrhfh/8A8FQP2gdf%2BEvifxNrz%2BD7aTTLjwVu8Y678Oda8O2Xhy21uWZLq7v9K1C8%2B1T2VqsKlNQSeC0ummcLJGtrPILY/wCCsOv%2BJPCPg7wr4Y8Y%2BFbfxHrWu%2BMrXUfHNj8ONa8RaRdWPh26tYJL2x0rTrj7XKtymoWM6k3Jigi%2B0OZpljRpAD2EfsHeJj8fk%2BIUvxrsn8GxfFIfEGHw4fCJ/tdNWGl/2eIBqv2vb9iCciL7L5uz9z53lfLUHh79kr9sbwzP8dNW0P8AbC8F6Zq3xf1EanomsaT8H7lJvC1%2BmmafpcUwWfWpo7wJaafG2xljzO5kJ2AQVS%2BIv7dXjGH40fB/4cfBJvCninQfEWuaVafEbxjDHM9oi6lptzd2MOm%2BXNtE0qW5umLtKIrd7fKv9rjkSXx/%2B05%2B018GPjZ4k%2BHfiGf4feNYoPhX4k8aafpOhabcaLP4fSxlhXToNSvbq%2BngdL3fPGJzHagNZTsqOiSGIA0NL/YW8VT/ALDuo/sS%2BKvij4bi07VZo7PU9T8LeC7uyF9o0tzDLqdtcJd6pdyz3l9Gb5Jb55yxe9MrRyMjean7Xv7AB/aX8R67r3hX4jaT4Y/4Tb4YTfDzx0194PGpz3OgSTSSqthJ9phFjco1xclZXS4jy8bNCxiWuB/Z0/4KP/E3xl4B8b6l490XTdf13TB4etvA%2Bm2fgfVfCF5rWravDKYdPfTNWmnukgWRFP8AaQ/0eSIXMijbZzNUPhD9t79sH4o/B/4cW/gSy%2BHFr4%2B1z4Y%2BJvGXiq71LQb%2BTSZhpF7a2a2NrAt8k1ubmW6B%2B0SSzCBYWzFMXUAA9Jk/4Jq/BbTP2pfC37UfgjxR4x0i80LXda1nVdDPj/Xriw1O%2B1GMCSUW0mofZrYb8s8aQlJQQrKAq4wW/wCCfPxU8deHfjv4K%2BPfx68Ia/o/xr8RW3iCO30L4ZXGnyaLqdrp%2Bk2Nq7G41a7S7hRNGs5GhaOPzJDL84RhGvP%2BEv8Agpsnxe%2BPOg%2BFfCfjPQPBnhZtO8Iz6oPEvgLVtVn1C6162iu7eyGoWs8Nlo7NFcW0EEl15pubmV40jzFiT0XQ/jD%2B09Y/tX3n7NXiPxd8PdbOqfD7VfEdjd6B4SvoH8INHeW1tpsepCTUZRfJdCa5KlPsbOdMuNikbmiAM%2B%2B/YI8UeMfg38Tfh18TfjVp15qnxk8aadq3xDvtA8HNYafc6dDDptldaZb2b3s7wi60/TjbSTSTzNuupHwVVIl9Q%2BLHwGHxZ%2BLPw18fax4p8rSfh1rV7rcfh4WO4ahqUljLZWs7S7wESCK6u2EZRt0kkTgoYRu%2BY7j/AIKH/tF6R8L/ABxc3Fnomoap4Y%2BJ2geGIPEx%2BEevadKsGoJC0s3/AAik922rXbxNJtjWGUfahJ5kQKxPup3H/BRL9pTUPhl8MfiPdan4X8JeHtdsvG8njvx7dfBbxFr%2Bn6Y%2BjaxbWNi1zaWd9DLoH2i3e6uZ49QlLWb27wSsrwyGgD1vSv2D/GGn/Hiz%2BIlx8c7K48LaR8TtU8f6NobeDyNWj1i%2B026sHim1P7WVmskS8mKQrbRyBUgiMxjj2tl%2BMv8Agnb4q%2BOMHjfWP2kfjJ4b1nXfFHhPR9C0ubwp8O20rTrBNM1FtTs5ri0uL%2B8e%2BdbwoxVpkj8tGjVU8x3a3e/tZfFPT/24Lj4PeKPGGgeGfh7NPpFt4SvdS%2BFWtXC%2BKbi7tGleCDxCl4mmW83mBVjgaJ5H6KrFgRU/Yz/br1D9qb4t6lb3XxA8N2OiXr66vhLwcPAOrW2oXMOnakLJrtdauJxY6gQF3T2trAWtXuY43kJjYuAegfB74AeI/gj4I%2BJ/iTx5490/xF4m%2BIWu3PiPxHe6J4ebSdPS4GlWenJHbWj3Fy8S%2BRp8DMXnkd5WkcsAyorfHH/KQv4X/wDZGfHn/p28IV6l45/5EnWP%2BwVcf%2Bi2ry3xx/ykL%2BF//ZGfHn/p28IUAezUUUUAFFFFABRRRQAV4z%2Bwf/yRDXP%2ByzfEf/1Ndbr2avGf2D/%2BSIa5/wBlm%2BI//qa63QB7NRRRQAUUUUAFFFFABRRRQAUUUUAFFFFABRXK/FP45fBf4HaSmufGX4seHPCtpIcRT%2BINZhtFlPonmsN59hk14V4p/wCCy/8AwTb8L3n9mj9pO11W7Jwlt4f0K/vy/wBGggZP/Hq48RmOX4R2r1oxfZySf3Xv%2BB9Jk/B3F3ENP2mV5dXrx/mp0ak46b%2B8ocunX3tOtj6for5L/wCHy/7LF/8A8ih8PPiz4gJ%2B4NG%2BGd6%2B/wCm8JQf%2BCp/iDXR5fw8/wCCbn7SWqO3%2Bqm1D4fLYW7n/rrJOcD3xXL/AG5lL%2BGqn6KUv/SYM9z/AIhX4hR/i5fKn/18nRpf%2BnMRD8j60or5KP7V3/BUXx5%2B7%2BG//BMqw8Owv/qtU8d/FGzAHu1tbr5o/Oobv4L/APBX342Q/wBlfFP9qX4afDDSbo4vE%2BFvh26vNQEPdEuL4jypCOPMT7p5HpR/a0Z/waNSf/bjivvm4r8GNeHtbDO%2BZ5ngsMut8TCtP5U8NGvJvy5ou%2Bl1uvoL4uftOfs6fAO4trP42fHLwp4UnvVLWlvr2uwWskyjqyo7BivuBivOvFv/AAVN/wCCePgzQZ/EOqftdeC7mGAZaDR9VF/cOewSG2DyOfopqv8ABX/glz%2Bxp8HRc6vqnwvh8eeI9R%2BbWPF3xKK63qN8/GXZ7lWRCcc%2BWiZ75r03w3%2BzD%2BzV4N1qDxJ4Q/Z58DaVqNq262v9N8JWcE0TequkYZT9DQnntRXtShfo%2BeTXq1yxb9LLz6jlHwpwcuRyx2Jcd5R%2BrUITf92M1Wqwi9k5OU7a8qfunz9bf8FIP2kPi051X9kj/gmh8QPGWgKMrr/jDXrPwrFdDs9st4HM6H%2B98p9RUx/a6/4Kl3n%2Bj2f/AASLjtnbpPd/HjR2jT3IWLJ/CvrSij%2Bz8dLWeLnfyjTS%2BScZNfexPi7hWk%2BXD8PYflWzqVsZUn6ylGvSjJ%2BlOK6JWPks/Fj/AILLeIv%2BQN%2ByZ8HvDm7p/wAJB47uLzb9fsqjP4Uh8K/8FtfF37nWfit%2Bzz4Qif8A5beHdD1a/mjH%2B7dkIT%2BlfWtFH9lOXx4iq/8At9L/ANJgvzF/r9Tpf7tk2Ap%2Bbw8qjXzq4if4xZ8lD9hr9vjxj%2B8%2BK/8AwVe8VbX%2B9a%2BC/AWnaOIx/dWRCzH6kZpR/wAEj/BetfvfiX%2B2n%2B0T4qkb/WJqvxRkWH6KkUS7R7Zr60oo/sTLX8cXL/FOcvznb8A/4ihxrT/3avCgu1HD4Wl/6Rhm/wDyb5nyZH/wRJ/4J53ribxl8NPEPiWQHPma9481WUk%2Bp2XCA1v2P/BH7/gmtp9uLaD9k3QGUdDPd3crf99PMSfzr6Uoqo5Jk0dsND/wGL/NMxreKHiTXVp5zirdlXqRXyUZQS%2BSPn3Rv%2BCU/wDwTp0K6%2B12P7Ifg53Ha9sWuV/75lZl/SvQPC/7I/7KfgjafBv7M3w/0kp91tO8G2MJHvlIgc16FRXRTy7L6P8ADowXpGK/9tPIxvGPF%2BZK2LzLEVF2lXrSX3Orb8DKuvAvgm%2BsF0q98HaVNaoMJbS6fE0aj2UrgVnaJ8FPg34av21Xw58JfDOn3TNua5stBt4pCfUsqA101FdDpUm7uKv6L/I8eOPx8IOEa01F7pTkk/VKST%2BaYdOlFFFaHIFFFFABXjP7L/8AyW/9o7/ss1j/AOoV4Xr2avGf2X/%2BS3/tHf8AZZrH/wBQrwvQB7NRRRQAUUUUAFFFFABRRRQAUUUUAFFFFABRRRQAUUUUAFFFFABRRWb4y03WdZ8IarpHh3UvsWoXWmzw2F5kjyJmjZUkyORtYg8elAGV8Ofjb8GPjDcavafCP4u%2BGPFMvh%2B/Njr8XhzX7a%2BbTboEgwXAhdjDICrfI%2BG4PHFLrnxq%2BDfhjVtd0HxJ8WvDOn33hbw%2BNd8TWV9r1vFLpGlHzcX90juDb2x8ib99IFT9zJ83yNj5J/4J%2BWGt%2BH/Hvga/ufgd418GWXhH9n7w58PfE1vq/gbULRZtehndhbRsYALm3tBHdE3yFrT/AImClJ23vjz/AME/st/tOP8AGT42aN%2B2Z8I9Og0b4n/s/X1l8RfiB8MNe1XXLq/ubu5v4jHYW76HGXmhtHjghtFM0kUFta/8fDO1AH3r8KPjZ8Gfjz4cm8YfA34ueGPGekW961ncap4T1%2B31G2iuFRHaFpbd3VZAkkbFScgOpxgivjz/AIKKan/Yv/BWr9iHU923M3jq2z/12h0WLH/j1e5fsNeMfjJ4psvGlj481jxlrnhXS/EEFv4A8UfEXwSPD2t6lamyga4E9l9ksyEiuTLHHMbWAyKCNrhBLJ8mf8FRf%2BFreGf%2BCqf7HOv%2BN/G3h6/0O58earb%2BGdP0rwzPZ3dhHLe6DFIt1cSXsyXbNvTayQ24XDZDbht83N5cmXzl2cf/AEumfa%2BHlD6zxfh6P80a6%2B/C4v8AyP0rooor0j4oKKKKACiiigAooooAKKKKACiiigAooooAyvA3/Ik6P/2C7f8A9FrWrWUPBmhplYGvoUySIrfVrmNF9lVZAqj2AApf%2BEP0n/n71X/weXf/AMdoA1KKy/8AhD9J/wCfvVf/AAeXf/x2j/hD9J/5%2B9V/8Hl3/wDHaAPD/EH/AATT/Z88S%2BI/jN4l1DV/Ewl%2BNunW1nrlumow%2BTogiUlpNNQwkQNNORczCXzUlmVSylfkL/BX/BO74c%2BFvF0fxC8QfGLx94p8QH4nSeO7zWPEF7p/mXept4Vn8L%2BWyWtlDEluLCcsscSR4mRGzs3Rt7b/AMIfpP8Az96r/wCDy7/%2BO0f8IfpP/P3qv/g8u/8A47QB85f8OpPgxZ%2BF9A8A%2BHPjP8SNI8O6RY%2BEIdU0HTtT08QeIJvDTWp0y7vGexaUTbbK2SX7O8EcqRKGT5Vx9A6x8OtI8W%2BB9d%2BHXxCvrnxHpPiKG%2BttStdUjhUNZXQdXsx5EcYMSxuY1LZkKgb3dssbn/CH6T/z96r/AODy7/8AjtH/AAh%2Bk/8AP3qv/g8u/wD47QB5n8D/ANj3S/gYdT1bTfjn471/xBq0OiWNz4q8TT6bPfjSNKlkktdJHl2UcP2bE94ju0ZuW%2B3Tv54lKSpz3hz/AIJ7eEdM8RfFPUPFnx8%2BIHirR/jH/aSeOPDPiIaM1tc293A1stqlzb6bFfJBb27GGCL7SVjTJIZmZm9t/wCEP0n/AJ%2B9V/8AB5d//HaP%2BEP0n/n71X/weXf/AMdoA8k8D/sUS%2BArTxLq2mftUfE258YeJNH0fR2%2BIWoHQ5dU0/TdMmuJrWzgj/swWRTdd3m95baSWT7S5aQlYylef9gTwHZ%2BF/D1j4F%2BMHjrwv4m8PXOsz/8LC0e60%2BTWtQfV5hcap9oa6sprdhczpDKwSBPLa3hEPkrGqj2P/hD9J/5%2B9V/8Hl3/wDHaP8AhD9J/wCfvVf/AAeXf/x2gDwnVf8AglF%2BwJqc3w81CP8AZp8I2%2Bo/DS70aXQtbXwzYTajcxaXYixsba6u54HnuIo4VhABcMDbQkMNgFSeHv8AgnV4LsJfivYeNPj58QvF%2BhfGiLVYvHnhzxH/AGMYbqK%2BgNsYUurbTYb5IoLY/Z4I/tJSKMAYJ%2Bavcv8AhD9J/wCfvVf/AAeXf/x2j/hD9J/5%2B9V/8Hl3/wDHaAPHdB/4J5fATUH1u%2B/aOSf443%2BvQ6Vb3d/8YdF0jU/Lt9NF59hijghsYLZfKbUb9hJ5RmZryXdIwIA5rTP%2BCUv7O3gv4S%2BGvhF8FvFPij4d23hrStb0ldV8DjTLO71DTNXlil1CzuN1k8W2V7e2PnRxx3EZt4zHKh3Fvof/AIQ/Sf8An71X/wAHl3/8do/4Q/Sf%2BfvVf/B5d/8Ax2gDx7xT/wAE%2B/g34h8YWetaR4n8S6BoCP4fk1nwLoc9pHpOtyaHNHLpb3PmWz3KmFoYFIgnhWVII0lEiLtK/CL9iC5%2BDXiTx/4n8PftZfE69ufiLe6hfau%2Bqw%2BHpJLa9uVCRXMM66Ss5NpEqQ20U0ksEccaIYnCgV7B/wAIfpP/AD96r/4PLv8A%2BO0f8IfpP/P3qv8A4PLv/wCO0AeJXf8AwT08H6vFfeIvEvx%2B%2BIup%2BOrvxHpmtW/xMuZ9Jj1awn0%2BGeC0jhhh09NPEKRXV4hja0YOLuYvuYhlmvv2CdKf4Of8KN8P/tMfE3RdE1KTWZfGkmmz6ObrxXNqtzJc3013NNpsjQPJJNPg2X2URrKVjCBI9ns//CH6T/z96r/4PLv/AOO0f8IfpP8Az96r/wCDy7/%2BO0AeaeKP2PNA8YeLfD95rfxh8ZN4P8LanpWo6J8MIW02PRILrTfLaykLrZC/cRTQxTiNrsxmSNSVKjbVf4XfsQfDn4VfFm2%2BKGleO/FV/a6PNrU3hHwjqNxZ/wBleHJdWuRc372ohto7hzJJu2i4mmWFJHSIRodo9T/4Q/Sf%2BfvVf/B5d/8Ax2j/AIQ/Sf8An71X/wAHl3/8doATxz/yJOsf9gu4/wDRbV5d44/5SF/C/wD7Iz48/wDTt4Qr1E%2BDNDfCztfTJkExXGrXMiN7MrSFWHsQRXl3jj/lIX8L/wDsjPjz/wBO3hCgD2aiiigDjv2g/jNoX7O/wO8WfHPxJpl1fWfhTQLnUpNPsdvn3jRRlkt4txC%2BZIwWNdxA3OMkDJrz/wACfte%2BIYvCPxSufj98JYfDXiX4R6cNT8R6H4X19tbgu7B9PN7DNaXEltavKzBJ4TG8KES27gFkKSN6B%2B0J8GdD/aJ%2BBviz4GeJNUurCz8V6Bc6bJqFjt8%2BzaWMqlxHuBXzI2KyLuBG5BkEZFcV8D/2dPjF8N/FPij4lfEP40%2BHvEninxtcQnxHf2PgWbT7Vbe1sltrG3tbdtQnMKo/nTymSSYyvcOF8lQgUA434f8A7ePjzxl4f8Y6Xrfw2%2BHeg%2BL/AAt4C0PxwtnqHxcc6F/wj2ptd7Lq71RdMzaPElhdvIotpYgFiKzMshdMvwf/AMFG/Hvxd8A%2BC7n4D/s96N4o8X%2BMIvFN7a6WvxBMOi3Wl6DeQ2d1qNhqq2EhvoJ5ruxFq32eJZlugzNEqk1q/Az9hHxv%2Bz0/jL4hfC/xt8LNA8feLYNMsjd%2BGfgw2meHLWys5rmYL/ZMGqCWW4le8uWkuDeBmPkjbthCmnY/8E/fit4Ps9H8cfC79pnTtG%2BJNnf%2BLJdU8T3PgI3OlyweIrq3u7%2BC101b6NrUJcWVjLCzXEpDwMZfPMr5APffgr8WPCvx6%2BDfhL45eBWmbRPGnhmw13RmuE2yG1u7eO4i3DJw2yRcjPBrz/8AYP8A%2BSIa5/2Wb4j/APqa63XW%2BB/2cvhJ4L/Zz8P/ALKtx4Qstc8FeHvCVj4cg0bxFZxXkN1YWlvHBEk8cilJfkiTOVwSM4rhP%2BCdPhjw14K/ZuvvB/g3w9Y6RpGl/Fv4h2mmaXplolvbWkEfjPWljiiiQBY0VQFCqAAAABQB7pRRRQAUUUUAFFFFABRRXDfHz9pf4DfsveD28d/Hz4o6V4Z075hC1/P%2B9uWAyUhhUGSd8fwxqx74qKtWlRpudSSjFbtuyXzZ1YLA43M8XDC4OlKrVm7RhCLlKT7KMU236L7t13NRXt7Z6bZy6jqN3Fb28ETSTzzSBEjRRlmZjwAACST0r5BH7a/7av7WDCy/YQ/ZWfQPDs/CfFH4yK9haOh/5aWthHme4BGSsmduRhlFTp/wS58XfG111H9vb9snx18Tkdg03hHR5xoHh899jWtoQ0uOgferEZyOa8v%2B1KmI/wByouov5n7kPvkryX%2BGD8mfd/6iYTJ3fiXMaeEa3ow/2nE%2Bjp0pezpS8q1eLT%2BKC1RH4t/bx%2BNP7VHjy6%2BDH/BMnwtpmsW2mXfk%2BKfjL4mhc%2BHdMK/ehtAuDfz/AO5lBlT8ytvWzJ%2BxV/wUT8fIY/i5/wAFUtXs7SYYm07wF8O7DS2RT1CXe4yg%2Bhxkda%2BoPAfgHwT8L/CNh4B%2BHPhSw0TRdLgEOn6XplqsMECDsqqABzkk9SSSck1r0o5XOuufGVZSk%2BkZShBeSjFptecm293bZVW48w%2BVSVDhzA0aFGO061GjiMRN/wA86lWE4xk%2BkKNONOC0jz6yl82/Cj/gk5%2BxP8NdZPjHxP8ADi4%2BIniaXBu/FHxP1B9cu7hh/Eyz5hDdTlYwfevffC3gTwP4GtPsHgnwbpWjwYx5OladFbpj0xGoFatFd2GwODwitQpxj6JX%2Bb3fzbPls54p4l4iqc%2BZ4yrW8pzk4pLZKF1CKXRRpxS6JBRRRXUeCFFFFABRRRQAUUUUAFFFFABRRRQAUUUUAFFFFABRRRQAUUUUAFFFFABXjP7L/wDyW/8AaO/7LNY/%2BoV4Xr2avGf2X/8Akt/7R3/ZZrH/ANQrwvQB7NRRRQAUUUUAFFFFABRRRQAUUUUAFFFFABRRRQAUUUUAFFFFABRRRQAUUUUAFfnL/wAFtP8AQf2uP2U/FfT%2BwfEOoahu/u7dd8Kpn/x%2Bv0ar85f%2BC8v%2Bg%2BIvh34r6f2D4O1vUN393b4p8Epn/wAfryc9/wCRPXfaN/ucX%2Bh%2BgeFWviRlUP56yh/4MhVp/wDuQ/RqiiivWPz8KKKKACiiigAooooAKKKKACiiigAooooAKKKKACiiigAooooAKKKKACiiigAooooAKKKKACiiigAooooAKKKKACiiigArxnxx/wApC/hf/wBkZ8ef%2BnbwhXs1eM%2BOP%2BUhfwv/AOyM%2BPP/AE7eEKAPZqKKKACiiigAooooAK8Z/YP/AOSIa5/2Wb4j/wDqa63Xs1eM/sH/APJENc/7LN8R/wD1NdboA9mooooAKKKKACigkAZJr5M%2BNf8AwUD8afFDx7f/ALMH/BOHwnaePPG9ufI8Q%2BNrl/8Aim/COcgyT3ABW4mXBxDHu5U/fKNHXJi8bh8FBSqPV6JLWUn2ilq3%2BC3bS1PoOHuGM34nxUqWCilGC5qlSbUKVKF7OdWpL3YR7XvKT92EJyaiav7Zn7XnxJtviJYfsUfsWw2uqfGDxDAJ9Q1OeMS2PgrTDjfqN5kFd%2B0jy4mB3FlJVt0aS3vgF/wTH%2BB3wt8Yp8aPjDq%2Bq/Fr4lPtebxx8QJvtckDjkC0t2zFaop%2B4FBZBwHxxXU/sWfsbeFf2RPAl7BLr0/ibxv4nu/7R8feOdSGbvXL9slmJJJSJSzCOPOFBJ5ZmY%2Bz1xYfASxNRYnHRvPeMN401002c/5pWeukbJXf1Gb8WUMjwssj4WquGHs41q6XJVxUn8Tcv4lPD9KVBSinD363PUm40yiiivYPzcKKKKACiiigAooooAKKKKACiiigAooooAKKKKACiiigAooooAKKKKACiiigAooooAKKKKACvGf2X/8Akt/7R3/ZZrH/ANQrwvXs1eM/sv8A/Jb/ANo7/ss1j/6hXhegD2aiiigAooooAKKKKACiiigAooooAKKKKACiiigAooooAKKKKACiigkAZJoAKK84%2BA/7WvwB/aXu9Rsfgx42n1STTbO2vZBdaFfWAurG4aVbe%2BtTdwxC9s5TBMI7u3MkEnlttkbFGpftdfs4aP8AEPxx8LdW%2BKtjba18NvC8XiLx3FPDMkGi6bJG8izTXBTyQRHGZGjDmRI2R2VVkQsAej1%2Ben/BeLSTrPhB7ZQS0XwM8V3AI6jyvFXgWXP/AI5X2t8EP2hPhV%2B0Romoa78LdY1GZdI1AWOrWGt%2BHb7SL6xuDDFOqT2d/DDcRboZoZULxgOkqOpKsDXyj/wWD0j%2B24r%2By2btn7MfxHuMY/55ar4Plz/45XnZxD2mUYiPenP/ANJZ9n4cYj6p4h5PW/lxWHf/AJWpr9T7U8LasNf8MabrqnIvbCGcEd96Bv61friP2ZtX/wCEg/Zv%2BH2v79327wRpNxu9d9nE2f1rt67aM/aUYz7pP70n%2Bp8xmWH%2Bp5jXw/8AJOcf/AZzj/7aFFFFaHGFFFFABRRRQAUUUUAFFFFABRRRQAUUUUAFFFFABRRRQAUUUUAFFFFABRRRQAUUUUAFFFFABRRRQAUUUUAFFFFABXjPjj/lIX8L/wDsjPjz/wBO3hCvZq8Z8cf8pC/hf/2Rnx5/6dvCFAHs1FFFABRXmH7afxe8VfAP9kz4h/GPwNHanW/D/hS8utHe%2BiL28N0IyIpZVBBaJHKu65GVVhkZyPPvhR48/aT8M3fxz%2BBcfj6f4m%2BKvAGlWd/4F1vxNY2NlPf3F7pjyw2N2LCG2t8LdwOQ6RxkQ3EatuZDI4B9IUV8R/s3/tB/Gb4kar8RPgt8SP2kviX4Yt/DHw28MeL9T%2BJHjn4eaV4f1PQprm41SPU7RILzTY7X7Gg0weXcS28y/Nc7Z5wiulS4%2BKH7fnir4C/Df4laNrfxXuvDsms%2BKLrxHr3gXw54Vg8S6j4bjml/sK/uLLWoBAkk1sIppIbWFJm3jEEbEwqAfc9eM/sH/wDJENc/7LN8R/8A1NdbrttB%2BMfgPUPgXpXx20TWdV8QeG9Q8OWmr6fqWk6Bc395qFnPCkkU0dpZwNNIzo6vsjiz8x%2BUYwPO/wDgnT4hsPFv7N194p0q3vorbUfi38Q7m3i1PS57K5RH8Z60wEtvcIk0DgHmORFdTkMoIIoA90oorx/9uj9qax/ZC/Z01f4qQ6f/AGjr9w8el%2BDNDVSz6rrFwSltbqo5f5suwHOyN8c4rHEV6WFoSrVHaMU2/Rf1p3bS6mGKxNHB4ades7Rim2/Jf1ZLq2l1PV9Z1rR/DulT654g1a2sLK1jMl1eXk6xRQoOrM7EBQPUmvFvFP8AwUx/4J%2BeDg/9sftifD%2BQpncum%2BJIb0j2xblzn2ryrwB/wS0uPjRY6T8RP%2BCkPxt8V/FbxJJbw3V14QudUNl4c0q5Khmjhs7TYshRiU3khZAoJTnFeY/EH9nr4Bftt/tIS/se/sufA7wf4U%2BFfw%2B1CN/jL448LeGbSzm1S8Q5TQbW4hjVs5GZ3VsjBBI2gS%2BFi8yzeFOMqdKMXN2hGTbnJvXVR92KS1ldvlSd9bJ9/C2RcS8W4ipOKp4TC0YOpWq1uebp01om4U3FOc5ONOlSU3OdSSimlGcoV/i/8dP2vv8Agr7NefBv9hWzvPAfwTM72niX4ua9BJbSa%2BgYrJDZxcStEcNlF2s/CytCCUbs/g94L/4KF/8ABM3wLafC/wALfAPwX8Z/htpeTFdeALdNC8RRr/FNPaNuiu5Dgf6stI55Z%2B9fbnhjwz4e8F%2BHLHwh4R0S103S9MtI7XTtPsoRHDbQxqFSNFXhVCgAAelXq0p5HP2v1mrXl7dq3MrJJfyxg048vk9Xu5X24MS84xGB%2Bp/X60aalzKMGoUubVKUqKvTnK32qjqTS0jOK0Pl/wCH/wDwV%2B/Yq8Ta2vgz4m%2BLNZ%2BFniMD994e%2BKmgzaNND67pJAYF545krE17/gpz4l%2BOOv3Hw%2B/4JvfAHUvire285gv/ABxqe/TfC2nMPvbrqQBrlh/zzjA3DlGbpX098QPhf8NPixoh8M/FL4eaH4l01jltP1/SYbyEn12Sqy/pWh4d8OeHvCGh2vhnwnoNlpem2UIistP061SCC3jHREjQBVUegAFdDw2cT9ydeKj/ADRhab8tXKC9Um%2ByR5LwefVP3dTExUP5oU7VH5aylCP%2BJJvslufKx/aI/wCCvHhXjX/%2BCdngrxVt%2B83hj4tW9lu9wLxCaU/tif8ABUQjC/8ABHuXPbPx80XH/oqvrWiq/s7FLbF1P/Kb/F0yv7Jxi%2BHHVUv%2B4T/F0rnyS3xw/wCCxfiJTcaJ%2Bw58M/Digbvs/iH4lfbJGA/hDWqhdx6ZPGagb/gpv8YfhEp039rv/gnd8U/DF2oKxaj4ItovEum3Mn8Kie3ZPLZzgKjAnJwSME19e0Uv7PxkNaeKnf8AvKEl93LG3yYnleYU/epY2pzf31TnH/wHlhb5SR8fw/G//gq3%2B0xKNQ%2BBX7OXhb4M%2BGwfMt9U%2BL1zJdarfKOVAsbXm1ycBllyQMlWzgVZX40/8FjfhkRbeNv2Lfhl8TAPl%2B1fD74iHRgfRiupqx%2BoH4V9b0ULLK3xPFVObveNv/AORxX9asFk%2BI%2BJ4ytz9WnC3yhyOCX9Ns%2BR7j9rX/gqvqsJ03Rf%2BCTFppd1P8kGo6t8cdJntrZj/wAtJI4o1d1HUqpDHtVR/wBjL/go18b0PjL4/wD/AAUQvPBOsRDztF8NfCDRxb6Vp0/UefJORNqEfYxS4Bx97FfYdFDylVf94rVKi7OSiv8AymoX%2Bb%2BQPI1W0xWIq1V2clBfdSVNt9rvTsfHlj%2B0h/wUr/ZcuB4M/aO/ZWk%2BM9gQU0jx78ItkdxcsOgvdPlx5LkctIm2IcAButXG/bW/4KK%2BLx9n%2BGf/AASj1m283hL/AMY/ErTrBIf9p4dpdh7Kc19b0ULLsVH3Y4qaj0VoN/8AgTi2/mr%2BbBZTjYLkhjaih0VqbkvLnlByfk2r%2Bb3PkV4v%2BC3/AIgH/CUw3X7O/h/yPntvC0iatdG6HeOe5H3D6GPjOM4GaZ/w8P8A2ovgf/o37Zn/AATy8aaZaRcTeLfhhcR%2BItOK95pI4ysttH7OWb25r69oo/s3EU9aOJqJ/wB5xmn8nFW/7daD%2ByMVS96hjKql/fcakX6xlGNv%2B3XE8W%2BAf/BRH9i39pm6i0j4Q/tB6DearM2xNB1CZrDUC46oLa5EcrkHg7VI969pryn9oL9h79k39qSzlg%2BOPwJ0DWbqUYGsC0FvqEfoUu4dsy9uA%2BDgZBrxWL9h79uL9m0k/sTftv3GqaHEP9H8BfGu0bVbSMDpHHfxAXMMY6BFXgdSSM0fWM1wv8akqke9PR/OEn/6TN%2BgvrWd4P8A3iiqsf5qTtL505vX/t2b9D7Aor5Fh/bZ/wCCgHwqY6P%2B0H/wTQ13WZI/u678JvEVvqltdDuy20hWaH2V2JNSD/gsV8DfCksZ/aC/Z6%2BNnwrs2cJJrHjz4a3ENkjHoPMgaUkH120/7by2P8Sbh/jjONvVuNv/ACa3mV/rFlEf4s3Tf9%2BE4W9XKHKv/AreZ9bUV5d4P/be/Y68e%2BGB4y8K/tReArnTePMuH8VWsXkkjO2RZHVo2x/CwB9q5bx9/wAFRf8Agnn8NbV7vxJ%2B194ImWPO6PQ9YXVJB7bLPzWz%2BFdMsxy%2BEOeVaCXfmj/8kdk81yunT9pPEQUd788Lf%2BlHvVFfJVr/AMFrf2G2vIbnXNT8a6P4fuXEdn4y1fwFfw6VO56IsvllweRyyADPJFe/fDL9pX9nn4z6XFrHwn%2BN/hTxDbzfdbSdegmYH%2B6yq25W/wBlgCPSpw%2BZ5dipctGtGT7Jq/3aP5pNeZGFzjKcbPloV4SfZSV/udm15pNeZ29FFFdx6QUUUUAFFFFABRRRQAV4z%2By//wAlv/aO/wCyzWP/AKhXhevZq8Z/Zf8A%2BS3/ALR3/ZZrH/1CvC9AHs1FFFABRRRQAUUUUAFFFFABRRRQAUUUUAFFFFABRRRQAUUUUAFZvjLw%2BfFvhDVfCovntf7T02e0%2B0xjLQ%2BZGybx7jdn8K0qKAPkP9i74U/tG%2BCvHXg3xH8Wf2eNR8Nx%2BBfgzo3w3ZLbXNKuY9Uuo5g11qcIiuyV06MW0PleaEum%2B1ODbJs%2Bbym%2B/wCCan7cFnqXxX8L6v8AFfwN4utPGPwOutNi8SReCZtHm13xHNqd7fbLtn1e7KbpJgJJFhEIhljiiSNYAh/RKigDw39lPwn8VtS%2BLXxQ/aH%2BKXwn1HwGfG11o9rpHhTWdSsbq9it7Cy8trmdrC4uLdWkmmmVVSVz5UETNtZjGni37e/w08SL8X/FdzqvxZ8Q69a6/wDsn/FYaZoGq2unJaaKVm8M/LatbWkU7hiVJ%2B0Szn5F2lfmz9t183ftYaR/wkH7TWhaBs3fbv2bvibb7fXfe%2BFFx%2Btc%2BLh7TCVId4yX3xkv1PX4fxH1PP8AB4j%2BStRl/wCA1aUv/bTsf%2BCfGr/25%2Bwl8G9RL7mPwx0ON29WSxhRj%2BamvYK%2Bdv8Agkxq/wDbf/BOL4R3u7Ozwqtvn/rlLJF/7JX0TWOVz9pllCXeEP8A0mJ6XHWH%2Bqcb5rQ/lxOIX/let/mFFFFdx8sFFFFABRRRQAUUUUAFFFFABRRRQAUUUUAFFFFABRRRQAUUUUAFFFFABRRRQAUUUUAFFFFABRRRQAUUUUAFFFFABXjPjj/lIX8L/wDsjPjz/wBO3hCvZq8Z8cf8pC/hf/2Rnx5/6dvCFAHs1FFFAGZ408G%2BFfiL4O1b4feOtAtdV0TXdNn0/WNLvYg8N5azRtHLDIp4ZHRmUjuCa4v4VfsofBX4LWFxYfD3TvEMBvbya71O71Dxzq9/dajNJbRWu%2B6uLq6kluikEMUUXnO/krGoi2YFej0UAeJ6z/wTy/ZT8SfCrxD8GvE3hLxJqmj%2BLL2xuvEl1qnxI1651TUWs5EltUl1OW9a9aGJ0BSHzvKGXG3DsDq%2BI/2L/gp4t8B2Hw28Rav8RrrSdPN1sV/jN4nFxdJcbfOiurkaiJryIhQBFO8iKMhVUEg%2Br0UAU/Dvh7QvCPh%2Bx8KeF9HttO0zTLOK007T7OERw20EaBI4o0XAVFVQoUcAACvJf2D/APkiGuf9lm%2BI/wD6mut17NXjP7B//JENc/7LN8R//U11ugD2avi/4d/8bBv%2BChF98Zbj/SvhV%2Bz5ey6R4OB5g1nxWwH2q9HZ1tl2oh5w2x0PzMK9%2B/bb%2BMJ%2BAP7InxH%2BMEN35FzonhC9l06TdjF40RjtxntmZ4x%2BNea/s0r4T/4J7/8ABLDw94n8XWCW8fhD4cLrmuWwwjT6hNF9plhzjmR7iXygT1JWvFx84VsbCjUdqdOLqz/7ddop%2BV05Pvyo8qWCxOf8Q4XKKEXNtxlyrec3ONOjD51HzefLHomR/wDBQb9o34jW2paF%2BxF%2Byvfj/hbPxMjdE1GMkr4V0UErc6tMV5QhQyxdCXBK5ZVVvYf2Yf2bfht%2ByZ8FNG%2BB/wALdPMWn6VB/pF3KB5%2BoXTczXUzfxSyNlieg4UYVQB49/wTS/Z%2B8UaJ4Lvv2xvj3N/aHxW%2BMUMOr69dSxEf2Tp7qHtNLgU5McUUWzcvXcAGz5amvqCry6lUxFR4%2BurSmrRT%2BxDdL/FLSU/lHaJ%2Bs8Y4/CZPhI8KZXNSo0J81epHbEYlXjKSfWjR96lh09GlUrW5qqsUUUV65%2BdhRRRQAUUUUAFFFFABRRRQAUUUUAFFFFABRRRQAUUUUAFNnghuYXtrmFZI5FKyRuoKsp4IIPUU6igDxfxV/wAE6f2EfG3idvGXif8AZK8BXOoyczT/APCOQIJTnJZ0RQrt/tMCfeur8B/sr/sxfC26S%2B%2BGn7OngXw/cR/cuNF8JWdrIPffHGDn3zXe0VywwOCpz540op91GN/v5Tjhl2XUqntIUYKW91CKf38t/wASK/sLHVLOXTtTsorm3nQpNBPGHSRT1VlPBB9DXgXxH/4JU/8ABO/4q6lNrHi/9k3wqLm45ml0eGXTd57sRZvENx7t1Pc19BUVWIwmFxcbV6cZr%2B8k/wA0ysVgcFjo8uJpRmv70VL80z5If/gjF%2Byr4Z/f/Abx78VPhfcr/qrnwL8SL2Er6DFw0wI9qT/hkH/gpX8Ljv8Agn/wUsPiG0j/ANVovxR8C213ux033sJEx9OF96%2BuKK4v7Ey2P8KLp/4JSh%2BEZW/8lPO/1dyiH8GDpP8A6dynD8Iy5f8AyU%2BSF%2BKH/BZ/wP8A6N4k/Zd%2BDXjkxHBufCXjW50wTD1C3ynafXtmnD9s7/gpfa/uNR/4JC35mXh2tPjXo8kZ9wfLr61oo/s3ER%2BDFVF68kvxcLh/ZGLj/DxtVLz9nL8ZU7nyLN/wUw%2BNvwtf7Z%2B1b/wTc%2BKHgzSmGf7c8L3Ft4mtbZe73DWm0wqPox6cc12ngb/gq/8A8E6viBZxXekftaeE7LzR/qdfu20ySM9w63axlSD619DVxvjT9nX9n34kXMt58RPgV4N16ac5ml1rwxaXTSH1YyxsT%2BNL6vm9H%2BHXjNf34Wf302vxiL6rn1D%2BFiY1F/08hZ/%2BBUnH8YmNB%2B2j%2Bx1dQrcWv7WPw0kjcZR4/HenkEexE1ZviL9v79hrwpF5mu/tgfDSI4z5aeNbKSQj1CJKWP5VTn/4Jw/sB3EzTSfsafDQMxyQng60UfgBGAPwrR8O/sGfsReE5ftHh79kP4aW0oORMvgmxMg%2BjGIkfnT/AOF1/wDPpf8Agx/5fmO/Er0tQX/g5/hp%2BZ5N4p/4K5/BXxJrMngT9jj4beLfjn4mUANa%2BCdKkTTrVj903V/OoihQ/wB8BwDwcVt/8E4tf%2BM/ijVfjx4g/aE8Bab4X8XXXxmgfVfD%2Bk6kLyCxX/hEfDYhjEw4kfyPKLsPl3lscYr6I8OeF/DPg/S10Twl4dsdLskJKWenWiQRKT1IRAAPyryf9l//AJLf%2B0d/2Wax/wDUK8L1vhqGNjUdTEVeb%2B7GKjFffeTfm38jpweGzCFV1cVX5na3LGKjBeevNNvzcl10PZqKKK7j0gooooAKKKKACiiigAooooAKKKKACiiigAooooAKKKKACiiigAooooAK8T%2BJVjDqf7fXw2024H7u4%2BCfj%2BJ/o2q%2BEAf517ZXjPjj/lIX8L/%2ByM%2BPP/Tt4Qoauhxk4yTW6PN/%2BCI19Ndf8EyfhvaXR/f2LaxaTDP3THq94AP%2B%2BdtfV1fJf/BGH/Qf2QtT8KdP7B%2BJviWw2/3dt%2B74/wDH6%2BtK8rIn/wAIuHXaEV9yt%2Bh994qxS8TM5ktpYmrJek5KovwqBRRRXqnwAUUUUAFFFFABRRRQAUUUUAFFFFABRRRQAUUUUAFFFFABRRRQAUUUUAFFFFABRRRQAUUUUAFFFFABRRRQAUUUUAFeM%2BOP%2BUhfwv8A%2ByM%2BPP8A07eEK9mrxnxx/wApC/hf/wBkZ8ef%2BnbwhQB7NRRRQAUUUUAFFFFABXjP7B//ACRDXP8Ass3xH/8AU11uvZq8Z/YP/wCSIa5/2Wb4j/8Aqa63QB5Z/wAFe3f4g/DX4afsm2jFn%2BLnxb0bSNSgU8nS4Jvtd1J7hPKiJHvUH/BSfP7Qfxc%2BD/8AwTu0f57Pxr4iXxH8QIYvux%2BHdMYTGKQfwrPMqoh/vwgVN8Qv%2BL0/8FkvAPhEfvdO%2BDfwr1LxFOeqR6jqcoskjYf3/IUSDPQcjmof%2BCe%2Bf2lP2nPjL%2B3/AH/77TdR1ceB/hvM3KjRNOb9/PEe8dxc/vPZo2r5Kv8A7bjKtFf8vZqD/wCvdKKlU%2BTlLl%2BbPqfCv/YM0zji6e2BioUX3xEoujQt5wqVa1fy9hF9D6/jjSJFiiQKqgBVUYAHoKWiivrT5YKKKKACiiigAooooAKKKKACiiigAooooAKKKKACiiigAooooAKKKKACiiigAooooAKKKKACiiigAooooAKKKKACvGf2X/8Akt/7R3/ZZrH/ANQrwvXs1eM/sv8A/Jb/ANo7/ss1j/6hXhegD2aiiigAooooAKKKKACiiigAooooAKKKKACiiigAooooAKKKKACo7q6tbG1kvr24SGGGMvNLK4VUUDJYk8AAc5qSqPijw9YeLfDWo%2BFNVLi11OxmtLkxNhvLkQo2D2OGNAHlf7M/7afgH9p7VH0jQPh/4t8NS3Phmy8TeHT4ssrWH%2B39Cu3kS31K1EFxMVjYx/NFOIbiMSReZCnmJnF8cf8ABQDwf8KJvG9p8YvgZ4%2B8K3Hgv4ca546httRXSLh9f0XSTGLyay%2Bx6hMEcGa3Cx3Rtmbz1wPlk8vmv2Tv2Yf2n/hJ4w8N%2BKvi%2BngW9fwX8NNK%2BHmitoHiC8zfafBLvutXmWWxUQ3Eogs9lipkSMrLm7fcuK1j%2ByT8Wtc%2BO3jT45%2BKf2dvgto6%2BJPhvq/hzxD4Y0XX7m5t/iRcXM1qbebXZn0iHykhgguYFHlXrhNSnG4qm2QA%2BgfhD8RPE3xN8LP4k8U/BXxP4EmF0Y4dI8WXWlzXM0WxGE6nTL27iEZLlQGkV8xtlANrNwXjj/lIX8L/APsjPjz/ANO3hCqH7EP7NnjD9nmHxvda94O8G%2BC9N8U%2BIob/AET4b/Du/mudE8PRx2cMEhgeS1tAHuJI2mkWO2hjDMOHcvI%2Bbf8Awx8N%2BDv%2BCm3gvxnpOpeIZrzxD8HvHEl/Dqvi7Ub60iKat4SwLa1uZ5ILIHccrbpGGwNwO1cAHJf8Ek/9A8M/HnwoeP7F/aa8W2iL6Jvt3B%2Bh3GvrSvkv/gmr/wASr45ftS%2BFOnk/Ha7v9v8A19W0T5/HbX1pXk5HpldOPbmX3TqI/QPFL3uO8XU/nVCf/geFwkvzuFFFFesfn4UUUUAFFFFABRRRQAUUUUAFFFFABRRRQAUUUUAFFFFABRRRQAUUUUAFFFFABRRRQAUUUUAFFFFABRRRQAUUUUAFeM%2BOP%2BUhfwv/AOyM%2BPP/AE7eEK9mrxnxx/ykL%2BF//ZGfHn/p28IUAezUUUUAeRft9fELxp8KP2KPin8SPh5rMmmazovgbUbqy1eGMM%2BmlYG3XihgVJgXdMNwK5j5BGRXnPwOsfiPoGr/ALQ37PPwT%2BLms6hD4bstP/4QHX/G/iW712TRtXvtFErQS3l7JNPNEkn2W82SO%2B0XpCgRmNF%2Bnr2ys9Ss5dO1G0iuLe4iaOeCaMOkiMMMrKeCCCQQeCDXIeBP2cP2ePhdodn4Z%2BGXwF8F%2BHNN0%2BS5ksNP0LwtaWcFs9ygS4aOOKNVQyqArkAbwAGyKAPjP4IeMdT8J6n8XPhT%2B1drPxU8CeAfB/wz8Ha74ju/EXxovNR1iHW5rrVUvDbalp9/PcxRXYtLMR2cE0cjcbbaH7UEe5oeh/GDWI/hR8Cf2lvjB8RPAnhrXvDHxH8Wxyn4g3tlrumRWuoac2hafqGqQzie4mttL1G6mljklkDPY4la4ELO/wBWW/7G/wCyHafCy6%2BBlr%2Byt8N4/BN7qCX954Oj8DaeulT3aMjpcPaCHyWlVo42DlSwMakHKin3X7H/AOyVffDay%2BDV7%2By78OpvCGnaidQ0/wAKS%2BCbBtNtbs7s3EdqYvKSX53%2BdVDfMeeTQBjfswfF74peMf2Evhp8c/HXgPVNe8Z638LdC1nXfD%2Bjra293dajcafBLcRRi7mggjbzXfiSSNRjGR0rJ/4J06tf69%2Bzdfa3qvhi%2B0S5vPi38Q5rjR9Tkge5sXbxnrRMMrW8ssJdCdpMcjpkHazDBPuaIkaCONAqqMKqjAA9K%2BfP2Y/Gtv8ADX9kL4gfEW8K%2BToHxI%2BKepS7um2Dxfr0pz%2BC1M5RhByey1%2B7Umc404Octkm36JXf5Hy9H8cJPBvwy/be/wCCgFvcsLvVPFLeB/BtypySdPgTTbaWEd1ae6V%2BOpjJPQ19q/sVfA6L9mz9k74f/BH7MsVxoHhi2i1JUGAb11826b/gU7yt%2BNfn38EvBFx4x/Zv/Yv/AGNbgNPN468W3fxI8cM3JubC0lnv1E/qsxnjQHuYlr9VK%2BX4ejKtUdeXSKX/AG9UbrT/APSoR%2BR9XhYSybwhyfCS0q4%2BpWx1TvytujRT%2B%2BvJff6lFFFfVHywUUUUAFFFFABRRRQAUUUUAFFFFABRRRQAUUUUAFFFFABRRRQAUUUUAFFFFABRRRQAUUUUAFFFFABRRRQAUUUUAFeM/sv/APJb/wBo7/ss1j/6hXhevZq8Z/Zf/wCS3/tHf9lmsf8A1CvC9AHs1FFFABRRRQAUUUUAFFFFABRRRQAUUUUAFFFFABRRRQAUUUUAFFFFABRRRQAV4z44/wCUhfwv/wCyM%2BPP/Tt4Qr2avGfHH/KQv4X/APZGfHn/AKdvCFAHmP7D/wDxKv8AgoR%2B114U6eT4k8K3%2B3/r60l3z%2BO2vrSvkv8AZw/4k3/BW/8AaS03p/bPhLwff4/veTaSQZ/XFfWleTk2mElHtUqr/wAqSf6n6B4le/xDQq/z4TAy%2B/B0Yv8AGDCiiivWPz8KKKKACiiigAooooAKKKKACiiigAooooAKKKKACiiigAooooAKKKKACiiigAooooAKKKKACiiigAooooAKKKKACvGfHH/KQv4X/wDZGfHn/p28IV7NXjPjj/lIX8L/APsjPjz/ANO3hCgD2aiiigAooooAKKKKACvhD48ePj8N/wDgjr8d9fSXY1149%2BJOlLg8k33jrV7LA%2Bv2ivu%2BvzZ/ap1W0vf2JPCnwkvHzB44/bQ8TabqMY/58o/HWvXMzkf3VECk/UV5mdVHSyiu1vytL1l7q/GR5OfSqRybEKn8UouMf8U7Qj%2BM0d9/wT38AjxJ%2B234y8TPDu0r4GfC7w78KvDzdU%2B0x26XGoYHQPHKgjJ64bHtX3RXyj/wRg0S7l/Ya074v68udd%2BJvinWvFniKXH%2Bturm%2BljDZ6nMUMVfV1ZZDTUMrpz/AJ7z/wDAtUvlFQXyP1PxKVLCcWVMpo/wsBClg4drYWnGlJr/ABVVWn58yfoUUUV7B8EFFFFABRRRQAUUUUAFFFFABRRRQAUUUUAFFFFABRRRQAUUUUAFFFFABRRRQAUUUUAFFFFABRRRQAUUUUAFFFFABXjP7L//ACW/9o7/ALLNY/8AqFeF69mrxn9l/wD5Lf8AtHf9lmsf/UK8L0AezUUUUAFFFFABRRRQAUUUUAFFFFABRRRQAUUUUAFFFFABRRRQAUUVHdXVrY2sl9e3CQwwxl5pZXCqigZLEngADnNAElFeO/sz/tp%2BAf2ntUfSNA%2BH/i3w1Lc%2BGbLxN4dPiyytYf7f0K7eRLfUrUQXExWNjH80U4huIxJF5kKeYmc7X/29PAXw78Q%2BKPDvxy%2BFPjPwE/hrwPqvi%2BKfX49Nuk1jRtOlhiuri1Gm3t04ZWubYLDOsMsn2hQiMVcIAe514z44/wCUhfwv/wCyM%2BPP/Tt4QrovgB%2B0ZpPx4PiHSLj4ceJvBniLwrqENp4g8J%2BL47MX1p59tHcwS7rK5uYJIpIpAVaOVsMkiNteN1XxL9rL4/6d8C/%2BCo37MOk%2BINqab498HePfDD3MhwsF1NdeGJ7X8Xlt1iA/6be1Z1q1OhT55uy0/Fpfm0Y169LDUvaVHZK2vq0l%2BLX3lfRb23%2BH/wDwWt1yw19zaJ8QPgdatoMkowl/c2V63nQoehkSLLleoUZ6Yr65r5h/4KmfB/xh4g%2BDOk/tNfBu03fEH4J6wPFXhzYDuu7WMD7fYnHJSW3UkqOXMSr/ABV7p8D/AIweD/2gPhB4b%2BNXgG787SPE2kQ39kSQWjDqCY3x0dG3Iw7MpHavMwD%2BrY2vhZdW6kfOM2r/APgM00/Jpn6VxZBZzw1lefUdoU44Oqv5KuHUnTfpWoTjON/tU6kVsdVRRRXrn52FFFFABRRRQAUUUUAFFFFABRRRQAUUUUAFFFFABRRRQAUUUUAFFFFABRRRQAUUUUAFFFFABRRRQAUUUUAFFFFABXjPjj/lIX8L/wDsjPjz/wBO3hCvZq8Z8cf8pC/hf/2Rnx5/6dvCFAHs1FFFAEd7e2enWcuoahdxQW8ETSTzzSBUjRRlmZjwAACST0rn/hh8ZPhD8bfCQ8ffBj4qeG/F2hGeSEa14Y1y3v7TzE%2B%2BnnQOyblyMjORnmuG/b7%2BH3jT4rfsUfFP4cfDzRpdT1nWfA2o2tlpEDhX1MtA26zUsQoM67oRuIX95yQMmvKfhFpOh/G3xT8e9R1D4f8Aj/wx4I%2BLlha6RpcV94F1PSL65a30IW1/fCC4tkktGMckFrE86IZWsMRiRQhYA9z0z9rH9ljWvhxrPxi0b9pb4f3fhHw5P5HiHxVbeMrGTTdLlyo2XFyspigb504dgfnX1FO8c/tV/svfDDwjoPxA%2BJX7SPgHw9oPiqBZvDGt654wsrSz1iJollV7WaWVUuFMbK4MZYFWDdDmvlP9lfSfiD4T8Q/FX48fFQ%2BKPEHgez%2BFPhPwloKwfAHWtCvNQuNMn1V98WgSJPqEzxrfWoa4SJY3Zn8qOOO3JrG8F2luf2C/2avGbah8ffAXxB%2BG3wtj0fSbPwz8CNTvryPVY9Gs7S6s7%2ByvdHnMcJkTasrC3STaxjuAAWAB9/WV7Z6lZxajp13FcW9xEskE8MgdJEYZVlYcEEEEEcEGvyZ/ao8W74vB/huKT914V8TftC%2BMb5c/dlt9b16Oxb/wIJGfev008G3Xx58Vfs8aFqHiFdC8K/EnUPCljNrMV3psmpadperPBG1zGYYrmF54klMigLOpIAO/1/G/4p%2BIfFN7YftFa54r1iy1PU/AXhDxV4WvrjStOe0t5tU1j4o6k0ksMDyzPCHhd8RtLIVTgu2Nx%2Bc4qq%2Byyhru1%2BClN/8ApKO7Isv/ALZ4xyTLLX%2BsY7Bwa8vrFOcvly03fyZ%2BsP8AwTq8Jf8ACEfsHfCDw80Wx1%2BHelTzJj7sk1skzj67pGr2asb4d%2BF4/A/w/wBC8FQgBNH0a1skC9AIoljH/oNbNe3hKXsMLTpfyxivuSX6HTxBmH9rZ/jMde/tqtWf/gdSpNfhJBRRRXQeQFFFFABRRRQAUUUUAFFFFABRRRQAUUUUAFFFFABRRRQAUUUUAFFFFABRRRQAUUUUAFFFFABRRRQAUUUUAFFFFABXjP7L/wDyW/8AaO/7LNY/%2BoV4Xr2avGf2X/8Akt/7R3/ZZrH/ANQrwvQB7NRRRQAUUUUAFFFFABRRRQAUUUUAFFFFABRRRQAUUUUAFFFFABVHxR4esPFvhrUfCmqlxa6nYzWlyYmw3lyIUbB7HDGr1FAHy9%2Byd%2BzD%2B0/8JPGHhvxV8X08C3r%2BC/hppXw80VtA8QXmb7T4Jd91q8yy2KiG4lEFnssVMiRlZc3b7lxy/wARf2Avi/8AHfxr8SfGGveCfhf8Lrrxr8L9X8N3194D1K41OfxTqk89pLp2q6t5mn2X/Hl9llVI8zuy386CZFX5/smigDxz9mP4R/GTw74%2B8f8Ax0%2BP9n4Z0/xN46utMhXQ/CGs3Go2On2NhaeVEv2q4tbV5pXlluZWPkoFWSOMb9hkf5k/4Ka/sV2Pxi%2BPNlP8ONS8TN42n%2BDfjTxJ4Ze98XajfRWer6dq/hKa3FjbXM8kFiZMyREW8cYbzQWB2rj7%2Brxnxx/ykL%2BF/wD2Rnx5/wCnbwhWGKw9PF4adGptJNP5/qt15pHNjMLSx2EqYep8M00/mt15rRrzSNn9jz9oPRv2sf2X/Bvx505Iv%2BKj0OOTUrZOVgvEzFdQ49EmSReeoAPevnn9jnxFp/7CP7U3iz/gnr4/um0zwp4n1iXxJ8CL27UrbTwXJL3mjxuflDwTElI87mDsTy6Bj9knxV4e/Yp/bZ%2BJX7DnjnVYtH8P%2BOtdHjL4ONe5jgujeD/T9Ohc/KGinUbIgckbjjLDP0L%2B1p%2Byj8Mf2wvhLcfC74jQzW8scy3fh/X7Btl7ol%2BnMV3byDlHU9RnDDKng14lP6zjcLTrwa%2BsUW4yT0Ta92cX2U0lKL6NxequfT%2BG/E%2BAWX4jKc8b%2Br4hRpV3FXnRrUpN08RGP2nBtycNHUoVqkIyT5GenUV8j/st/tr%2BMfhV47i/Yl/4KC6pb6L8RrJxB4T8aXKGHTPHdnwIriGZgEW6OVV4iQS54%2BYlF%2BuK9fB42jjqXPT0a0cXpKL6qS6Nfc1qm00y%2BJOGcz4Xx6w%2BKSlCa5qdSHvUq1N/DUpTtaUX8pRleE4wnGUUUUUV1nzwUUUUAFFFFABRRRQAUUUUAFFFFABRRRQAUUUUAFFFZeu%2BN/BfhcFvE3i7S9OA6m%2B1COHH/fbCk5Rirt2FKUYq8nY1KK84139sX9kbwvuHiX9qb4c6eV%2B8L3xvYREf99SiuN13/gqJ/wAE8vDu7%2B0P2wvAkm3r9g1tLr8vJ35rlnmGApfHWgvWUf8A5I4qmaZZR/iV4L1nBf8Atx7zRXytq/8AwWy/4JjaRL9mP7TkN3MThItO8L6rcFz6Ax2pH61T/wCH0H7Ieo/8iZ4X%2BJ/iPP3P7D%2BGt/Ju%2Bm9ErleeZMnb6xB%2Bkk/yucb4k4fTt9apv0kn/wCk8x9a0V8lf8PZLXVPl8G/8E9P2nNXz9yeL4VmKE/8DecY/Kj/AIeJ/tS6x/yJ3/BKX4tz5%2B7/AG1e2WnfnvZsUf23lr%2BGbfpCo/ypi/1iyd/DUcvSFV/lSPrWivkr/hr3/gqHrXHh3/gksLRD9251r42aUmPrGse79aP%2BFvf8Fldb/wCQX%2Bx98I9Dz0/tn4gTXO36/Z1Gfwo/tjDv4adR%2BlKf6qIf29hH8FKrL0o1P1UT61or5Kx/wXI1vv8Asw6JEf8AsP3My/8Asho/4VD/AMFlNa/5Cf7YPwj0TPX%2Bxvh/Nc7fp9oYZ/Gj%2B1Jv4cNVf/bqX5zD%2B2akvgwlZ/8Abij/AOlVD61or5K/4ZG/4Klawc67/wAFZ4rJD9630f4IaUPykeTcKP8Ah3t%2B11q3/I2f8FYPihNn739j6HYWH5bA2KPr%2BNfw4SfzlTX/ALcw/tTMZfDganzlSX/t8j61or5K/wCHVmvapz4s/wCCln7Tl3n70dj8SltI29iqW54/Gj/hzp8A7/8A5Gv9oH45a9n739r/ABTun3fXYq0fW81e2FS9asP0iw%2BvZ3L4cGl61ofpBn1qSAMk4A6mvEvFuq6XqH/BRD4Z29hqVvPJD8GfHfnJDMrGPOreEcbgDxnB6%2Bhrzcf8EQ/%2BCdt6d3in4X%2BINdP8R1fx9qz7vrsuVqP4P/sU/swfsdf8FBfA8H7N3wqg8Mrr/wAGfGn9sGLUbq5Nz5GreFPK3G4lkI2%2BdL0x985zxWtCrmk6qVWlCMetpuT%2B7kS/E3w1bOZ1kq9GEYdWqjlL5L2cVv5n1zRRRXoHqBRRRQAUUUUAFfih4c8Htrlv8fpHjLj4mf8ABQaLwQgPO8WviDU7lkHtmUE/hX7X1%2BW/gr4dHTfix8HvATohk8aftz/FbxrJEhzn%2BzNd1ONWPuEiU%2B1fPcSUHXwcV/eS/wDAuWH/ALcz7Lw3wzqeIuW4vphXiMQ/L2ODxU4v5S5WfqRRRRX0J8aFFFFABRRRQAUUUUAFFFFABRRRQAUUUUAFFFFABRRRQAUUUUAFFFFABRRRQAUUUUAFFFFABRRRQAUUUUAFFFFABRRRQAV4z%2By//wAlv/aO/wCyzWP/AKhXhevZq8Z/Zf8A%2BS3/ALR3/ZZrH/1CvC9AHs1FFFABRRRQAUUUUAFFFFABRRRQAUUUUAFFFFABRRRQAUUUUAFFFFABRRRQAV4z44/5SF/C/wD7Iz48/wDTt4Qr2avGfHH/ACkL%2BF//AGRnx5/6dvCFAG/%2B1D%2Byp8Gf2vvhlN8L/jN4cN1bh/P0vU7V/KvdJugPkubWYDMUinvyGHysGUkH5w8MftMftff8E/oZfhl%2B2Z8KfFfxS8EaWwXQfjT4I0wXtz9i/hGq2gbzI5IxgNOMhuP9Y2WP2tRXnYnL1Vre3ozdOptzJJprtKL0kl02a6NbHlYzK1WrrE4ebpVrW5kk1JdFOL0kl02lHXlkrtHzhqPxi/4Jq/8ABSr4UP8AD/VviZ4J8Z6TqHMek32ora6jaS4wJI4pTHc28oyQHUKeoyQSK8%2B0/wAP/wDBQz/gnrCdN8D2Vz%2B0R8I7Q/6Fp1zeCPxhodsOkaORs1FEH3Vx5jcKBGor274yf8E%2Bf2J/j/qNxrfxa/Zm8J6pqN0c3WqppotruY%2BrzwbJGPuWzXlY/wCCMP7J%2Bh5i%2BFvjr4reBrcf6mz8JfEu%2Bhih/wB0StIR%2BJNeXisFm06iqqEfaLRThNwbXaUZxlGS8m2l0a3PqMh434xyHBSy3FYWhjsFJ8zo1JzjHm2c6d050KjWjnRqK%2BinGokkvS/2a/8AgoR%2Byp%2B1NJ/Yfw9%2BJEVh4micxX3gnxMn9n6zaSr96NrWUhnKngmMuoPG6va6%2BD/iP/wQC/Z2%2BK%2BuR%2BJPH/7Uvxx1y/hVVt73X/F1pfTwqOirLNZlwBgYGeKwPjB/wSF/bh0LRRa/sp/8FVvihDBbRBLPQfGXiu/RFUDAUXVrJ8g7BRBgfhRTx/EWHpN4jCKbXWE4XfrF6X9JMMZVy/N8fCGUYSeFU91icVh3Tg%2B0a0KXM49nVoxlb4m3q/0Por8kB8A/2rPhB/ov7aHh39szXLSE4m8SfDD43J4htJl7yfZFhjngQd97Egc11Xw18Kf8EU/ixe/2J4t/bJ%2BJEWqK2y70j4nfETU9Jmhf%2B45nEMef91zWcOI6k5ckqMacu1SooP8AGCv8mztxPAHinSouvhsoWIpL/l5h8RSxMLd28Mqso/8Ab9OD8r6L9PtQ1TTNJgN1quowW0Q6yXEyov5k1x/iD9pj9nDwnu/4Sn9oHwRpm3739oeK7OHH13yCvnjwR/wR1/4JR%2BKrGPxV4c%2BDln4phk%2B5qh8eanfRyf8AAluyh/KvQPD/APwSw/4J2eGtv9nfsf8AgmTb0/tDS/tf5%2BeXzXpqrnVRXjTpJf45y/KC/M%2BHqPieE3CdClCS0alOo2n5pU4tPy0L/iH/AIKV/wDBP7wxu/tP9sf4duV6iw8UW92fygZ64fW/%2BC1f/BMvRJvsp/abt72cnCQ6X4a1O6Ln0Bitiv617D4e/Y9/ZJ8Jbf8AhFf2XPh1ppX7psPBNhER%2BKxCu40Twv4Z8NRfZ/Dnh2w0%2BPGNllaJEMfRQKfJnkt50o%2BkZy/OUSPZ8ST3qUY%2BkKkvznE%2BWP8Ah8t%2BzJqv/IgfCn4w%2BK8/c/4R34Y3km/6eZso/wCHoXxC17j4f/8ABMb9oy8z9x9c8GRaYje%2B6SZuPevrWij6pmsvixSXpTj%2BsmH1HO5/FjEv8NGH/t0pHyT/AMNr/wDBRrxBx4H/AOCSGs7G6T%2BIvixpVhs9yjIWP0Bo/wCFvf8ABZbxH/yBf2P/AIR%2BG93T/hIfH815t%2Bv2VRn8K%2BtqKP7OxMvjxVR%2BnJH8oB/ZOMl8eNqv09nH8qbf4nyUNB/4LfeI/wDkJePf2bvDaN0/sjS9avJFHv55Ck/Tij/hmj/grT4iH/E7/wCCmXhnw%2BG%2B8nh/4N2V1j2BuZAfxr61oo/sik/jq1ZetSS/9J5Q/sKhL469aXrWmv8A0lQPkr/h33%2B2Jrv/ACPX/BWL4lXG77//AAj/AIc0/S8/Tyw22j/h07b6v83jr/goV%2B0zrWfv28nxRMNuf%2B2ccAx%2BdfWtFH9iZa/ii5es6j/OYf6u5Q/jg5f4qlWX51D5K/4csfsX6l/yPF78RPE%2Bfv8A9v8AxH1GTf8AXy5ErT0L/gi7/wAEyPDxDWX7KumzMDktf67qV1k%2B/nXLV9RUU1kmTRd/q8L%2BcU/zuOPDmQRd/qtNvzim/vlzM8R0L/gmt/wT%2B8OgDT/2N/h1Jt6G%2B8K211/6OVq7PQ/2Wv2ZPDGP%2BEa/Zz8Cadt%2B79h8IWUOP%2B%2BIhXd0V1QwOBpfBSivSMV/7adtPLcuo/w6EF6QgvyiU9J8PaBoEXk6FodnZJjGy0tkjH5KBVyiiulJJWR2JKKsgooopjCiiigAooooAKKKKACiiigArxnxx/ykL%2BF//ZGfHn/p28IV7NXjPjj/AJSF/C//ALIz48/9O3hCgD2aiiigAornfi58UvBvwP8Ahb4i%2BMfxDv3tdC8LaLc6pq08ULSyLbwRNI%2BxFy0jkKQqKCzMQACSK4j4d/tg%2BBPF3gnxz4v8eeC/Enw/ufhrE0/jbQPGMFqb3TLYWS3y3JNhcXMMsT27FlaKVzuSSNgskboAD1mivDfCX7cmm%2BMfCPifVbL9m/4kW/iPw1oOl67/AMK/u4dIGsalpeovNHaXlvt1FrVUdra6BWa4ikj%2BzSeYifJuj1n9vvwBD8Jfht8UfBPwi8deLrr4p%2BDv%2BEq8OeEPDllYnVotIWzt7qe6nW4u4oFEK3drG6pM7tLcRpGshYUAe7V%2Bb/wNv7PXf%2BChvwt0q/mAi8Fa18bNfckE%2BX9r8bavYA4HOSRtGOSeK/Qn4f8Ajvwn8UvAWifE7wHrEeo6H4j0i21TRdQiBCXVpcRLLDKuQDhkdWGfWvzn/YE/4rH/AIKS/FPX/vr4ObxLonsjXfxR1e8/MgflXk5t70aFP%2BarD8HKX/tqP0Dw%2B/c1c1xn/PrA4pr1qRpUF9/tpI/Rr/hMNJ/59NU/8Ed3/wDGqX/hMNJ/59NV/wDBHd//ABqvnbx9/wAFkf8Agm98L/HetfDTxz%2B0b9h1vw7q1zpmsWX/AAiGsS/Z7q3laKWPfHaMj7XRhuUlTjIJHNZP/D8v/glp/wBHQ/8Alk63/wDIVVLPMlhJxliaaa/vx/zM6Phb4mYijGrSyTFyjJJprD1Wmmk001CzTTTT6pp9T6f/AOEw0n/n01X/AMEd3/8AGqP%2BEw0n/n01X/wR3f8A8ar528A/8Fkf%2BCb3xQ8d6L8NPA37Rv27W/EWrW2maPZf8IhrEX2i6uJViij3yWiom53UbmIUZySBzXfft/fGD4mfs%2B/sTfFP44/Bu002bxP4S8D6hqujrq8zJbrLBC0m99scm7aoZgm3DsoQsgYuvXhcbg8bFyw9SM0t%2BVp29bHz%2BecM8ScMVoUs4wVXDSmm4qrTnTcknZtKaTaT0bXXQ9L/AOEw0n/n01X/AMEd3/8AGqP%2BEw0n/n01X/wR3f8A8ar571P9tz42%2BFfiH458F/EL4FeBNC0/4ZfDy08TeOfE938VLo2Nu93FqjW9tbY0cSzqH0%2BMSyukRRLgtHHM6CKTmfht/wAFKtX%2BKuqeGdD1b4T6v4X1uL40S%2BDvEOkLLeW0MiHwfqGvwz7dY0e0vXhdIYk2/Z7SQSoGWWSFStx0nhn1V/wmGk/8%2Bmq/%2BCO7/wDjVH/CYaT/AM%2Bmq/8Agju//jVfPP7JX7fPxJ/aH0/RLjxz%2BzB/wj934s%2BE2i/EHwnpfh7xrDqs91p18wR4JzcQWUVvcQl4mKh5EdHyHDKY66n9qvxZ8VdS%2BLXwv/Z4%2BFvxX1DwI3ja61i61bxXo2m2N1exW9hZCRbaBb%2B3uLdWkmmhZmeJz5UEqrtZhIgB67/wmGk/8%2Bmq/wDgju//AI1R/wAJhpP/AD6ar/4I7v8A%2BNV87Wf7QX7SPxQ/4Ji%2BFv2gfh3YSv491vQNBn1q48NaKt3NFBJe2sWr3%2Bn2cgcTypZm8ura3ZZd7pEhWXO1uL%2BGvxv/AGjPjX8APiavgzxn8b9Q1j4XfFCbQ9HvNB8J%2BF9K8U%2BKLFtJ07UInurPX7OCyt9n9pFSqxWsrLbISgdnjIB9e/8ACYaT/wA%2Bmq/%2BCO7/APjVH/CYaT/z6ar/AOCO7/8AjVfHPxI/aH/aftv2U/gh%2B1v4Y%2BKuu3Mmu%2BHfCs/jufw1pmif8IVatcTWf9oX2oLfwDWo7eRbmZEFkd0Pkq0qRASOew8AfEn9ofwv%2B2Lrngb9onxx8StG0nxn4u1TS/g1FJpXhiXwvfwxaZ9sjiV7aFtVS7SO11C4Au3jjkW3cAvgLQB9K/8ACYaT/wA%2Bmqf%2BCO7/APjVX7C/tNTtEvrGcSRSDKsAR3wRg8gg5BB5BFfP/wCx/wCM/ivrPxt%2BJvgXUPjrrXxO8D%2BFY9MsLHxn4h0jTLWYeI1e9GradA%2Bm2trDcQW6Lp4ZvLZo55LiFpXeN0h9x8H/APIJm/7Cl9/6Vy0AatFFFABRRRQAUUUUAFFFFABRRRQAUUUUAFFFFABRRRQAUUUUAFFFFABRRRQAV4z%2By/8A8lv/AGjv%2ByzWP/qFeF69mrxn9l//AJLf%2B0d/2Wax/wDUK8L0AezUUUUAFFFFABRRRQAUUUUAFFFFABRRRQAUUUUAFFFFABRRRQAVW1nV9O8P6Pd69rF0sFpY20lxdTMCRHGilmY454AJqzVbWdI07xBo93oGsWontL62kt7qFiQJI3UqynHqCRQB4b%2Byd%2B2Z4s/aD8RWnhz4ifBSLwXN4j8AWHjfwUsHib%2B0mvtFupGQC6H2aEWl7Fm3MsCGeMfaU2TyYfbzvxT/AG9fit8Al%2BIVr8af2dNEtr7wp8GPEfxH8P2vhz4hPqA1Cy0jyw9rfM%2Bnw/2dPMZ4RGUF1GwW4wzeQQ2r%2BzP%2BxZ8T/gH4j0nxH4k/aA0zxVL4Z8GaZ4K8MNN4Ke0a28O2kju6zFb5xPqE%2BLYSXYEcP%2BirttV3NlnwI/ZO/aa%2BE3in4kePPGH7SHgTxX4h8fC4lTxBdfCe8hu7SRXP9nWspOtyRy6daQvJGtnEluXaR5jKJZZnlAPQf2VfjpqX7RPwt/4WTfXXw6uI5dQkhtLj4Y/EY%2BKNOkjVEzuvDZWm2YOXVohGwUKp3ksVXD8cf8pC/hf/ANkZ8ef%2BnbwhWj%2Bzb%2Bz14s%2BD/iPx18SPiV8RNL8R%2BKviFrltqGt3Hh7wy2j6dF9msobOFYbV7q6kD%2BXCC8sk8jOSB8qIiLxt/wDCP4UeBv8Agpt4L8e%2BCfhj4e0fXfE/we8cS%2BJda0rRYLe71Z49W8JeW1zNGgecrvfBcsRuOOpoA%2Bh6KKKACiiigAooooAK5f4k/BH4M/GSx/s34ufCbw14ng27RF4g0OC8Cj281Gx%2BFdRRUzhCpHlmk12aTX3O5vhsVisFWVbD1JQmtpRlKMl6Si4tfJo%2BWPE3/BGn9gvUtVfxJ4C%2BHms%2BAtXfpqvgLxXe6dInptQSNEuPZKoD/gnl%2B1f8Px/xYH/gqj8ULBI/9Tb/ABA0yz8TLj%2B6WnEZx2z2r62orzHkmV3vCnyPvByh/wCkSivwPt6fihx5yKnica8RFacuIhSxKt2/2ilVlbyU0fJQ8P8A/Baz4e8aZ8QvgN8Q7WP7x1rStR0m9lH%2Bz9nJhUn34o/4a6/4KbeCPk%2BI/wDwS7XWYE/1mpeCPilYzbv922lQSH86%2BtaKX9l1YfwsTUj6uM1/5PBv8Sv9esDif9/yTBVfONOrh5ffh68Y3/7ct5HyV/w9ft/DX7v4u/sD/tD%2BFyv%2BtvJPh2buzX1xNDKc/gtWdL/4LWf8E57i7XS/Evxqv/Dd63Wy8R%2BD9TtXX6sbcoP%2B%2Bq%2BrKrapo%2Bk65aNYa1pdteQN96G6gWRD9QwIo%2BrZxD4cRGX%2BKmv/AG2a/IP7a8OMT/HyatSf/TnGya%2B6vh6n3c3zPHvC3/BR/wDYH8ZbRof7YXw8DP8AcjvvFNtaO3sFnZDn2xXo3hj4yfCHxrt/4Q34q%2BG9X3/c/szXLe43fTY5zXM%2BKv2M/wBkLxxubxh%2By18O9Td%2Bst74LsZH%2BoYxZB9wa858Tf8ABIb/AIJteLd39q/sl%2BHIt3X%2BzJbmy/L7PKmPwovnsOlKXzqR/NSQez8KcRtUx9H1hhKy/wDJZ0ZP8D6Qor5L/wCHK37EOlf8k9tvHfhHH3P%2BEb%2BImpRbPp5sslH/AA6jfRjv8A/8FD/2ltGx9y3PxM%2B026/9s5IOfzo%2BtZvH4sMn/hqx/wDboIP7C8Oq38LO6kP%2BvuBq/nRxFRfmfWlFfJf/AAwL%2B2nof/Ijf8FZfiDb7fuf2/4Q07VMfXzNuaP%2BGbP%2BCtegD/iUf8FK/C2v7eg134OWdru%2Bv2aQ0f2jjI/FhJ/J03/7evyD/U7hyr/A4gwr/wAdPGU3%2BOHml/4EfWlFfJf/AAi3/BbjQv8AkF/FT9nPXgvT%2B2tE1i1Lf%2BA5OKP%2BE7/4LV6H/wAhT4DfAPXcdf7F8Uala7vp9oBx%2BNH9rJfFh6q/7h3/ACkw/wCIfyqfwM3wE/8AuaUH91ShD8z60or5LP7TX/BWbRP%2BQn/wTF8O61jqdG%2BNFhb5%2Bnnxmj/hu39u/Sv%2BRs/4JJ%2BMocfe/sf4g6Zf/lsC5o/tnBr4o1F60qn/AMiw/wCIacRz/g1sJU/w47Bv8HXg/wAD60or5M/4eafFnS/%2BRq/4JeftBw4%2B9/ZPhmC%2B/LZMuaT/AIe4%2BCrL/kaP2H/2ltEx946p8JJFC/8AfEzUf25la3qW9YzX50w/4hbx5L%2BHg1P/AAVsLP8A9Jxbf4H1pRXyX/w%2Be/ZDs/8AkZvDPxO0XH3v7U%2BG1%2Bm367Eanwf8Fvv%2BCZ3mC31X9oK602U/8stQ8FaxGfz%2ByEfrT/t3JeuIgvWSX52E/CnxMteOTYmX%2BGlKf/pDmfWNFfNOmf8ABYb/AIJqatj7L%2B1joSZ6fabK8h/9GQrXQab/AMFOv%2BCe%2Bq4%2By/th%2BAkz0%2B06/FD/AOjCtaxzbKp/DiIP/t%2BP/wAkefX8PePsN/FyjFR9cPX/APlTPdqK8o079vD9iDVsDTv2xfhbKT0RfH%2Bnbvy87Nb2nftP/s06vj%2Byf2h/A11np9n8W2b5/wC%2BZTW8cZg5/DVi/SUf/kjyq3DfEeH/AIuBrx9aNZfnSR3NFYWn/E/4aatj%2ByviHoVznp9n1eF8/k1bNteWl5H5tndRyr/ejcMP0reM4S%2BFpnl1cPiKDtVhKPqmvzSJKKKKoxCvGfHH/KQv4X/9kZ8ef%2BnbwhXs1eM%2BOP8AlIX8L/8AsjPjz/07eEKAPZqKKKAPP/2q/grdftGfs3eNvgdp2vR6VeeJ/Dl1Y6dqc0JljtLpkJgmdAQXRZQjMgILKCMjOa4L4MfBP49xeMviF8Tvj74H8AS3/wATI7ax1fw7o/ia7vtPsNOstPMFvD5lxp8LXpnmmu2l3RwiOOREAmKFm99ooA%2BR/wBnL9ir4u/s/T/Ej4x%2BG/hr4Ps/F3ibwfo3hjw14Jl%2BLuuavptrY6fJeupl1nULB7qNT9vkVLeK0MMCW0SIP3kjij8Lv2VP22/hL8IPgTrXhnRPha3xI%2BEPwnv/AIc3umXXjXUZNGvtPuYNIH9ox3Q0pZhMs%2BiWkn2Y2%2B0pJKnng4evsaigDzf4Pfs2eG/hZ%2ByZ4O/ZKm8Q6vc6V4S8B6X4YXVNL1e60u9mhsrSK2WVLi0ljmt3YRA5jkUjJGa%2BG/8AgjF4AtfDPxw/a11OxuL%2B4s7P9oGXQtOn1TU5724Edr4j1JmElxcO807kzKWkkdnY/MzEkmv0sr4h/wCCTvhVtH8GftFeJ7iP97rX7aHjZ43x1hi8RiJR%2BDLJ%2Bdefi6ftMVh/7spP7oSX6n1/DuNWDyDOY31q0aVP78VSk/wpn29RXzF4/wD%2BCmv/AAgXjvW/Av8Aw75/ae1r%2BxdXubD%2B2NA%2BE/2mwv8AyZWj8%2B2l%2B0jzYX270fA3KynAzWR/w9h/6xqftaf%2BGb/%2B6qzlnWWRk4upqv7s/wD5Wfm8uIcmhJxlV1Wnw1Omn/Po%2BtKxfiP8PPBnxc%2BH2ufCr4jaDFqvh/xLpFzpeuaZOzKl1aXETRTREoQwDIzDKkEZyCDzXz54B/4Ka/8ACe%2BO9F8C/wDDvn9p7Rf7a1e2sP7Y1/4T/ZrCw86VY/PuZftJ8qFN293wdqqxwcV7N%2B0n4w%2BJ3w8%2BAXi/4g/Bnw5aaz4n0HQLnUtH0W9hd01KSBDKbUBHQh5VRo0bdhXdWIYAqevDYzDYyLlRldLfSS/9KjH9TtwePweYRcsPLmS0ekl5/ajH8LmNB%2Bxr%2BzwvhXxT4O1PwhqWr2fjXw3b6D4ql8ReK9T1O61Kwg%2B0%2BTHJc3dzJPvT7XPiUOJRuX5/kTbneB/2Cv2Wvh7qS654f8BalNqQ8XDxRLq2teMdW1K8uNXGkTaMLua4vLqWWdhp88tviRmXaVONyIy%2BG%2BI/%2BCj/AMTfiR4WufGP7LjaHqth4j8dzaR8KJYvCS6o3iDTrDSFutVvZGudb0q2hjiu/PgDtcLtFm4CStIPL4nwb%2B3V8Rvi54j0T48WX2m107x58Mv2d9Vj8KNr979h0qfxF4u122v5IPs08W5zF5KMxyk62sKzJLEvlHpOw%2Bw/DH7J3wI8E2OiWHg7wne6UvhzwNaeDtEm07xHqEM1potq8bwWqypOHO0xR5kLGRgCGdgzA6Pxv/Z6%2BFP7ROiafofxS0fUZhpGom%2B0i/0TxFfaRfWNwYZYGeG8sJobiLdDNNE4SQB0kZWBUkV8m/BP9qn9qD43ftSfCDxhqfirwj/Ynjv4W%2BP9b8OfD3Srq909rWSzv9GgtoNWlM1wl1LH5pRrhLaI20j3CLFJnJ9u/bf1bxJPpnwo%2BG8virVfDukeO/ivYaH4z1Lw3rtxp91DZnT7%2B6SCG9t2int/PvbWztfMjaORluCqlS4oA9Db9nr4WxeBE%2BGWi2Gr6LoEHhq00Gx0zw14p1HS49PsLX/UJa/ZJ4zaOgwvnQlJSqopcqigc7N%2BxR8AD8PLH4X6bZ%2BL9L0uxv7q9M2g/E3X9Ov765uWLXE15fWt7HdX7yMcs1zLKWIBPIGPM/gxqf7QXxR/4Jv%2BOdE%2BFPxMuJfG9pe%2BPvDfw78Ya5qRkmljsNb1XTtIuprqQSGR/It7Ym6cSGQjzmD7jnyz4Z/EPSNK0f43eDf2j5fjD4N%2BHngLWvDc2i6VffGHUdQ8UPq15ZMJdGXUdM1Ge6mkmlaylhsY7uR2a9hGFEogQA%2Bnda/Yb/Zn19PDunX3grU49G8Kadp1hovhKx8Yara6AlvYOHtI5dJhulsbkRMqEGaFz%2B7TJIRcaC/sj/BBvilL8Zr7T/El/wCIC149lNqvj3Wbu20qS6jaKeWwtZrtrfTpGjd4/MtY4nCSOqkBmB%2BX/wBov4eftR%2BDf%2BCZEHxA8S%2BLtftPiX4G8Havq17qM/xt1XSbnw1YEXFzBNcLZMbXxFfWUEdtEYr5lt7qSCXdcKsrs/P%2BNviv8ZtR/bcn%2BJ2ifE3XZPA%2Bj/GvwX4VuruPxxqFlNp/9o6Lp0h0keGQBY39vcS6jBPLqMzrdW4u5vLidbJHoA%2Bvv2av2Q/gf%2ByL4ZHgv4E2fiew0aO0itrXSNZ%2BIOtaza2kUZYqtvFqN3OlvkuxYxBS5xuLYGO48H/8gmb/ALCt9/6Vy1qVl%2BD/APkEzf8AYVvv/SuWgDUooooAKKKKACiiigAooooAKKKKACiiigAooooAKKKKACiiigAooooAKKKKACvGf2X/APkt/wC0d/2Wax/9QrwvXs1eM/sv/wDJb/2jv%2ByzWP8A6hXhegD2aiiigAooooAKKKKACiiigAooooAKKKKACiiigAooooAKKKKACiiigAooooAK8Z8cf8pC/hf/ANkZ8ef%2BnbwhXs1fOH7R%2Br/GvR/28PhPP8Dvh/4W8Rak3wj8drd2nivxhc6LBHB/anhIl0lt9PvWd920bDGowSd%2BQFIB9H0V4z/wnH/BQv8A6Nf%2BDP8A4fjVv/mXo/4Tj/goX/0a/wDBn/w/Grf/ADL0AezUV4z/AMJx/wAFC/8Ao1/4M/8Ah%2BNW/wDmXo/4Tj/goX/0a/8ABn/w/Grf/MvQB7NRXzjpP7R37dusfGfX/gdb/sofCRdU8O%2BF9I128uX%2BOuqeRJBqNzqVvCiEeGNxdW0ucsCoADx4LEsF6j/hOP8AgoX/ANGv/Bn/AMPxq3/zL0AezUV4z/wnH/BQv/o1/wCDP/h%2BNW/%2BZej/AITj/goX/wBGv/Bn/wAPxq3/AMy9AHs1FeM/8Jx/wUL/AOjX/gz/AOH41b/5l65fwD%2B0d%2B3b8RPFfjfwho/7KHwkhuPAfiiLQtVkufjrqgSeeTStP1MPFt8MElPJ1GFSWCnejjGAGYA%2BjqK8Z/4Tj/goX/0a/wDBn/w/Grf/ADL0f8Jx/wAFC/8Ao1/4M/8Ah%2BNW/wDmXoA9morxn/hOP%2BChf/Rr/wAGf/D8at/8y9H/AAnH/BQv/o1/4M/%2BH41b/wCZegD2aivnH4RftHft2/GXwpd%2BL/Dn7KHwktrez8Ua3oUkd78ddUVzPpeq3WmTuNvhhhsaa0kZDnJRlJCnKjqP%2BE4/4KF/9Gv/AAZ/8Pxq3/zL0AezUV4z/wAJx/wUL/6Nf%2BDP/h%2BNW/8AmXo/4Tj/AIKF/wDRr/wZ/wDD8at/8y9AHs1FeM/8Jx/wUL/6Nf8Agz/4fjVv/mXrl/gj%2B0d%2B3b8ePgx4Q%2BOPhX9lD4SWul%2BM/C%2Bn67pttqHx11RZ4YLu2juI0kCeGGUOFkAYKzDIOCRzQB9HUV4z/wAJx/wUL/6Nf%2BDP/h%2BNW/8AmXo/4Tj/AIKF/wDRr/wZ/wDD8at/8y9AHs1FeM/8Jx/wUL/6Nf8Agz/4fjVv/mXrl/jd%2B0d%2B3b8B/gx4v%2BOPir9lD4SXWl%2BDPC%2Boa7qVtp/x11Rp5oLS2kuJEjD%2BGFUuVjIUMyjJGSBzQB9HUV4z/wAJx/wUL/6Nf%2BDP/h%2BNW/8AmXo/4Tj/AIKF/wDRr/wZ/wDD8at/8y9AHs1Mnt4LmMw3MCSIequoIP4GvHP%2BE4/4KF/9Gv8AwZ/8Pxq3/wAy9H/Ccf8ABQv/AKNf%2BDP/AIfjVv8A5l6BptO6PSNT%2BFnwx1rP9s/DnQbvPX7TpEMmf%2B%2BlNc/qX7Kf7Lus5/tj9m3wDd56/afB1lJn/vqI15f8Xf2jv27fg14UtPF/iP8AZQ%2BElzb3nijRNCjjsvjrqjOJ9U1W10yBzu8MKNizXcbOc5CKxAY4U9R/wnH/AAUL/wCjX/gz/wCH41b/AOZesZYfDz%2BKCfqk/wA0zvoZvm%2BG/g4mpD/DUqR/9JqIs6j%2BwB%2BwrquTffsa/C1mPV08BaejH8VhBrC1H/glz/wTx1TP2n9j/wADLnr9n0ZYf/ReK1P%2BE4/4KF/9Gv8AwZ/8Pxq3/wAy9H/Ccf8ABQv/AKNf%2BDP/AIfjVv8A5l6wlluXT%2BKhB/8Abkf/AJE9ajxrxph/4WZ4mPpiK/8A8uZx2of8Edv%2BCaep5%2B0/snaGuf8An3v72H/0XOKx7n/giB/wTCmk8%2B3/AGamtZO0lp4y1mMj8Bd4/SvSf%2BE4/wCChf8A0a/8Gf8Aw/Grf/MvXL%2BPv2jv27fh34r8EeENY/ZQ%2BEk1x488US6FpUlt8ddUKQTx6VqGpl5d3hgEJ5OnTKCoY73QYwSy4SyTJpb4an/4BH/I9Sl4oeJdBWp51i1/3MVv1mzmv%2BHKX7CNt/yBPD/jLTPT7B8QtUXH/fU5pP8Ahzf%2Bzdbf8gX4xfGXTfT7D8T7xcf99Zr07/hOP%2BChf/Rr/wAGf/D8at/8y9H/AAnH/BQv/o1/4M/%2BH41b/wCZep/sLJumHivRW/Jo2/4it4lP4s2ry/xTUv8A0unM8x/4dG%2BCbb/kC/twftLabjp9h%2BLki4/76hNU/gp%2BylN%2BzD/wUK8Fo/7S3xW%2BIia18GfGWwfE/wAW/wBqnTvJ1bwrn7MfKTy/M80b%2Bu7yo%2Bm3n1r/AITj/goX/wBGv/Bn/wAPxq3/AMy9UPA/gf8Aas8Y/tWeHPjd8bvhx8PfDOjeGfh74h0OGHwr8Q77Wrq7utSvtEuEZkuNIsUijRNLlBYO7FpUAXGSNqGVZfhqqqUqdpLzl%2BTm1%2BB5%2Bacf8YZ3gZ4PH4t1Kc7XThQTdmmvejh4TWqW01fZ3V0/daKKK9A%2BPCiiigAooooAK%2Bcv2IPDGm%2BFv2efFl7YiQi9/aG8f6nfOwzgjx5qm9uB0VIx%2BC19G18lfsleLP2ztP8Ah74os/hj8A/hhq%2BhJ8afiL/Z%2Bo698XdR027mX/hM9ZLGS2i0C5SIhtwAEz5AByCdoTSbT7FxqVIwlBPSVr%2Bdndfc9T6g/wCE58E/9Dhpf/gwj/8AiqX/AITnwT/0OGlf%2BDCP/wCKry3/AITj/goX/wBGv/Bn/wAPxq3/AMy9H/Ccf8FC/wDo1/4M/wDh%2BNW/%2BZemQepf8Jz4J/6HDSv/AAYR/wDxVH/Cc%2BCf%2Bhw0r/wYR/8AxVeW/wDCcf8ABQv/AKNf%2BDP/AIfjVv8A5l6P%2BE4/4KF/9Gv/AAZ/8Pxq3/zL0Aal98DP2KNU%2BHGk/B3U/g78LbjwjoF79s0LwrP4e019N0253SN50FsU8qGTdLKd6KDmRzn5jnQ0/wCHH7KOk2trZaV4D%2BHttDZWmk2llDb6XYotvBpc8lxpkSAKAiWk8sstuowIJJHeMKzEnzP4I/tHft2/Hj4MeEPjj4V/ZQ%2BElrpfjPwvp%2Bu6bbah8ddUWeGC7to7iNJAnhhlDhZAGCswyDgkc11H/Ccf8FC/%2BjX/AIM/%2BH41b/5l6ANWx%2BB/7FWl%2BKdb8c6Z8IPhdb634lguofEesQeH9NS61WO6x9pS5lCb51l2r5gckPgbs4roPG%2BlfAD4meCLn4ZfEjTfB3iDw3eQpFd%2BHtchtLuxnjRlZEeCUNGyqyqQCuAVBHQVxX/Ccf8ABQv/AKNf%2BDP/AIfjVv8A5l6P%2BE4/4KF/9Gv/AAZ/8Pxq3/zL0AdXH4O/Zmi0Kz8LxeFfAi6Zp3h240DT9OWxshBa6TcCET6fHHjalrILeAPAAI3EEeVOxcc9efs4/sHah8Lrb4H3/wAB/hHP4KstT/tGz8ITeF9LbS4Lz5v9JS0MflLL87/vAob5m55Ncb8bv2jv27fgP8GPF/xx8VfsofCS60vwZ4X1DXdSttP%2BOuqNPNBaW0lxIkYfwwqlysZChmUZIyQOa6j/AITj/goX/wBGv/Bn/wAPxq3/AMy9AE95%2BzV%2BwRqGneHtHv8A4A/CCe08Il/%2BETtZvCultHou%2BXzn%2ByKY8W26X94fL25f5jzzW7qHw6/ZT1b4q2vx21XwJ8PbnxvYwCCy8ZXGl2L6rbxBWUIl2V85F2u64DAYdh3Nc3/wnH/BQv8A6Nf%2BDP8A4fjVv/mXo/4Tj/goX/0a/wDBn/w/Grf/ADL0Aeo/8Jz4J/6HDS//AAYR/wDxVHgw79DM6g7Jr67liJGNyPcyMrfQqQR7GvLv%2BE4/4KF/9Gv/AAZ/8Pxq3/zL1y/xd/aO/bt%2BDXhS08X%2BI/2UPhJc2954o0TQo47L466ozifVNVtdMgc7vDCjYs13GznOQisQGOFIB9HUV4z/AMJx/wAFC/8Ao1/4M/8Ah%2BNW/wDmXo/4Tj/goX/0a/8ABn/w/Grf/MvQB7NRXjP/AAnH/BQv/o1/4M/%2BH41b/wCZej/hOP8AgoX/ANGv/Bn/AMPxq3/zL0AezUV84%2BPv2jv27fh34r8EeENY/ZQ%2BEk1x488US6FpUlt8ddUKQTx6VqGpl5d3hgEJ5OnTKCoY73QYwSy9R/wnH/BQv/o1/wCDP/h%2BNW/%2BZegD2aivGf8AhOP%2BChf/AEa/8Gf/AA/Grf8AzL0f8Jx/wUL/AOjX/gz/AOH41b/5l6APZqK8Z/4Tj/goX/0a/wDBn/w/Grf/ADL1y%2BrftHft26P8Z9A%2BB1x%2Byh8JG1TxF4X1fXbO5T466p5EcGnXOm28yOT4Y3B2bVICoCkEJJkqQoYA%2BjqK8Z/4Tj/goX/0a/8ABn/w/Grf/MvR/wAJx/wUL/6Nf%2BDP/h%2BNW/8AmXoA9morxn/hOP8AgoX/ANGv/Bn/AMPxq3/zL0f8Jx/wUL/6Nf8Agz/4fjVv/mXoA9mor5x0n9o79u3WPjPr/wADrf8AZQ%2BEi6p4d8L6Rrt5cv8AHXVPIkg1G51K3hRCPDG4uraXOWBUAB48FiWC9R/wnH/BQv8A6Nf%2BDP8A4fjVv/mXoA9morxn/hOP%2BChf/Rr/AMGf/D8at/8AMvR/wnH/AAUL/wCjX/gz/wCH41b/AOZegD2aivGf%2BE4/4KF/9Gv/AAZ/8Pxq3/zL1y/gH9o79u34ieK/G/hDR/2UPhJDceA/FEWharJc/HXVAk88mlafqYeLb4YJKeTqMKksFO9HGMAMwB9HUV4z/wAJx/wUL/6Nf%2BDP/h%2BNW/8AmXo/4Tj/AIKF/wDRr/wZ/wDD8at/8y9AHs1eM/sv/wDJb/2jv%2ByzWP8A6hXhej/hOP8AgoX/ANGv/Bn/AMPxq3/zL1b/AGVvhz8afB%2BsfFDx38dNA8L6Tqnj74hRa5Z6V4T8S3OrW9raxaDo%2BmKr3FxZWbNI0mnSuVEW0LIg3Mc4APW6KKKACiiigAooooAKKKKACiiigAooooAKKKKACiiigAooooAKKKKACiiigAr5X1b9rT4uQ/tIza4vh3we3w80j4wW3wuaKTSLg6%2Bbi80%2B1uG1CO8%2B0eUkH26W3t2tPs5LJD5/nghYa%2BqK8ZvP2IfhxefH5vjq/jnxUttL4rh8VXPgVLq1/sSfX4tOXTo9UZTb/afNW3SMeULgW5kiSYwmUeZQB7NRRRQAUUUUAfMfhz9pb4mQ/wDBQDxR8H/iNrHh7wn4bXX7TRfBkWo/CLWUuvGMH9gQajiDxG12unNLHd3OoAWgheXy7SYBQWaRfpyvK/Fn7LUHj/4yaR8U/Hvxv8a6vpXh7XY9a0DwBcHTItGsdQjt3gjnDQ2SXsuzzJJFSa6kjEj7tnyIF9UoAKKKKAPF/wDgoL8Xfjh%2Bz9%2ByP40%2BPXwCvfCkeseCdCu9cuoPGGi3N9bXdpa20sz26JbXVsySuyIokLlUBYlH4Fef%2BPP2tPi54L%2BPHi3U/Cnh3whF8PPCHxj8I/D7xlZzaRcHW9V1XXYNFSPUIbtLhYY44P7c0mMxSW8ryJDPiWPagr2H9rH9nGy/a0%2BBGvfs%2B618VfFPhHSfE9lLY65f%2BEF077Xc2UsTxTW26/tLqNEdX5ZEWQFRtdec8XB%2BwD4On%2BItn8RfFXxx8fa6x1nSdc8TaNqEulRWPifXNMSNLHVr2O2sImW4iEFphbZoIGNjbF4mMeSAe90UUUAFeL/tk/F344fBK18A%2BMfhZe%2BFP7G1D4meHPD3i%2Bx8QaLc3N1c2uq6zY6aDZyw3UKW0ka3Msm%2BRJ1JRF2ck17RXlX7V37Lb/tVeG9C8Lz/AB98b%2BBrfQvElhrqN4Lh0dnu72xvILyzaU6lp94NsVxbxuFjCBuVk3qdoAPOP2ef2lfiZrf7Vfi34I/FDV/D3hPTofFOt2/gnwlJ8ItZ0y5162hdJTf2%2Bt3F39g1B2MksssVtAXGS7FcMT9OV5LpP7KIf4yaL8ZfiP8AtAeO/Gs3he7vLvwnoXiEaTDYaPdXNvJayXES2Gn20sr/AGeaeFfPklVFnfaASCPWqACiiigDwf8Aa1%2BM37QXwG8SeF/F3gzxB4IvfD2teLtC8O23gW%2B8OXkmua5c3t8sNy1pex3qxQmC1aS62NaTDy7SZneNAXj4/wDYl/a0%2BLnxU174caZ4/wDDvhCy8L/F/wCDlx8Qfhlp/hbSLi0m0DSrafS0Gn3rSXEsdzJ9n1rTmEsMduitHOnlEBWr0L4k/scr8RP2ndE/amt/2jviBoWq%2BH9DGlaZoGmQ6JcaXBA83m3LRpfaZcTQy3IEcc0sUqO0cMaKyAcn7PP7EPw4/Zx8XReKvDfjjxVrUek%2BHpfD3grSPEF1ava%2BEtFkuEuH06wEFvFJ5JeG2Gbh55QlpAgkCoBQB7NRRRQAV8v/ALXPx4/aX%2BC3xE0/wppUPgDxro/jmHWrbRfhzF4PvpNYS1tNDuruS/uJxevFdWwuore2khFrED9vhQTGRkST6grw6b9ia4j/AGj/ABX%2B01on7VfxL07V/Fumw6dc6XDB4fntNPs4YGjhtrNrnSZbm3iWV3utizbXncu4cHbQAz9hD9oTxv8AHz4eXl18V/H2jX3i7ThZtr/huy%2BF2r%2BEbzQHntllEFzY6vdT3Dgtv8u4AjjkVDtDbSa90rzf4Hfs3ad8GfE/iT4h6x8UvFPjjxV4risbfWPE/i5rBbl7SzE32W1SLT7W1to4o2ublxthDM1xIWZsjHpFABRRRQB8UftMftw/H74HfH2/%2BA%2Bo6b4Q8WjWHsk8Jf2j8M9X0W20fUb3xDoemaQz3l3eS2/iBI5dYhluG08RNbtafP5LSoq%2B/wD7Kvxf%2BJHxGHj/AOH3xiOiT%2BKvhp48bw1rOq%2BGtOms7DU/M0vTtWt7iG3mnnkt82uqW6PG00uJI5MMQRjlviX/AME8/Bvxt1648QfG34%2BfEXxU9tHcf8IdDf3OlWyeEbiS6t7qO7sDZ2ELPcQy2lsYpLtrkp5Xfe%2B/0f4B/AXQ/gH4e1bTbLxfrniTVvEWvTa14n8UeJXtjf6vfSRxQ%2BdMLWCCBdkEFvAiRRRoscEaheCSAd1RRRQAV8TftRftj/tYfB34zeKPhX4P8NeHPG%2Bq6X4Yv/EPhKNPgnr8MmkOl3p9vCsLm9dfE0n2TU51mGl%2BU8LRFZBH5wjH2zXiOtfsX6j4i8ft8T9c/a0%2BKFzrdhb3sPg27dNBC%2BFVu5oXnNpGNKCTs0cKQBr0XRWIuAQzs5AOl/ZU%2BLc3xl%2BFI8Taj8TtG8U6ja6rc2OrXWj%2BCL/w2bO4ib5rWfTNRuJ7q0nRSu5JmDEMrbVVhXpNcJ8A/gHoHwB0LWbHT/FuueI9V8TeIJdc8T%2BJvEktu17qt/JDDB5sgtoYYIwsFvbwqkUUaKkKALnJPd0AFFFFABRRRQAUUUUAFFFFAFHxR4hsPCXhrUfFeqhza6ZYzXdyIly3lxoXbA7nCmvnP9ib9pP41%2BP/ABTo/gz42eHvBlmPHXwtsviN4Zh8GaVcWg0yO8uCbvT7szXEou5o3ubZ/tiCATtLMTBHtBf6Wu7S1v7WWxvbdJoZo2jmilUMrqRgqQeCCOMV5D%2BzN%2BxX4C/Zg1V9X0D4g%2BLfEstt4YsfDPh0eLL21mGgaFZvI9vptqbe3hLRqZPmlnM1xII4vMmfy1wAexUUUUAFcL%2B1B48%2BIvws/Zo%2BInxO%2BD/hRde8W%2BHPAur6p4W0NrGa6Go6jb2csttbGGBllmEkqInlxsHbdhSCQa7qs7xbol/4l8Mah4f0vxXqOhXN7aSQ2%2BtaQsDXVi7KQJohcRSxF1PIEkbpkfMrDIIB5d%2BxT8Wp/ij8M76y1b4haBrOp%2BHdUXTrzTNE%2BGGqeDn0NBbQSRWdxpWqXM9zC4RxIrt5aPFLFsTA3v7FXnnwH/Z20n4HXniXxHc/ETxJ4x8SeL9RhvPEXinxW9mLu6MNulvBEI7G2traKKONAFWOFMlnZizMzH0OgAooooA%2BXP2qP2sfih%2Bzh8XvHFl8StG8JeIvhfYfs7%2BL/HttoVvolwmqu2iDS1ntri5kuXt5op1vpwEFshUImXfLCu3/AGZ/i/8AHzVPi54y/Z1/aWfwleeKPDHhjw94lj1XwVpNzY2Ullqz6lbrbGG5ublzLDcaRdgyiQLIjxN5cZ3LUHxj/YV8O/HT46t8ZfHnx28cy6bN4K1PwjffD2GDRf7Eu9G1Jbb7faSF9Na9Ina0gdnF0HUoQjIjMh6T9nf9l3Q/2fb7WvEc/wAUPFvjfxDr9rYWV/4n8bXNpJemwsUkWzsx9ktrePyojPcOCUMjvcyu7uzZoA9PooooAK%2BRPjX%2B0v8AtbeC9c/aA8C2/hXwZ4svfAXh/wAKeJPhtY6T8P8AU7%2BdY9R1XUoQl3axXjy6jPAumxzqbYW5LkhV%2BVWr67rwuX9ijxDF8dPG3x/0L9tD4raVq3jfSLHTLmxsrPww1ppttZXFzPZpbCXRXk/dG8ulBmeUus5EnmFUKgHV/sqfFub4y/CkeJtR%2BJ2jeKdRtdVubHVrrR/BF/4bNncRN81rPpmo3E91aTopXckzBiGVtqqwr0muE%2BAfwD0D4A6FrNjp/i3XPEeq%2BJvEEuueJ/E3iSW3a91W/khhg82QW0MMEYWC3t4VSKKNFSFAFzknu6ACiiigD42/aW/a7/aW/Z4%2BM0Hw21lPhn41vtbggm8Iw6d4WvbSXwXeal4h0zw9pE2pyvfTC6inbV5wWiWzkcWN0sYZfMMXuP7Kvxf%2BJHxGHj/4ffGI6JP4q%2BGnjxvDWs6r4a06azsNT8zS9O1a3uIbeaeeS3za6pbo8bTS4kjkwxBGOFtv%2BCavhJrr4hv4h/aX%2BJ2s2/xJ1465rFvqR0LzLPUoriGfT7m2uotLS6U2D29uLSN5pIolhQMj859Y%2BAfwF0P4B%2BHtW02y8X654k1bxFr02teJ/FHiV7Y3%2Br30kcUPnTC1gggXZBBbwIkUUaLHBGoXgkgHdUUUUAMuftP2aT7Hs87YfK83O3djjOOcZr4g%2BK37XP7afw0%2BImufDa3tvAfjPXvDF74at9W8deCPgrr%2BrR%2BHLfVmvHvbCXSrPUp7u5mjhsrG6JinT93dQtLAgMTSfb13DJcWstvDdSQPJGyrPEFLxkjAZdwK5HUZBHqDXz38GP2AvEHwE%2BG1x8NPh3%2B3V8Yoo7rVn1ObWbyy8Jz6hLdyvLJczzTPoR%2B0yTvLukknEj5jTYUAwQD1n4CfEOy%2BK3wd8P8AxCsPiBo3ipNT08SPr/h/SZrC0u5ASshS1nmmltirqyNDJI7xsrKx3KQOvrkvgX8F/CX7Pvwv074U%2BCrm/uLKwluria%2B1W5E11fXd1cy3V1dTOFUNLNcTzSvtVV3SHaqrhR1tABVHxPD4kufDeoW/g3U7Gy1eSylXS7zU7B7q2guChEcksMcsTTRq2CyLJGWAIDqTuF6s3xjoN/4o8LX/AId0vxbqWg3N5avFBrWjiA3Vi5HE0QuIpYi6nkCSN0OPmVhkUAfE3wp/bg/ay%2BN3xcv/AIAfCux%2BH8PjlH1uceNvFfwt1rRI9Q0nSLTRZPs02hXd%2Bmo2MrXniOKOOSeYoYVluI4nWVQfrb9mz4zaf%2B0d%2Bzp4B/aG0rSJNPtfHngrSvEVtYTSbnto72ziuViZsDJUShScDOK8i1D/AIJqeDtR1u6%2BJD/tLfFKH4iahPcrqXxPtbzSItYurGe0gtZdO8tdNFlFbGO1tmAito5FlhWUSCTLn3v4feA/Cfws8BaJ8MfAejx6dofhzSLbS9F0%2BIkpbWlvEsUMS5ycKiKoz6UAa9FFFAHL/GnUfHGjfC3Wtb%2BHPiGx0vVrCzN1Dfah4PvfECJHGQ8oGnWM8FzeSNErqkUMgcuy4Vz8jfFvw1/4KI/H7XPEPh7XfGFx4R8CeDdTl1H/AISjx5e/AzxFcWuo3trrsmkxfamS%2BjXwzLLa20RMWqM8luxEb/c2V9t/EzwZrvj3wlN4c8N/FLX/AAbeSSxvFr/hmKxe7g2sCVVb%2B2uYGDAFSHibgnGDgjxXUP8AgnN4U1fwDe/CjVP2kPibceF/Edzd3PxC0N7jR9njKe7uXnu5L6UaaJ4fODiFo7KS1jEKKiooBJAPomiiigAooooAKKKKACiiigAooooAKKKKACiiigAooooAKKKKACiiigAooooAKKKKACiiigAooooAKKKKACiiigAooooAKKKKACiiigAooooAKKKKACiiigAooooAKKKKACiiigAooooAKKKKACiiigAooooAKKKKACiiigAooooAKKKKACiiigAooooAKKKKACiiigAooooAKKKKACiiigAooooAKKKKACiiigAooooAKKKKACiiigAooooAKKKKACiiigAooooAKKKKACiiigAooooAKKKKACiiigAooooAKKKKACiiigAooooAKKKKACiiigD/2Q%3D%3D\">"
      ]
     },
     "metadata": {},
     "output_type": "display_data"
    }
   ],
   "source": [
    "s.run(tf.global_variables_initializer())\n",
    "\n",
    "BATCH_SIZE = 512\n",
    "EPOCHS = 40\n",
    "\n",
    "# for logging the progress right here in Jupyter (for those who don't have TensorBoard)\n",
    "simpleTrainingCurves = matplotlib_utils.SimpleTrainingCurves(\"cross-entropy\", \"accuracy\")\n",
    "\n",
    "for epoch in range(EPOCHS):  # we finish an epoch when we've looked at all training samples\n",
    "    \n",
    "    batch_losses = []\n",
    "    for batch_start in range(0, X_train_flat.shape[0], BATCH_SIZE):  # data is already shuffled\n",
    "        _, batch_loss = s.run([step, loss], {input_X: X_train_flat[batch_start:batch_start+BATCH_SIZE], \n",
    "                                             input_y: y_train_oh[batch_start:batch_start+BATCH_SIZE]})\n",
    "        # collect batch losses, this is almost free as we need a forward pass for backprop anyway\n",
    "        batch_losses.append(batch_loss)\n",
    "\n",
    "    train_loss = np.mean(batch_losses)\n",
    "    val_loss = s.run(loss, {input_X: X_val_flat, input_y: y_val_oh})  # this part is usually small\n",
    "    train_accuracy = accuracy_score(y_train, s.run(classes, {input_X: X_train_flat}))  # this is slow and usually skipped\n",
    "    valid_accuracy = accuracy_score(y_val, s.run(classes, {input_X: X_val_flat}))  \n",
    "    simpleTrainingCurves.add(train_loss, val_loss, train_accuracy, valid_accuracy)"
   ]
  },
  {
   "cell_type": "markdown",
   "metadata": {},
   "source": [
    "# Submit a linear model"
   ]
  },
  {
   "cell_type": "code",
   "execution_count": 23,
   "metadata": {
    "collapsed": true
   },
   "outputs": [],
   "source": [
    "## GRADED PART, DO NOT CHANGE!\n",
    "# Testing shapes \n",
    "grader.set_answer(\"9XaAS\", grading_utils.get_tensors_shapes_string([W, b, input_X, input_y, logits, probas, classes]))\n",
    "# Validation loss\n",
    "grader.set_answer(\"vmogZ\", s.run(loss, {input_X: X_val_flat, input_y: y_val_oh}))\n",
    "# Validation accuracy\n",
    "grader.set_answer(\"RMv95\", accuracy_score(y_val, s.run(classes, {input_X: X_val_flat})))"
   ]
  },
  {
   "cell_type": "code",
   "execution_count": 24,
   "metadata": {},
   "outputs": [
    {
     "name": "stdout",
     "output_type": "stream",
     "text": [
      "Submitted to Coursera platform. See results on assignment page!\n"
     ]
    }
   ],
   "source": [
    "# you can make submission with answers so far to check yourself at this stage\n",
    "grader.submit(COURSERA_EMAIL, COURSERA_TOKEN)"
   ]
  },
  {
   "cell_type": "markdown",
   "metadata": {},
   "source": [
    "# Adding more layers"
   ]
  },
  {
   "cell_type": "markdown",
   "metadata": {},
   "source": [
    "Let's add a couple of hidden layers and see how that improves our validation accuracy.\n",
    "\n",
    "Previously we've coded a dense layer with matrix multiplication by hand. \n",
    "But this is not convinient, you have to create a lot of variables and your code becomes a mess. \n",
    "In TensorFlow there's an easier way to make a dense layer:\n",
    "```python\n",
    "hidden1 = tf.layers.dense(inputs, 256, activation=tf.nn.sigmoid)\n",
    "```\n",
    "\n",
    "That will create all the necessary variables automatically.\n",
    "Here you can also choose an activation function (rememeber that we need it for a hidden layer!).\n",
    "\n",
    "Now add 2 hidden layers to the code above and restart training.\n",
    "You're aiming for ~0.97 validation accuracy here."
   ]
  },
  {
   "cell_type": "code",
   "execution_count": 11,
   "metadata": {
    "collapsed": true
   },
   "outputs": [],
   "source": [
    "# you can write the code here to get a new `step` operation and then run cells with training loop above\n",
    "# name your variables in the same way (e.g. logits, probas, classes, etc) for safety\n",
    "### YOUR CODE HERE ###\n",
    "\n",
    "hidden1=tf.layers.dense(input_X,256,activation=tf.nn.sigmoid)\n",
    "hidden2=tf.layers.dense(hidden1,256,activation=tf.nn.sigmoid)\n",
    "logits=tf.layers.dense(hidden2,10)\n",
    "probas=tf.nn.softmax(logits)\n",
    "classes=tf.argmax(probas,1)\n",
    "loss = tf.reduce_mean(tf.nn.softmax_cross_entropy_with_logits(labels=input_y,logits=logits))\n",
    "step = tf.train.AdamOptimizer(0.01).minimize(loss)\n",
    "s.run(tf.global_variables_initializer())\n"
   ]
  },
  {
   "cell_type": "markdown",
   "metadata": {},
   "source": [
    "# Submit a 2-layer MLP\n",
    "Run these cells after training a 2-layer MLP"
   ]
  },
  {
   "cell_type": "code",
   "execution_count": 13,
   "metadata": {
    "collapsed": true
   },
   "outputs": [],
   "source": [
    "## GRADED PART, DO NOT CHANGE!\n",
    "# Validation loss for MLP\n",
    "grader.set_answer(\"i8bgs\", s.run(loss, {input_X: X_val_flat, input_y: y_val_oh}))\n",
    "# Validation accuracy for MLP\n",
    "grader.set_answer(\"rE763\", accuracy_score(y_val, s.run(classes, {input_X: X_val_flat})))"
   ]
  },
  {
   "cell_type": "code",
   "execution_count": 17,
   "metadata": {},
   "outputs": [
    {
     "name": "stdout",
     "output_type": "stream",
     "text": [
      "Submitted to Coursera platform. See results on assignment page!\n"
     ]
    }
   ],
   "source": [
    "# you can make submission with answers so far to check yourself at this stage\n",
    "grader.submit(COURSERA_EMAIL, COURSERA_TOKEN)"
   ]
  },
  {
   "cell_type": "code",
   "execution_count": null,
   "metadata": {
    "collapsed": true
   },
   "outputs": [],
   "source": []
  }
 ],
 "metadata": {
  "kernelspec": {
   "display_name": "Python 3",
   "language": "python",
   "name": "python3"
  },
  "language_info": {
   "codemirror_mode": {
    "name": "ipython",
    "version": 3
   },
   "file_extension": ".py",
   "mimetype": "text/x-python",
   "name": "python",
   "nbconvert_exporter": "python",
   "pygments_lexer": "ipython3",
   "version": "3.6.2"
  }
 },
 "nbformat": 4,
 "nbformat_minor": 1
}
