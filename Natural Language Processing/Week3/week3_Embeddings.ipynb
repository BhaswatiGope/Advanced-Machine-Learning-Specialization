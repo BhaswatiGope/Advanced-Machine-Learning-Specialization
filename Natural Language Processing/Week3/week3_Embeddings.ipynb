{
  "nbformat": 4,
  "nbformat_minor": 0,
  "metadata": {
    "colab": {
      "name": "Copy_of_Copy_of_week3_Embeddings.ipynb",
      "version": "0.3.2",
      "provenance": [],
      "collapsed_sections": []
    },
    "kernelspec": {
      "name": "python3",
      "display_name": "Python 3"
    },
    "accelerator": "GPU"
  },
  "cells": [
    {
      "cell_type": "markdown",
      "metadata": {
        "id": "uC25heToExNZ",
        "colab_type": "text"
      },
      "source": [
        "# Find duplicate questions on StackOverflow by their embeddings\n",
        "\n",
        "In this assignment you will learn how to calculate a similarity for pieces of text. Using this approach you will know how to find duplicate questions from [StackOverflow](https://stackoverflow.com)."
      ]
    },
    {
      "cell_type": "markdown",
      "metadata": {
        "id": "PcKWQ0TgExNd",
        "colab_type": "text"
      },
      "source": [
        "### Libraries\n",
        "\n",
        "In this task you will you will need the following libraries:\n",
        "- [StarSpace](https://github.com/facebookresearch/StarSpace) — a general-purpose model for efficient learning of entity embeddings from Facebook\n",
        "- [Gensim](https://radimrehurek.com/gensim/) — a tool for solving various NLP-related tasks (topic modeling, text representation, ...)\n",
        "- [Numpy](http://www.numpy.org) — a package for scientific computing.\n",
        "- [scikit-learn](http://scikit-learn.org/stable/index.html) — a tool for data mining and data analysis.\n",
        "- [Nltk](http://www.nltk.org) — a platform to work with human language data."
      ]
    },
    {
      "cell_type": "markdown",
      "metadata": {
        "id": "aeMmEWjsExNg",
        "colab_type": "text"
      },
      "source": [
        "### Data\n",
        "\n",
        "The following cell will download all data required for this assignment into the folder `week3/data`."
      ]
    },
    {
      "cell_type": "code",
      "metadata": {
        "id": "ijADi1qOExNj",
        "colab_type": "code",
        "outputId": "63947fd1-8d30-446e-e04d-923fd0ec65c5",
        "colab": {
          "base_uri": "https://localhost:8080/",
          "height": 411
        }
      },
      "source": [
        "! wget https://raw.githubusercontent.com/hse-aml/natural-language-processing/master/setup_google_colab.py -O setup_google_colab.py\n",
        "import setup_google_colab\n",
        "\n",
        "setup_google_colab.setup_week3()\n",
        "\n",
        "import sys\n",
        "sys.path.append(\"..\")\n",
        "from common.download_utils import download_week3_resources\n",
        "\n",
        "download_week3_resources()"
      ],
      "execution_count": 0,
      "outputs": [
        {
          "output_type": "stream",
          "text": [
            "--2019-01-29 23:34:17--  https://raw.githubusercontent.com/hse-aml/natural-language-processing/master/setup_google_colab.py\n",
            "Resolving raw.githubusercontent.com (raw.githubusercontent.com)... 151.101.0.133, 151.101.64.133, 151.101.128.133, ...\n",
            "Connecting to raw.githubusercontent.com (raw.githubusercontent.com)|151.101.0.133|:443... connected.\n",
            "HTTP request sent, awaiting response... 200 OK\n",
            "Length: 2330 (2.3K) [text/plain]\n",
            "Saving to: ‘setup_google_colab.py’\n",
            "\n",
            "\rsetup_google_colab.   0%[                    ]       0  --.-KB/s               \rsetup_google_colab. 100%[===================>]   2.28K  --.-KB/s    in 0s      \n",
            "\n",
            "2019-01-29 23:34:18 (38.0 MB/s) - ‘setup_google_colab.py’ saved [2330/2330]\n",
            "\n"
          ],
          "name": "stdout"
        },
        {
          "output_type": "display_data",
          "data": {
            "application/vnd.jupyter.widget-view+json": {
              "model_id": "1b76cc6165fd4953a1cbbdf4f396e59f",
              "version_minor": 0,
              "version_major": 2
            },
            "text/plain": [
              "HBox(children=(IntProgress(value=0, max=119127793), HTML(value='')))"
            ]
          },
          "metadata": {
            "tags": []
          }
        },
        {
          "output_type": "stream",
          "text": [
            "\n"
          ],
          "name": "stdout"
        },
        {
          "output_type": "display_data",
          "data": {
            "application/vnd.jupyter.widget-view+json": {
              "model_id": "7d6d34e879964db7964582ac54c9bf57",
              "version_minor": 0,
              "version_major": 2
            },
            "text/plain": [
              "HBox(children=(IntProgress(value=0, max=535543630), HTML(value='')))"
            ]
          },
          "metadata": {
            "tags": []
          }
        },
        {
          "output_type": "stream",
          "text": [
            "\n"
          ],
          "name": "stdout"
        },
        {
          "output_type": "display_data",
          "data": {
            "application/vnd.jupyter.widget-view+json": {
              "model_id": "08de1c026ef84e05bfca3a55a051c56b",
              "version_minor": 0,
              "version_major": 2
            },
            "text/plain": [
              "HBox(children=(IntProgress(value=0, max=46408910), HTML(value='')))"
            ]
          },
          "metadata": {
            "tags": []
          }
        },
        {
          "output_type": "stream",
          "text": [
            "\n"
          ],
          "name": "stdout"
        },
        {
          "output_type": "display_data",
          "data": {
            "application/vnd.jupyter.widget-view+json": {
              "model_id": "3ddbfb0265744fd9975891ae0dbef4eb",
              "version_minor": 0,
              "version_major": 2
            },
            "text/plain": [
              "HBox(children=(IntProgress(value=0, max=5333), HTML(value='')))"
            ]
          },
          "metadata": {
            "tags": []
          }
        },
        {
          "output_type": "stream",
          "text": [
            "\n",
            "Downloading GoogleNews-vectors-negative300.bin.gz (1.5G) for you, it will take a while...\n"
          ],
          "name": "stdout"
        },
        {
          "output_type": "display_data",
          "data": {
            "application/vnd.jupyter.widget-view+json": {
              "model_id": "1826abcbc539492baf31b5e741b1d46b",
              "version_minor": 0,
              "version_major": 2
            },
            "text/plain": [
              "HBox(children=(IntProgress(value=0, max=1647046227), HTML(value='')))"
            ]
          },
          "metadata": {
            "tags": []
          }
        },
        {
          "output_type": "stream",
          "text": [
            "\n"
          ],
          "name": "stdout"
        }
      ]
    },
    {
      "cell_type": "markdown",
      "metadata": {
        "id": "RfIxFszEExNs",
        "colab_type": "text"
      },
      "source": [
        "### Grading\n",
        "We will create a grader instace below and use it to collect your answers. Note that these outputs will be stored locally inside grader and will be uploaded to platform only after running submiting function in the last part of this assignment. If you want to make partial submission, you can run that cell any time you want."
      ]
    },
    {
      "cell_type": "code",
      "metadata": {
        "id": "p9xDu7X7ExNu",
        "colab_type": "code",
        "colab": {}
      },
      "source": [
        "from grader import Grader"
      ],
      "execution_count": 0,
      "outputs": []
    },
    {
      "cell_type": "code",
      "metadata": {
        "id": "NBIa-W1NExN1",
        "colab_type": "code",
        "colab": {}
      },
      "source": [
        "grader = Grader()"
      ],
      "execution_count": 0,
      "outputs": []
    },
    {
      "cell_type": "markdown",
      "metadata": {
        "id": "J9u8o9CQExN8",
        "colab_type": "text"
      },
      "source": [
        "## Word embedding\n",
        "\n",
        "To solve the problem, you will use two different models of embeddings:\n",
        "\n",
        " - [Pre-trained word vectors](https://code.google.com/archive/p/word2vec/) from Google which were trained on a part of Google News dataset (about 100 billion words). The model contains 300-dimensional vectors for 3 million words and phrases. `GoogleNews-vectors-negative300.bin.gz` will be downloaded in `download_week3_resources()`.\n",
        " - Representations using StarSpace on StackOverflow data sample. You will need to train them from scratch."
      ]
    },
    {
      "cell_type": "markdown",
      "metadata": {
        "id": "RtK95uUrExN-",
        "colab_type": "text"
      },
      "source": [
        "It's always easier to start with pre-trained embeddings. Unpack the pre-trained Goggle's vectors and upload them using the function [KeyedVectors.load_word2vec_format](https://radimrehurek.com/gensim/models/keyedvectors.html) from gensim library with the parameter *binary=True*. If the size of the embeddings is larger than the avaliable memory, you could load only a part of the embeddings by defining the parameter *limit* (recommended: 500000)."
      ]
    },
    {
      "cell_type": "code",
      "metadata": {
        "id": "nMJZZ1hlExOB",
        "colab_type": "code",
        "colab": {}
      },
      "source": [
        "import gensim"
      ],
      "execution_count": 0,
      "outputs": []
    },
    {
      "cell_type": "code",
      "metadata": {
        "id": "B3JazTH9ExOJ",
        "colab_type": "code",
        "colab": {}
      },
      "source": [
        "\n",
        "from gensim.models import KeyedVectors\n",
        "wv_embeddings = KeyedVectors.load_word2vec_format(\"GoogleNews-vectors-negative300.bin.gz\",binary=True,limit=500000)\n",
        "#file = open(\"data/validation.tsv\",\"r\")\n",
        "#file1=open(\"/week3/GoogleNews-vectors-negative300.bin\",\"r\")\n"
      ],
      "execution_count": 0,
      "outputs": []
    },
    {
      "cell_type": "code",
      "metadata": {
        "id": "vhmR7PR7dDJX",
        "colab_type": "code",
        "outputId": "ca0ae047-0955-4ff9-cf05-76231359d762",
        "colab": {
          "base_uri": "https://localhost:8080/",
          "height": 187
        }
      },
      "source": [
        "'word' in wv_embeddings\n",
        "#wv_embeddings['word']\n",
        "wv_embeddings.similarity('woman','man')\n",
        "wv_embeddings.doesnt_match(['breakfast','cereal','lunch','dinner'])\n",
        "wv_embeddings.most_similar(positive=['woman', 'king'], negative=['man'])\n",
        "#wv_embeddings['dog']"
      ],
      "execution_count": 0,
      "outputs": [
        {
          "output_type": "execute_result",
          "data": {
            "text/plain": [
              "[('queen', 0.7118192911148071),\n",
              " ('monarch', 0.6189674139022827),\n",
              " ('princess', 0.5902431011199951),\n",
              " ('crown_prince', 0.5499460697174072),\n",
              " ('prince', 0.5377321243286133),\n",
              " ('kings', 0.5236844420433044),\n",
              " ('queens', 0.518113374710083),\n",
              " ('sultan', 0.5098593235015869),\n",
              " ('monarchy', 0.5087411999702454),\n",
              " ('royal_palace', 0.5087165832519531)]"
            ]
          },
          "metadata": {
            "tags": []
          },
          "execution_count": 4
        }
      ]
    },
    {
      "cell_type": "markdown",
      "metadata": {
        "id": "ImoaxjuFExOO",
        "colab_type": "text"
      },
      "source": [
        "### How to work with Google's word2vec embeddings?\n",
        "\n",
        "Once you have loaded the representations, make sure you can access them. First, you can check if the loaded embeddings contain a word:\n",
        "    \n",
        "    'word' in wv_embeddings\n",
        "    \n",
        "Second, to get the corresponding embedding you can use the square brackets:\n",
        "\n",
        "    wv_embeddings['word']\n",
        " \n",
        "### Checking that the embeddings are correct \n",
        " \n",
        "To prevent any errors during the first stage, we can check that the loaded embeddings are correct. You can call the function *check_embeddings*, implemented below, which runs 3 tests:\n",
        "1. Find the most similar word for provided \"positive\" and \"negative\" words.\n",
        "2. Find which word from the given list doesn’t go with the others.\n",
        "3. Find the most similar word for the provided one.\n",
        "\n",
        "In the right case the function will return the string *These embeddings look good*. Othervise, you need to validate the previous steps."
      ]
    },
    {
      "cell_type": "code",
      "metadata": {
        "id": "yku7MYv3ExOP",
        "colab_type": "code",
        "colab": {}
      },
      "source": [
        "def check_embeddings(embeddings):\n",
        "    error_text = \"Something wrong with your embeddings ('%s test isn't correct).\"\n",
        "    most_similar = embeddings.most_similar(positive=['woman', 'king'], negative=['man'])\n",
        "    if len(most_similar) < 1 or most_similar[0][0] != 'queen':\n",
        "        return error_text % \"Most similar\"\n",
        "\n",
        "    doesnt_match = embeddings.doesnt_match(['breakfast', 'cereal', 'dinner', 'lunch'])\n",
        "    if doesnt_match != 'cereal':\n",
        "        return error_text % \"Doesn't match\"\n",
        "    \n",
        "    most_similar_to_given = embeddings.most_similar_to_given('music', ['water', 'sound', 'backpack', 'mouse'])\n",
        "    if most_similar_to_given != 'sound':\n",
        "        return error_text % \"Most similar to given\"\n",
        "    \n",
        "    return \"These embeddings look good.\""
      ],
      "execution_count": 0,
      "outputs": []
    },
    {
      "cell_type": "code",
      "metadata": {
        "id": "KXj0ooQNExOX",
        "colab_type": "code",
        "outputId": "7656797b-2438-42da-ad93-467ff946dbb8",
        "colab": {
          "base_uri": "https://localhost:8080/",
          "height": 34
        }
      },
      "source": [
        "print(check_embeddings(wv_embeddings))"
      ],
      "execution_count": 0,
      "outputs": [
        {
          "output_type": "stream",
          "text": [
            "These embeddings look good.\n"
          ],
          "name": "stdout"
        }
      ]
    },
    {
      "cell_type": "markdown",
      "metadata": {
        "id": "d_na6banExOg",
        "colab_type": "text"
      },
      "source": [
        "## From word to text embeddings\n",
        "\n",
        "**Task 1 (Question2Vec).** Usually, we have word-based embeddings, but for the task we need to create a representation for the whole question. It could be done in different ways. In our case we will use a **mean** of all word vectors in the question. Now you need to implement the function *question_to_vec*, which calculates the question representation described above. This function should work with the input text as is without any preprocessing.\n",
        "\n",
        "Note that there could be words without the corresponding embeddings. In this case, you can just skip these words and don't take them into account during calculating the result. If the question doesn't contain any known word with embedding, the function should return a zero vector."
      ]
    },
    {
      "cell_type": "code",
      "metadata": {
        "id": "Kgck57kCExOj",
        "colab_type": "code",
        "colab": {}
      },
      "source": [
        "import numpy as np"
      ],
      "execution_count": 0,
      "outputs": []
    },
    {
      "cell_type": "code",
      "metadata": {
        "id": "NbOiWJB8l4yg",
        "colab_type": "code",
        "outputId": "732bdb98-7e06-49c0-e499-1a595646edb9",
        "colab": {
          "base_uri": "https://localhost:8080/",
          "height": 34
        }
      },
      "source": [
        "print (np.zeros(300).shape)"
      ],
      "execution_count": 0,
      "outputs": [
        {
          "output_type": "stream",
          "text": [
            "(300,)\n"
          ],
          "name": "stdout"
        }
      ]
    },
    {
      "cell_type": "code",
      "metadata": {
        "id": "5ekqz2WVExOn",
        "colab_type": "code",
        "colab": {}
      },
      "source": [
        "def question_to_vec(question, embeddings, dim=300):\n",
        "    \"\"\"\n",
        "        question: a string\n",
        "        embeddings: dict where the key is a word and a value is its' embedding\n",
        "        dim: size of the representation\n",
        "\n",
        "        result: vector representation for the question\n",
        "    \"\"\"\n",
        "    ######################################\n",
        "    ######### YOUR CODE HERE #############\n",
        "    ######################################\n",
        "    question_vec=np.zeros(dim)\n",
        "    initial_value = 0\n",
        "    \n",
        "    for word in question.split():\n",
        "        if word in embeddings:\n",
        "           vec = embeddings[word]\n",
        "           question_vec += np.array(vec)\n",
        "           initial_value +=1\n",
        "            \n",
        "    if initial_value !=0:\n",
        "       question_vec = question_vec/initial_value\n",
        "           \n",
        "       \n",
        "    return question_vec\n",
        "    \n",
        "    \n",
        "    "
      ],
      "execution_count": 0,
      "outputs": []
    },
    {
      "cell_type": "markdown",
      "metadata": {
        "id": "qyIXT41YExOq",
        "colab_type": "text"
      },
      "source": [
        "To check the basic correctness of your implementation, run the function *question_to_vec_tests*."
      ]
    },
    {
      "cell_type": "code",
      "metadata": {
        "id": "ugInvoefExOr",
        "colab_type": "code",
        "colab": {}
      },
      "source": [
        "def question_to_vec_tests():\n",
        "    if (np.zeros(300) != question_to_vec('', wv_embeddings)).any():\n",
        "        return \"You need to return zero vector for empty question.\"\n",
        "    if (np.zeros(300) != question_to_vec('thereisnosuchword', wv_embeddings)).any():\n",
        "        return \"You need to return zero vector for the question, which consists only unknown words.\"\n",
        "    if (wv_embeddings['word'] != question_to_vec('word', wv_embeddings)).any():\n",
        "        return \"You need to check the corectness of your function.\"\n",
        "    if ((wv_embeddings['I'] + wv_embeddings['am']) / 2 != question_to_vec('I am', wv_embeddings)).any():\n",
        "        return \"Your function should calculate a mean of word vectors.\"\n",
        "    if (wv_embeddings['word'] != question_to_vec('thereisnosuchword word', wv_embeddings)).any():\n",
        "        return \"You should not consider words which embeddings are unknown.\"\n",
        "    return \"Basic tests are passed.\""
      ],
      "execution_count": 0,
      "outputs": []
    },
    {
      "cell_type": "code",
      "metadata": {
        "id": "z3hlhdtSExOu",
        "colab_type": "code",
        "outputId": "bdd21518-81f7-42f1-8884-461ae661c83b",
        "colab": {
          "base_uri": "https://localhost:8080/",
          "height": 34
        }
      },
      "source": [
        "print(question_to_vec_tests())\n"
      ],
      "execution_count": 0,
      "outputs": [
        {
          "output_type": "stream",
          "text": [
            "Basic tests are passed.\n"
          ],
          "name": "stdout"
        }
      ]
    },
    {
      "cell_type": "markdown",
      "metadata": {
        "id": "NGh3TnInExOx",
        "colab_type": "text"
      },
      "source": [
        "You can submit embeddings for the questions from the file *test_embeddings.tsv* to earn the points. In this task you don't need to transform the text of a question somehow."
      ]
    },
    {
      "cell_type": "code",
      "metadata": {
        "id": "Q9Ao7NJtExOy",
        "colab_type": "code",
        "outputId": "d465dcfe-a338-450d-8dff-348b7022fe63",
        "colab": {
          "base_uri": "https://localhost:8080/",
          "height": 51
        }
      },
      "source": [
        "import nltk\n",
        "nltk.download('stopwords')\n",
        "from util import array_to_string"
      ],
      "execution_count": 0,
      "outputs": [
        {
          "output_type": "stream",
          "text": [
            "[nltk_data] Downloading package stopwords to /root/nltk_data...\n",
            "[nltk_data]   Unzipping corpora/stopwords.zip.\n"
          ],
          "name": "stdout"
        }
      ]
    },
    {
      "cell_type": "code",
      "metadata": {
        "id": "QoagfSnHExO1",
        "colab_type": "code",
        "outputId": "6b117f82-d577-4861-d29c-262da1e77484",
        "colab": {
          "base_uri": "https://localhost:8080/",
          "height": 102
        }
      },
      "source": [
        "question2vec_result = []\n",
        "for question in open('data/test_embeddings.tsv'):\n",
        "    question = question.strip()\n",
        "    answer = question_to_vec(question, wv_embeddings)\n",
        "    question2vec_result = np.append(question2vec_result, answer)\n",
        "\n",
        "grader.submit_tag('Question2Vec', array_to_string(question2vec_result))"
      ],
      "execution_count": 0,
      "outputs": [
        {
          "output_type": "stream",
          "text": [
            "Current answer for task Question2Vec is: 0.019293891059027776\n",
            "-0.028727213541666668\n",
            "0.046056111653645836\n",
            "0.08525933159722222\n",
            "0.02430555555555...\n"
          ],
          "name": "stdout"
        }
      ]
    },
    {
      "cell_type": "markdown",
      "metadata": {
        "id": "MzGhDLZZExO4",
        "colab_type": "text"
      },
      "source": [
        "Now we have a method to create a representation of any sentence and we are ready for the first evaluation. So, let's check how well our solution (Google's vectors + *question_to_vec*) will work.\n",
        "\n",
        "## Evaluation of text similarity\n",
        "\n",
        "We can imagine that if we use good embeddings, the cosine similarity between the duplicate sentences should be less than for the random ones. Overall, for each pair of duplicate sentences we can generate *R* random negative examples and find out the position of the correct duplicate.  \n",
        "\n",
        "For example, we have the question *\"Exceptions What really happens\"* and we are sure that another question *\"How does the catch keyword determine the type of exception that was thrown\"* is a duplicate. But our model doesn't know it and tries to find out the best option also among questions like *\"How Can I Make These Links Rotate in PHP\"*, *\"NSLog array description not memory address\"* and *\"PECL_HTTP not recognised php ubuntu\"*. The goal of the model is to rank all these 4 questions (1 *positive* and *R* = 3 *negative*) in the way that the correct one is in the first place.\n",
        "\n",
        "However, it is unnatural to count on that the best candidate will be always in the first place. So let us consider the place of the best candidate in the sorted list of candidates and formulate a metric based on it. We can fix some *K* — a reasonalble number of top-ranked elements and *N* — a number of queries (size of the sample).\n",
        "\n",
        "### Hits@K\n",
        "\n",
        "The first simple metric will be a number of correct hits for some *K*:\n",
        "$$ \\text{Hits@K} = \\frac{1}{N}\\sum_{i=1}^N \\, [dup_i \\in topK(q_i)]$$\n",
        "\n",
        "where $q_i$ is the i-th query, $dup_i$ is its duplicate, $topK(q_i)$ is the top K elements of the ranked sentences provided by our model and the operation $[dup_i \\in topK(q_i)]$ equals 1 if the condition is true and 0 otherwise (more details about this operation could be found [here](https://en.wikipedia.org/wiki/Iverson_bracket)).\n",
        "\n",
        "\n",
        "### DCG@K\n",
        "The second one is a simplified [DCG metric](https://en.wikipedia.org/wiki/Discounted_cumulative_gain):\n",
        "\n",
        "$$ \\text{DCG@K} = \\frac{1}{N} \\sum_{i=1}^N\\frac{1}{\\log_2(1+rank_{dup_i})}\\cdot[rank_{dup_i} \\le K] $$\n",
        "\n",
        "where $rank_{dup_i}$ is a position of the duplicate in the sorted list of the nearest sentences for the query $q_i$. According to this metric, the model gets a higher reward for a higher position of the correct answer. If the answer does not appear in topK at all, the reward is zero. "
      ]
    },
    {
      "cell_type": "markdown",
      "metadata": {
        "id": "oEYpktN6ExO5",
        "colab_type": "text"
      },
      "source": [
        "### Evaluation examples\n",
        "\n",
        "Let's calculate the described metrics for the toy example introduced above. In this case $N$ = 1 and the correct candidate for $q_1$ is *\"How does the catch keyword determine the type of exception that was thrown\"*. Consider the following ranking of the candidates:\n",
        "1. *\"How Can I Make These Links Rotate in PHP\"*\n",
        "2. *\"How does the catch keyword determine the type of exception that was thrown\"*\n",
        "3. *\"NSLog array description not memory address\"*\n",
        "4. *\"PECL_HTTP not recognised php ubuntu\"*\n",
        "\n",
        "Using the ranking above, calculate *Hits@K* metric for *K = 1, 2, 4*: \n",
        " \n",
        "- [K = 1] $\\text{Hits@1} = \\frac{1}{1}\\sum_{i=1}^1 \\, [dup_i \\in top1(q_i)] = [dup_1 \\in top1(q_1)] = 0$ because the correct answer doesn't appear in the *top1* list.\n",
        "- [K = 2] $\\text{Hits@2} = \\frac{1}{1}\\sum_{i=1}^1 \\, [dup_i \\in top2(q_i)] = [dup_1 \\in top2(q_1)] = 1$ because $rank_{dup_1} = 2$.\n",
        "- [K = 4] $\\text{Hits@4} = \\frac{1}{1}\\sum_{i=1}^1 \\, [dup_i \\in top4(q_i)] = [dup_1 \\in top4(q_1)] = 1$\n",
        "\n",
        "Using the ranking above, calculate *DCG@K* metric for *K = 1, 2, 4*:\n",
        "\n",
        "- [K = 1] $\\text{DCG@1} = \\frac{1}{1} \\sum_{i=1}^1\\frac{1}{\\log_2(1+rank_{dup_i})}\\cdot[rank_{dup_i} \\le 1] = \\frac{1}{\\log_2(1+rank_{dup_i})}\\cdot[rank_{dup_i} \\le 1] = 0$ because the correct answer doesn't appear in the top1 list.\n",
        "- [K = 2] $\\text{DCG@2} = \\frac{1}{1} \\sum_{i=1}^1\\frac{1}{\\log_2(1+rank_{dup_i})}\\cdot[rank_{dup_i} \\le 2] = \\frac{1}{\\log_2{3}}$, because $rank_{dup_1} = 2$.\n",
        "- [K = 4] $\\text{DCG@4} = \\frac{1}{1} \\sum_{i=1}^1\\frac{1}{\\log_2(1+rank_{dup_i})}\\cdot[rank_{dup_i} \\le 4] = \\frac{1}{\\log_2{3}}$.\n"
      ]
    },
    {
      "cell_type": "markdown",
      "metadata": {
        "id": "9fHDmAFVExO6",
        "colab_type": "text"
      },
      "source": [
        "**Tasks 2 and 3 (HitsCount and DCGScore).** Implement the functions *hits_count* and *dcg_score* as described above. Each function has two arguments: *dup_ranks* and *k*. *dup_ranks* is a list which contains *values of ranks* of duplicates. For example, *dup_ranks* is *[2]* for the example provided above."
      ]
    },
    {
      "cell_type": "code",
      "metadata": {
        "id": "SfCP4r4zExO8",
        "colab_type": "code",
        "colab": {}
      },
      "source": [
        "def hits_count(dup_ranks, k):\n",
        "    \"\"\"\n",
        "        dup_ranks: list of duplicates' ranks; one rank per question; \n",
        "                   length is a number of questions which we are looking for duplicates; \n",
        "                   rank is a number from 1 to len(candidates of the question); \n",
        "                   e.g. [2, 3] means that the first duplicate has the rank 2, the second one — 3.\n",
        "        k: number of top-ranked elements (k in Hits@k metric)\n",
        "\n",
        "        result: return Hits@k value for current ranking\n",
        "    \"\"\"\n",
        "    ######################################\n",
        "    ######### YOUR CODE HERE #############\n",
        "    ######################################\n",
        "    \n",
        "    dup_ranks =np.array(dup_ranks)\n",
        "    return (k>=dup_ranks).mean()"
      ],
      "execution_count": 0,
      "outputs": []
    },
    {
      "cell_type": "markdown",
      "metadata": {
        "id": "yIWaKH7bExPA",
        "colab_type": "text"
      },
      "source": [
        "Test your code on the tiny examples:"
      ]
    },
    {
      "cell_type": "code",
      "metadata": {
        "id": "iYC2K-OyExPB",
        "colab_type": "code",
        "colab": {}
      },
      "source": [
        "def test_hits():\n",
        "    # *Evaluation example*\n",
        "    # answers — dup_i\n",
        "    answers = [\"How does the catch keyword determine the type of exception that was thrown\"]\n",
        "    \n",
        "    # candidates_ranking — the ranked sentences provided by our model\n",
        "    candidates_ranking = [[\"How Can I Make These Links Rotate in PHP\", \n",
        "                           \"How does the catch keyword determine the type of exception that was thrown\",\n",
        "                           \"NSLog array description not memory address\",\n",
        "                           \"PECL_HTTP not recognised php ubuntu\"]]\n",
        "    # dup_ranks — position of the dup_i in the list of ranks +1\n",
        "    dup_ranks = [candidates_ranking[i].index(answers[i]) + 1 for i in range(len(answers))]\n",
        "    \n",
        "    # correct_answers — the expected values of the result for each k from 1 to 4\n",
        "    correct_answers = [0, 1, 1, 1]\n",
        "    for k, correct in enumerate(correct_answers, 1):\n",
        "        if not np.isclose(hits_count(dup_ranks, k), correct):\n",
        "            return \"Check the function.\"\n",
        "    \n",
        "    # Other tests\n",
        "    answers = [\"How does the catch keyword determine the type of exception that was thrown\", \n",
        "               \"Convert Google results object (pure js) to Python object\"]\n",
        "    \n",
        "    # The first test: both duplicates on the first position in ranked list\n",
        "    candidates_ranking = [[\"How does the catch keyword determine the type of exception that was thrown\",\n",
        "                           \"How Can I Make These Links Rotate in PHP\"], \n",
        "                          [\"Convert Google results object (pure js) to Python object\",\n",
        "                           \"WPF- How to update the changes in list item of a list\"]]\n",
        "    dup_ranks = [candidates_ranking[i].index(answers[i]) + 1 for i in range(len(answers))]\n",
        "    correct_answers = [1, 1]\n",
        "    for k, correct in enumerate(correct_answers, 1):\n",
        "        if not np.isclose(hits_count(dup_ranks, k), correct):\n",
        "            return \"Check the function (test: both duplicates on the first position in ranked list).\"\n",
        "        \n",
        "    # The second test: one candidate on the first position, another — on the second\n",
        "    candidates_ranking = [[\"How Can I Make These Links Rotate in PHP\", \n",
        "                           \"How does the catch keyword determine the type of exception that was thrown\"], \n",
        "                          [\"Convert Google results object (pure js) to Python object\",\n",
        "                           \"WPF- How to update the changes in list item of a list\"]]\n",
        "    dup_ranks = [candidates_ranking[i].index(answers[i]) + 1 for i in range(len(answers))]\n",
        "    correct_answers = [0.5, 1]\n",
        "    for k, correct in enumerate(correct_answers, 1):\n",
        "        if not np.isclose(hits_count(dup_ranks, k), correct):\n",
        "            return \"Check the function (test: one candidate on the first position, another — on the second).\"\n",
        "\n",
        "    # The third test: both candidates on the second position\n",
        "    candidates_ranking = [[\"How Can I Make These Links Rotate in PHP\", \n",
        "                           \"How does the catch keyword determine the type of exception that was thrown\"], \n",
        "                          [\"WPF- How to update the changes in list item of a list\",\n",
        "                           \"Convert Google results object (pure js) to Python object\"]]\n",
        "    dup_ranks = [candidates_ranking[i].index(answers[i]) + 1 for i in range(len(answers))]\n",
        "    correct_answers = [0, 1]\n",
        "    for k, correct in enumerate(correct_answers, 1):\n",
        "        if not np.isclose(hits_count(dup_ranks, k), correct):\n",
        "            return \"Check the function (test: both candidates on the second position).\"\n",
        "\n",
        "    return \"Basic test are passed.\""
      ],
      "execution_count": 0,
      "outputs": []
    },
    {
      "cell_type": "code",
      "metadata": {
        "id": "DzNhALE9ExPF",
        "colab_type": "code",
        "outputId": "c97d5951-7ffd-4b58-852e-4b9cb3776abf",
        "colab": {
          "base_uri": "https://localhost:8080/",
          "height": 34
        }
      },
      "source": [
        "print(test_hits())\n"
      ],
      "execution_count": 0,
      "outputs": [
        {
          "output_type": "stream",
          "text": [
            "Basic test are passed.\n"
          ],
          "name": "stdout"
        }
      ]
    },
    {
      "cell_type": "code",
      "metadata": {
        "id": "m_rzago3ExPK",
        "colab_type": "code",
        "colab": {}
      },
      "source": [
        "def dcg_score(dup_ranks, k):\n",
        "    \"\"\"\n",
        "        dup_ranks: list of duplicates' ranks; one rank per question; \n",
        "                   length is a number of questions which we are looking for duplicates; \n",
        "                   rank is a number from 1 to len(candidates of the question); \n",
        "                   e.g. [2, 3] means that the first duplicate has the rank 2, the second one — 3.\n",
        "        k: number of top-ranked elements (k in DCG@k metric)\n",
        "\n",
        "        result: return DCG@k value for current ranking\n",
        "    \"\"\"\n",
        "    ######################################\n",
        "    ######### YOUR CODE HERE #############\n",
        "    ######################################\n",
        "    dup_ranks=np.array(dup_ranks)\n",
        "    return((k>=dup_ranks)/np.log2(1+dup_ranks)).mean()"
      ],
      "execution_count": 0,
      "outputs": []
    },
    {
      "cell_type": "code",
      "metadata": {
        "id": "SgXUOMjpExPO",
        "colab_type": "code",
        "colab": {}
      },
      "source": [
        "def test_dcg():\n",
        "    # *Evaluation example*\n",
        "    # answers — dup_i\n",
        "    answers = [\"How does the catch keyword determine the type of exception that was thrown\"]\n",
        "    \n",
        "    # candidates_ranking — the ranked sentences provided by our model\n",
        "    candidates_ranking = [[\"How Can I Make These Links Rotate in PHP\", \n",
        "                           \"How does the catch keyword determine the type of exception that was thrown\",\n",
        "                           \"NSLog array description not memory address\",\n",
        "                           \"PECL_HTTP not recognised php ubuntu\"]]\n",
        "    # dup_ranks — position of the dup_i in the list of ranks +1\n",
        "    dup_ranks = [candidates_ranking[i].index(answers[i]) + 1 for i in range(len(answers))]\n",
        "    \n",
        "    # correct_answers — the expected values of the result for each k from 1 to 4\n",
        "    correct_answers = [0, 1 / (np.log2(3)), 1 / (np.log2(3)), 1 / (np.log2(3))]\n",
        "    for k, correct in enumerate(correct_answers, 1):\n",
        "        if not np.isclose(dcg_score(dup_ranks, k), correct):\n",
        "            return \"Check the function.\"\n",
        "    \n",
        "    # Other tests\n",
        "    answers = [\"How does the catch keyword determine the type of exception that was thrown\", \n",
        "               \"Convert Google results object (pure js) to Python object\"]\n",
        "\n",
        "    # The first test: both duplicates on the first position in ranked list\n",
        "    candidates_ranking = [[\"How does the catch keyword determine the type of exception that was thrown\",\n",
        "                           \"How Can I Make These Links Rotate in PHP\"], \n",
        "                          [\"Convert Google results object (pure js) to Python object\",\n",
        "                           \"WPF- How to update the changes in list item of a list\"]]\n",
        "    dup_ranks = [candidates_ranking[i].index(answers[i]) + 1 for i in range(len(answers))]\n",
        "    correct_answers = [1, 1]\n",
        "    for k, correct in enumerate(correct_answers, 1):\n",
        "        if not np.isclose(dcg_score(dup_ranks, k), correct):\n",
        "            return \"Check the function (test: both duplicates on the first position in ranked list).\"\n",
        "        \n",
        "    # The second test: one candidate on the first position, another — on the second\n",
        "    candidates_ranking = [[\"How Can I Make These Links Rotate in PHP\", \n",
        "                           \"How does the catch keyword determine the type of exception that was thrown\"], \n",
        "                          [\"Convert Google results object (pure js) to Python object\",\n",
        "                           \"WPF- How to update the changes in list item of a list\"]]\n",
        "    dup_ranks = [candidates_ranking[i].index(answers[i]) + 1 for i in range(len(answers))]\n",
        "    correct_answers = [0.5, (1 + (1 / (np.log2(3)))) / 2]\n",
        "    for k, correct in enumerate(correct_answers, 1):\n",
        "        if not np.isclose(dcg_score(dup_ranks, k), correct):\n",
        "            return \"Check the function (test: one candidate on the first position, another — on the second).\"\n",
        "        \n",
        "    # The third test: both candidates on the second position\n",
        "    candidates_ranking = [[\"How Can I Make These Links Rotate in PHP\",\n",
        "                           \"How does the catch keyword determine the type of exception that was thrown\"], \n",
        "                          [\"WPF- How to update the changes in list item of a list\",\n",
        "                           \"Convert Google results object (pure js) to Python object\"]]\n",
        "    dup_ranks = [candidates_ranking[i].index(answers[i]) + 1 for i in range(len(answers))]\n",
        "    correct_answers = [0, 1 / (np.log2(3))]\n",
        "    for k, correct in enumerate(correct_answers, 1):\n",
        "        if not np.isclose(dcg_score(dup_ranks, k), correct):\n",
        "            return \"Check the function (test: both candidates on the second position).\"\n",
        "\n",
        "    return \"Basic test are passed.\""
      ],
      "execution_count": 0,
      "outputs": []
    },
    {
      "cell_type": "code",
      "metadata": {
        "id": "98cjRDB2ExPR",
        "colab_type": "code",
        "outputId": "1608806d-7cbb-480f-ab43-bbcacbeb3517",
        "colab": {
          "base_uri": "https://localhost:8080/",
          "height": 34
        }
      },
      "source": [
        "print(test_dcg())"
      ],
      "execution_count": 0,
      "outputs": [
        {
          "output_type": "stream",
          "text": [
            "Basic test are passed.\n"
          ],
          "name": "stdout"
        }
      ]
    },
    {
      "cell_type": "markdown",
      "metadata": {
        "id": "No_f2bUmExPT",
        "colab_type": "text"
      },
      "source": [
        "Submit results of the functions *hits_count* and *dcg_score* for the following examples to earn the points."
      ]
    },
    {
      "cell_type": "code",
      "metadata": {
        "id": "1h0Z99mqExPU",
        "colab_type": "code",
        "colab": {}
      },
      "source": [
        "test_examples = [\n",
        "    [1],\n",
        "    [1, 2],\n",
        "    [2, 1],\n",
        "    [1, 2, 3],\n",
        "    [1, 2, 3, 4, 5, 6, 7, 8, 9, 10],\n",
        "    [9, 5, 4, 2, 8, 10, 7, 6, 1, 3],\n",
        "    [4, 3, 5, 1, 9, 10, 7, 8, 2, 6],\n",
        "    [5, 1, 7, 6, 2, 3, 8, 9, 10, 4],\n",
        "    [6, 3, 1, 4, 7, 2, 9, 8, 10, 5],\n",
        "    [10, 9, 8, 7, 6, 5, 4, 3, 2, 1],\n",
        "]"
      ],
      "execution_count": 0,
      "outputs": []
    },
    {
      "cell_type": "code",
      "metadata": {
        "id": "R5lT8MQzExPX",
        "colab_type": "code",
        "outputId": "5698ead9-89ef-44fb-c2e8-4e6c6e6315ec",
        "colab": {
          "base_uri": "https://localhost:8080/",
          "height": 323
        }
      },
      "source": [
        "hits_results = []\n",
        "for example in test_examples:\n",
        "    for k in range(len(example)):\n",
        "        hits_results.append(hits_count(example, k + 1))\n",
        "grader.submit_tag('HitsCount', array_to_string(hits_results))"
      ],
      "execution_count": 0,
      "outputs": [
        {
          "output_type": "stream",
          "text": [
            "Current answer for task HitsCount is: 1.0\n",
            "0.5\n",
            "1.0\n",
            "0.5\n",
            "1.0\n",
            "0.3333333333333333\n",
            "0.6666666666666666\n",
            "1.0\n",
            "0.1\n",
            "0.2\n",
            "0.3\n",
            "0.4\n",
            "0.5\n",
            "0.6\n",
            "0.7\n",
            "0.8\n",
            "0.9\n",
            "1....\n"
          ],
          "name": "stdout"
        }
      ]
    },
    {
      "cell_type": "code",
      "metadata": {
        "id": "-hN4ubQzExPa",
        "colab_type": "code",
        "outputId": "e0705ce3-a1b9-4de6-da38-0388bff8e418",
        "colab": {
          "base_uri": "https://localhost:8080/",
          "height": 153
        }
      },
      "source": [
        "dcg_results = []\n",
        "for example in test_examples:\n",
        "    for k in range(len(example)):\n",
        "        dcg_results.append(dcg_score(example, k + 1))\n",
        "grader.submit_tag('DCGScore', array_to_string(dcg_results))"
      ],
      "execution_count": 0,
      "outputs": [
        {
          "output_type": "stream",
          "text": [
            "Current answer for task DCGScore is: 1.0\n",
            "0.5\n",
            "0.8154648767857288\n",
            "0.5\n",
            "0.8154648767857288\n",
            "0.3333333333333333\n",
            "0.5436432511904858\n",
            "0.7103099178...\n"
          ],
          "name": "stdout"
        }
      ]
    },
    {
      "cell_type": "markdown",
      "metadata": {
        "id": "gT3I7-RCExPd",
        "colab_type": "text"
      },
      "source": [
        "##  First solution: pre-trained embeddings"
      ]
    },
    {
      "cell_type": "markdown",
      "metadata": {
        "id": "StoNPGaLExPe",
        "colab_type": "text"
      },
      "source": [
        "We will work with predefined train, validation and test corpora. All the files are tab-separated, but have a different format:\n",
        " - *train* corpus contains similar sentences at the same row.\n",
        " - *validation* corpus contains the following columns: *question*, *similar question*, *negative example 1*, *negative example 2*, ... \n",
        " - *test* corpus contains the following columns: *question*, *example 1*, *example 2*, ...\n",
        "\n",
        "Validation corpus will be used for the intermediate validation of models. The test data will be necessary for submitting the quality of your model in the system."
      ]
    },
    {
      "cell_type": "markdown",
      "metadata": {
        "id": "I0weiomuExPe",
        "colab_type": "text"
      },
      "source": [
        "Now you should upload *validation* corpus to evaluate current solution."
      ]
    },
    {
      "cell_type": "code",
      "metadata": {
        "id": "rLVrl7s3ExPf",
        "colab_type": "code",
        "colab": {}
      },
      "source": [
        "def read_corpus(filename):\n",
        "    data = []\n",
        "    for line in open(filename, encoding='utf-8'):\n",
        "        data.append(line.strip().split('\\t'))\n",
        "    return data"
      ],
      "execution_count": 0,
      "outputs": []
    },
    {
      "cell_type": "code",
      "metadata": {
        "id": "70aLixslExPh",
        "colab_type": "code",
        "colab": {}
      },
      "source": [
        "validation = read_corpus('data/validation.tsv')"
      ],
      "execution_count": 0,
      "outputs": []
    },
    {
      "cell_type": "code",
      "metadata": {
        "id": "PJslEbi78kuX",
        "colab_type": "code",
        "outputId": "4733d5ae-65be-4eaf-f28a-5bd346eca2f4",
        "colab": {
          "base_uri": "https://localhost:8080/",
          "height": 54
        }
      },
      "source": [
        "print (validation[0])"
      ],
      "execution_count": 0,
      "outputs": [
        {
          "output_type": "stream",
          "text": [
            "['How to print a binary heap tree without recursion?', 'How do you best convert a recursive function to an iterative one?', 'How can i use ng-model with directive in angular js', 'flash: drawing and erasing', 'toggle react component using hide show classname', 'Use a usercontrol from another project to current webpage', '~ Paths resolved differently after upgrading to ASP.NET 4', 'Materialize datepicker - Rendering when an icon is clicked', 'Creating PyPi package - Could not find a version that satisfies the requirement iso8601', 'How can I analyze a confusion matrix?', 'How do I declare a C array in Swift?', 'Using rand() when flipping a coin and rolling a die', 'Handling a JSON field with a special character in its name in Java', 'React Native select row on ListView when push it', \"Get 'creation_time' of video using ffmpeg and regex\", 'Does row exist and multiple where', \"How to specify a classifier in a gradle dependency's dependency?\", 'Using $unwind on multiple documents', 'Visual Studio Code: Missing X509Certificate2UI', 'Developing Cordova plugins for Firefox OS', 'Update multiple rows for 2 columns in MySQL', 'Analyse format of alpha-numeric string', 'Dealing with large TIFF images C++/Magick/libtiff', 'What does Error: [$injector:unpr] Unknown provider: tProvider <- t <- myActiveLinkDirective mean?', 'AngularJS - Apply directive instantly, formating currency', 'Can I change the font color on a portion of a string?', \"Spring AOP does not intercept methods within Spring's container\", 'How to retrieve json in original nested form in apache solr?', \"Spatial autocorrelation using Moran's I or other spatial overlap index\", 'how to stop my php page from continuing when field is empty', 'Selecting all CheckBoxes in ListBox not displayed properly', \"PHP warning: Illegal string offset 'field'\", 'WebBrowser control crashes on Windows 10', 'Error while opening a modal in angular', 'Port 25 works when exe run manually but blocked when run as service', 'Why does 6.00 + (plus) 5.00 = \"5.006.00\"?', 'Count number of processes created using fork in a for loop', 'When should I use UIImagePickerControllerSourceTypePhotoLibrary instead of UIImagePickerControllerSourceTypeSavedPhotosAlbum?', 'Read File in Java, output the first comma delimited String', 'Simple recursive method', 'Ensure SQLite table only has one row', 'Why is there a method iterator() on java.util.Collection', 'Development for Cloudant using local CouchDB', 'Regex to find method calls', 'ASP.NET Menu rendering different from vs2008 to vs2010', 'Maven - Change jUnit Version in Quickstart Archetype', 'Writing sublists in a list of lists to separate text files', 'iPad: problems with table rows in popovercontrol', 'Retrieve multiple results set', 'pagination is not working in codeigniter :(', 'Angular NVD3 Change Colors In Legends Also', 'node.js server not responding while large file upload with express and busboy', 'Send request & Get Response in Windows Phone 8.1 WinRT', 'want to delete only empty folders from directory before last 30 days using batch', 'Creating X amount of threads that execute a task at the same time', 'Android Studio 2.2 update: aligned APK (zipAlign) not generated using the new Gradle Plugin 2.2.0', 'Entity Framework - adding the same entity twice in many-to-many relationships', 'Join two tables, only display unique values and maxium date', 'How to use absolute position relative to parent element', 'Search refinement for WebMatrix site', 'Maven project version as expression, not constant', 'Can I prevent App.g.i.cs to be generated?', 'Troubles converting XSD to Java using JAXB', 'Cannot run a jax rs web service with tomcat', 'make a password protected bash script resist/refuse \"bash -x\" when the password is given', 'Does youtube api play function trigger a view count?', 'Why is this Perl loop over strings then characters so slow?', 'How can I change the size of rgl plots in Shiny RMarkdown?', 'How do I programmatically disconnect clients which are connected to Solace appliance?', 'Rails before_filter (Correct_user OR Admin)', 'How to gitignore everything except hidden subdir?', 'Should I use weakSelf in nested blocks?', 'CSS background color not behaving as expected', 'Android app Listview cannot be scrolled to bottom to search a specific element using appium in java', 'Rails: Why \"has_many ..., :through => ...\" association results in \"NameError: uninitialized constant ...\"', 'How to send data between fragments when swiping tabs in ViewPager', 'Wordpress static pages: how to embed content into templates?', 'Troubles with importing classes from Angular 2 modules with Typescript 1.7', 'i am not able to get the images read in java for exporting it as JAR', 'How do I create a resource dll', 'error: linker command failed: ld: duplicate symbol _main', 'sql to find non-printable characters in a string', 'i want to generate payperiod for each month', 'Interactively enter headline under which to place an entry using capture', 'Querying the DNS service records to find the hostname and TCP/IP', 'Can I use setContentView outside the oncreate method?', 'Consolitate data from multible sheets ,re-arrange the data as per the column name', \"Why is my 'transparent' overlay view opaque?\", 'how can I run play framework with port=9001 under windows cmd not under play console?', 'Rails 3 - Ajax POSTS from a link click', 'Add html content to mysql die error?', 'Best way to run a Plack PSGI Perl application outside of Apache using FastCGI?', 'How to Call NSUserDefault Value To Another View Controller?', 'Does Qt have a way to get the font that the particular css resolves to?', 'How to update Parent component about the data that child component modified(angular 1.5)', '2d array, pushing to one array shows up in all arrays?', 'Get NSData from assets-library URL', 'How to specify image size in HTML Doxygen?', 'NSFetchedResultsControllerDelegate in a second view controller (not firing?)', 'Draggable divs getting mixed with another divs', 'creating MLP in python showing error', 'Create SharePoint 2010 ribbon button programmatically w/o feature XML', 'how can I use pyglet write a music player can play a music list', 'How can I efficiently debug loops consisting of a large number of iterations on Eclipse?', 'Passing a model object to a RedirectToAction without polluting the URL?', \"Automatically receiving mobile phone's SMS to hyperterminal\", 'Output \"System.out.println\" into Emacs Cider\\'s REPL (or other buffer)', 'Scoring regression model using PMML with Augustus in Python', 'Safari View Controller - send data back to app', 'Signalling a bash script running in the background in an infinite loop', 'How do I add in-app purchase to a published app in play store and test it before going into production?', 'FileNotFoundException in Windows 10 Universal App (UAP)', 'How to map one column with other columns in an avro file?', 'Retrieving all the cell data from a jQuery datatable on post', 'In Play! Frame work Can I Make classes In models package Singleton?', 'Binding events with Hammer.js and .on()', 'yii making user auto logged in on signup end (auto authentication after signup)', 'Unreal Engine 4: save rendered frame to memory', 'Building HelloWorld C++ Program in Linux with ncurses', 'Generating Checkbox Lists with MVC3 using a complex viewmodel and a cross table with Linq to SQL', 'CordovaWebView: TIMEOUT ERROR', 'Whats wrong in my xsd schema ? It gives type element is not declared on include of another xsd file', 'Angular and papaParse Integration', 'Setup a graylog2 server with elasticsearch in a vagrant machine', '(Solved-See my comment)How to make a password form on tumblr?', 'Javascript: Call a method inside another method', 'aws api gateway client-side ssl certificate verification with nginx', 'Kendo UI drop downs posting arrays', 'ServiceStack Identity on field other than PK - Insert fails', 'Redirection when rendering controller in twig SYMFONY 302', 'CSS Sprites Bottom repeating', 'How can I sort a table of Laravel Eloquent objects by a custom attribute?', 'Comparing elements in a generic list', 'Set minDate for Bootstrap DateTimePicker from another', 'What is the difference between :g and :%s commands in vim', 'Java: creating self extracting jar that can extract parts of itself out of the archive?', 'set html text color and size using javascript', 'Queue using Arrays', 'foreach loop when using Xml.XmlElement in remote scriptblock', 'How to print list of categories and click on each category one by one in selenium/appium?', 'Every now and then, ABCpdf runs out of memory', 'In Spring OAuth2, why is my resource still unprotected even though I have marked it in my resource server?', 'how to restart node application automatically on aws elastic-beanstalk', 'Unresolved external symbol LNK2019', 'Celltemplate in angular-ui-grid is not working properly', 'Escaping backslashes in method call stringByReplacingOccurrencesOfString Does not work in Objective C', 'APEX Data Loading - Add a column programatically', 'MySQL / MariaDB shuts down after exactly 1 minute 42 seconds', 'Mouse movement / mouseover and JavaScript evaluation in watir', 'Removing backslashes from a string in Python', 'Array manipulation (accessing specific bytes)', 'Rails: Does Application.css load all css.scss files?', 'LongListSelector cannot change ItemsSource', 'C# DateTime not recognising timezone change (BST)', 'deinit in child view controllers', 'How to send back to custom class which object of that class was clicked', 'delete from array returning self', 'MS Access Properties', 'UIWebView always add a parameter in url issue', 'comparing two spanned strings in edittext in android', 'Add prefix to control id and still have it bind MVC Razor', 'EXC_BAD_ACCESS when setting Integer to anything else than zero', ':hover CSS is not working?', 'Blowfish last block incomplete in decryption', \"Reading uploaded image: undefined method `file' for nil:NilClass\", 'How can I run IntelliJ IDEA on a remote desktop', 'How to get the JSONObject server response in Volley', 'Guide in organizing large Django projects', 'how to populate a dropdownlist based on another dropdownlist selected value in mvc 4?', 'Azure ServiceBus Token Expired', 'iBatis to MyBatis migration efforts?', 'Where should I look for the document generated using htp package', \"Tortoise SVN Error after update: 'The specified path has an unexpected status'\", 'Extract html data after logging into website from android app', 'Add key value to array without triggering an array', 'How to write this math equation into c++', 'Undefined index php mysql error', 'when text changed inputbox automatically updates next 6 text boxes', 'Unable to get email of facebook user', 'iphone: Facebook logout feature is not work in my app', 'how to force my app NOT to use the 3g data proxy setting', 'Unit Testing - What do you do when your code is pretty much just a calculation (GetHashCode for example)?', \"Status of CheckBox can't be detected\", 'Sort a list with multiple conditions Ruby on Rails', 'How to sharp the text in css3?', 'How to change the class of an object dynamically in C#?', 'Creating an Array with a Default Value,But the default value is changed', 'How to call a delegate\\'s function without getting the \"instance method not found\" warning in ios?', 'Android, background drawable appear black in genymotion but looks fine in intellij', 'Table has no columns using google charts', 'Dropdown list where options populate a second list js/php?', 'difference between <% and <%= ruby', 'How to remove the functionality of changelist filter appearing in django admin?', 'how to unpack stxetx data in python', 'Ansible: playbook calling Role in a directory that is in the roles directory', 'Setting up HTTPS redirects on Heroku Laravel Instance', \"Input helper valueBinding is deprecated - what's the alternative?\", 'Using MySQL.connector with Twisted Python to execute multiple queries', 'MySQL - 1 large table with 100 columns OR split into 5 tables and JOIN', \"neo4j load csv when field name has a '.' in it\", 'Mocha + React: navigator is not defined', 'semantic ui grid - display full width of column, after \"computer only\" columns is hidden', 'populating select menu options using javascript', 'Serializing MongoDB find() return into non-anonymous JSON array, using PyMongo', 'Geom tile white space issue when the x variable is spread unevenly accross facet grids', 'Moving files depending on the profile in a WAR', \"Check if it's the last record in sqldatareader\", 'Assigning to columns in NumPy?', 'Android Facebook ApiException: Invalid Application', 'Django: customizing the message after a successful form save', 'Custom TextBox with built-in Validator: server side validation not firing', 'How to embed mjpeg file on a webpage', 'php delete on jQuery doesnt work', \"AWK doesn't work in Bash Script\", 'Launch specific app when external accessory attached', 'Three Inputs in a Row - Bootstrap 3', 'How compiler like GCC implement acquire/release semantics for std::mutex', 'Framework search for upcoming project', 'Implementing a Web Service Server in Windows CE 2013', 'Why do I keep getting \"The digital signature of the object did not verify\" for Windows JavaEE installer', 'hide paging numbers in gridview?', 'How to remove sublayers from a view afer a touch', 'CUDA: Can i find out if i have global memory coalescence?', 'How to read a google chrome crash dump with windbg', 'jQuery targeting nested list', 'pass the column value when checkbox is clicked in wijmogrid column', \"How to normalize your database in hibernate? (Repeating values don't get saved again and again)\", 'how to stop validation on a particular textbox after hiding this textbox using angularjs', 'opencv imshow with waitKey too slow on Mac OS X 10.10.2 (using c++)', 'Setting an Input Box Background', 'IntelliJ IDEA: \"Element ignore is not allowed here\"', 'Slider does not work in the jQuery Tabs', 'Carrierwave getting image width and height and storing it in an hstore field', 'OpenProcess() succeeds, but EnumProcessModules() fails', 'Django + Forms: Dynamic choices for ChoiceField', 'using Url.Content to display the file content with .net mvc', 'PDO cannot able to fetch image from database', 'error in adding overlay in current location', 'Internal section link fails in beamer output of pandoc markdown', 'Adding ROW_NUMBER() to query loses DISTINCT, defeats the purpose of paged results attempt', 'android studio 135.1339820 launches wrong java version on openSuse 12.3', 'My Facebook object is empty', 'Java code reads UTF-8 text incorrectly', 'PHP session.cookie_secure does not actually set the cookie to secure', 'Using webapp2, how can I get the value of a form\\'s \"name\" attribute during a POST request?', 'Finding Uppercase Character then Adding Space', 'Table data pass into stored procedure as param and insert into another table in mysql', 'Inject entry point class in GWT with GIN', 'How to group by week of the year dates or day dates that start on Sundays in oracle 10?', 'What are the options Some and None SML?', 'Reversing a .mp3 programmatically', 'Convert Associative Array in PHP and insert it to database', 'Why is the \"map\" version of ThreeSum so slow?', 'ant keeps recompiling', 'HttpContext.Current.User.Identity.Name returns blank', 'UIWebView Javascript Window to Window Communication', 'Fluent NHibernate Exception: An association from the table X refers to an unmapped class: System.String', 'Are .NET memcache libraries production ready?', \"DB2 Can't connect to db with new user\", 'Django flatpages backup?', 'Trouble with Creating One-Time Calendar Event from Google Sheet row', 'The colored image turned to have no color and just a grey vector in drawable?', 'how to show pattern in asp-Repeater item template?', 'Fastest scripting language for Java?', 'Tried to reverse engineer my app, but got some weird-looking file tree', 'Startup for bundles placed in the deploy folder of Karaf', 'd3js force layout with hide/unhide on node click misplaces nodes after expanding', 'Unique column definition in SQL', 'Hash of a cell text in Google Spreadsheet', 'How to pin/unpin Microsoft Edge developer tools in Windows 10', 'Which editor can align tables in reStructuredText for Sphinx?', 'How to walk through a directory in c and print all files name and permissions', 'iOS KVC DRY mutation', \"IBM MobileFirst Platform iFix doesn't update the version displayed in Operations Console\", 'relative layout aligning images about right bottom corner', 'How to retrieve a PDF(document) from the Tridion File System and create a multimedia component out of it', 'HTML sends x y POST data with no inputs - how is this possible?', 'How can I view Azure logfiles when running locally?', 'is there a web service client code generator on iOS?', 'Get smallest type to include data range', 'Get dates as check if it is ending', 'Cordova brightness still returns -1', 'How to detect 3 keyboard buttons in Swing?', 'Python calculations in two groups', 'create array from mysql query php', 'TDD vs Defensive Programming', 'Display logo or image in the Ribbon using VSTO', 'How can I get a meaning of a jsp variable in java code on the same page?', 'Conversion of cloud data into 2d image using OpenCV', '[python-suds]Bug? One additional element is created when using Factory', 'Using clang to analyze C++ code', 'Login with email and password control not working', 'ansible: use different logging level for terminal and log file', 'Draggable window with pyqt4', 'dynamically adding edittext depending on the elements of json array', 'How to convert ftp.getModificationTime(file) to readable format', 'PHP Login Form using DashDB', 'Building a properties file to the top level of a WAR file, Spring-MVC/Maven', 'Enabling breakpoints in goclipse', 'error while including external JARs in ant script', 'Comparison of web widgets in flash and javascript', 'Why must I free this data? Am I the owner?', 'Optimizing a very huge mysql table (query or mysql)', 'tlbexp.exe outputs different tlb information on 2012 versus 2010', 'How to create a Facebook Like with a post/comment box', 'Codeigniter PDO integration', 'pass string array as parameter to asp.net mvc webapi method', 'Removing space in dataframe python', 'How to set application identity of an application pool using web administration module in powershell?', 'how to handle play database connection exceptions', 'querydsl 3.3.0 - using collection.any() with elementcollections in a query with N boolean arguments generates N \"exists\" sub-queries', 'Gson: Change the way Map-Keys are being serialized', 'Improving gnuplot 3d plots from data files with pm3d', 'Divide problem', 'Yii2: Using Kartik Depdrop Widget?', 'Can anyone post an example of how to enable SSL in Tsung?', 'MPI_Isend and MPI_Irecv seem to be causing a deadlock', 'Virtual Box port forwarding misery with Ruby Sinatra:4567 / Shotgun:9292', 'Enhancing regex to match more URLs', 'JavaScript classlist selector error', 'My IntelliJ IDEA 11.1.5 lost the ability to debug node.js applications after upgrading to windows 8.1', 'Scientific notation android java', 'How to make a JSON array case insensitive for Twitter Typeahead?', 'Membase can someone explain the idea behind their technology', 'Struts 2 + Dojo + Datetimepicker', 'Cannot retrieve data from find query', 'How long are resources used (file descriptor and memory) for Java temporary files (jar_cache####.tmp)?', 'how to pass a variable in WHERE IN clause of oracle sql?', 'How can I transform the coordinates of a Shapefile?', 'Mapping result of aggregate query to hibernate object', 'Drawing Application how to save drawing in android phone memory', 'Error while using npm install -g generator-jhipster', 'Get abs path from the currently edited file in Eclipse', 'Post form data to foreign aspx form', 'Logging in Azure web jobs', 'MTM with (automated) CodedUITest test-cases developed in VS2013 issues', 'How to print contents of an HTML element in MacGap?', 'ASP.NET Control not available in CodeBehind', 'How can I disable the IIViewDeck functionality momentarily?', 'Why would I create a struct with only a `PhantomData<()>` member?', 'Accessing masterpage properties from child pages in ASP.net VB', 'Bash read inside a loop reading a file', 'Random number between 1 and 20 excluding numbers already picked', 'Wordpress Navigation Label in Browser tab', 'Taking control of the soundCard with JAVA', 'STL containers and large amounts of data', 'Colour in Backorder Products dropdown based on stock in WooCommerce', 'Richfaces - <rich:autocomplete> not showing suggestions', 'How to select and enlarge a Masterpane in Zedgraph', 'react-native android publishing keystore', 'What is a good way to find a specific value in an XML document using C#?', 'Can i make my own Singleton Stateless Bean with EJB 3.0?', 'How does Google App Engine precompile Java?', 'Using dispose() method instead of close() method to a form', 'Spring Oauth2 \"Full authentication is required to access this resource\" with valid access token', 'Why is my code only displaying incorrect even if I have the right answer?', 'Forcing function in ODE', 'Get sum of column on last row, good practice?', 'Simple Karma + Typescript configuration - Reference Error: x is not defined', 'Error building Player because scripts have compile errors in the editor', 'Property Testers do not load despite forcePluginActivation. For popup menu enablement', 'Javascript regex to match last word regardless of specials characters', 'Develop multilangual system', \"angular-mock testing in Karma+Mocha can't find module\", 'How to append an element inside object using a common way', 'Generate random \"dark\" colours only in Java', 'Access element in list using indexes stored in another list', 'How to correctly use setq in elisp?', \"iOS - Today Extension 'show more' & 'show less' state incorrect. Collapsed says 'show less' - requiring multipule presses to fix\", 'how to get the position of the cursor in an editable div', 'flickering of image in SWT', 'Completely random identifier of a given length', 'Angular 2 Render Flat List from Hierarchal Data', 'Java RMI threads on client-side are executing sequentially or concurrently when calling the same remote object?', 'Variable-size buffer for receiving UDP packets', 'CreateSqlQuery on entity with formula property', 'Datepicker TIMESTAMP divide by 100', 'how to print out the whole table using anonymous block in pl sql?', 'In Sentora i will need to integrate a clamav Module', 'how do i set a value of a multiple <select> tag from the database', 'show decimal value in C#', 'Javascript: how to affect other element when hovering?', 'Creating new popup window when click button', 'How to Depict Either/Or Inheritance in a UML diagram?', 'Ajax post success data: Can you separate results?', 'Document.getElementById() not available for ChromiumWebBrowser in visual studio', 'target of assignment expands to non-language object', 'How do I configure distributed transactions for NServiceBus', 'How to combine an array of png images like layers using C#?', \"yii2 gii CRUD Generator error - Class 'Message' does not exist or has syntax error\", 'Get values of checkbox to other page', 'Session on subdomains still not working', 'How can I turn off host name resolutios?', 'syntax error, unexpected end-of-input', 'Erlang: \"extending\" an existing module with new functions', 'tcl string replacement', 'how to access directory in plesk (control panel )', 'Minimizing the sum of a special function over a list', 'VB.Net & Access - Set two foreign keys, that refer to the same table/field', 'Memory Monitoring Tool for Erlang Threads', 'Disable Spring Boot Security @Secured at runtime', 'Join two tables on the same date or closest date (before or after)', 'Power Point viewer asp.net mvc', 'Swift: Get an element from a tuple', 'images rotation to the right', 'Can I access the visual voicemail files on the iphone thru the SDK?', 'Proximity alert for locations saved at server', 'Tableviewcell button', 'Angularjs select does not mark matching model as selected', 'How can i use id to do action on an object of an android using Robotium tool?', 'How can i pass a value to constructors of collection of instances at runtime with simple injector?', 'Large binary shifts in 8086 assembly?', 'Directshow, format type change filter', 'How to open model window on option selection?', 'Update value in sqlite iphone sdk', 'Installing ADT plugin in Eclipse for Android development', 'Automating a ContextMenu with Watin', 'how to evaluate the performance of any cryptographic algorithm (say elliptic curve)?', 'Nth-child Selector with Prototype', 'Difference in performance of compiled accelerate code ran from ghci and shell', 'Database design for email messaging system', 'Java SE Development Kit 8u20 Install Options', 'Reading a file in chunks', 'Twitter style Web Application based on LAMP, Symfony2, Backbone : possible?', 'Regexp for C preprocessor command', 'Cmposition, I dont quite get this?', 'CakePHP form submits the \"array\"', 'Store feed forward network in mongodb', 'bash read strings and output as one key and multiple values', 'http client in python fails to recive', 'Dynamic languages - which one should I choose?', 'How to start an IntentService from a WakefulBroadcastReceiver', 'C++: Converting wstring to unsigned char', 'How to make echo interpret backslash escapes and not print a trailing newline?', 'AngularJS.. http.get working, when splitting into its own service module its no longer working', 'How do I determine the number of elements in an array reference?', '\"TypeError: \\'NoneType\\' object is not iterable\" on what should be a list', 'Replace random image on website', 'Rotation matrix between two camera system', 'Animated border which wraps around', 'cron job not picking up oracle query result', 'Formview and MS-Ajax UpdatePanel', 'How to update data with TreeStore or TreeEditor component?', 'Get kwargs passed to url_for in Flask view', 'how to reload the template when working with enlive without restar', 'Thread-safe get (accessor method)', 'How can I tell if \"inline\" worked?', 'calling some logic before user is logged out using spring security?', 'Java pattern to find two groups of two letters in `ABC`', 'MYSQL distincs entry of two columns even when switched', 'How Antlr creates tokens', 'Play Framework 2.4 - Java - Http header and cached response', 'List of Strings in a Grails domain class', 'Insert into MongoDB via Node.js', 'How to stop or pause Pandora and Spotify', 'Oracle Function: Replicate wm_concat', 'Return user to previous page after login (Rails)', 'Custom Layout Manager using predefined and developer-defined child view(s)', 'In Ruby, how do I specify a file in another directory as an input?', 'Unable to read View Bag value from controller to view', 'Parameters on time stamps in oracle sql developer', 'measuring the time to load a page - Python', 'Set height of child to height of parent', 'How can I find the element that caused another element to fire the focusout event?', 'How to get the latest created table in MySQL?', 'Better way to reference $scope in AngularJS', 'Sharing data between Elastic Beanstalk web and worker tiers', 'iOS certificate pinning with Swift and NSURLSession', 'Sharing UDP Data across apps (background/foreground or Split screen multitasking) in iOS', 'iPhone: Facebook logout feature does not working', 'AutoHotKey. Hotstrings and Auto-replace not working in Visual Studio 2008', 'Issue setting up Android SDK - Failed to Start Emulator', 'Why is the dismissable alert not being dismissed?', 'Error while executing change data capture sql query', 'multiple queries - Route.get() requires callback functions but got a [object Undefined]', 'How to attach custom element to shadow DOM in html web components in a secure way?', \"flash javascript don't work (Second try)\", 'How do EGit versions map to Git versions', 'How the ftp uploads works in PHP?', 'Sql XML to Delphi', 'Lookup table with the query with arbitrary length without using a for loop in R', 'C# XML deserialization XmlAttribute', 'CSS, JQuery: Animated transform from 3 lines menu to cross', 'Can m2e install an external jar file? Or do I need to install the maven command line tool?', 'Does gSOAP RESTful implementation require the definition of a WSDL', 'Automatically create an appointment in Outlook using message content', 'JSoup error: java.lang.IllegalArgumentException', 'Add Button to CMS_Page_Edit via Observer', 'How to do an XOR of the binary forms of all integer items in a list', 'How to add regularization in Scipy Linear Programming (Non-negative Least-Squares)', 'Highlight backgroung colors of some words in HTML Document in java', 'Is there a way to retrieve process stats using Perl or Python?', 'Excel NamedRange.Find Method with Regex pattern match in C#', 'cmake error when configuring', 'How to set first column to a constant value of an empty np.zeros numPy matrix?', 'Eclipse Plugin - get Launch Configurations Tree List in a Dialog.', 'What are the RESTful best practices on defining a query parameter with an or condition?', 'Extracting text from the input field - using Webdriver', 'One <hr> tag is working but not the other in Firefox. Why is that?', 'ajax request xml from php', 'Embedded Java server using Grizzly: How do you enable http2', 'Finding Minimum Completion Time of Scheduled Tasks with Topological Sort', 'How to set jQuery draggable min/max-left and min/max-right', 'semantic-ui modal size keeps extending to the height of a page', 'Is there any direct git command to push changes to another branch', 'How and is it worth to integrate Java Webapp + drools + Guvnor?', 'How to debug Error Messsage in Odoo', 'calculate differences between two numbers', 'Data constructor in template haskell', 'Tying composer.json to a specific Laravel 5 SHA', 'Django 1.7.1 requires a Default value for field - but no entry is in database. Why?', 'addEntriesFromDictionary: a true copy method?', 'Spring Boot OAuth2 with encrypted JWT access token', 'Wrap text if it is longer than max_characters', 'iptables: Duplicating/Forwarding ports', 'Multiple custom fields stored as meta_keys, how to connect with the post?', 'Android GridView crashes or is very slow on some devices (Samsung Galaxy S4, S3)', 'HTML/CSS: Input element weird indent ie7', 'What exactly does Double mean in java?', 'Most effective ways to extract Android Cursor (sqlite) into an array to be used in AlertDialog.Builder?', 'jenkins can not find android SDK', 'Can I open a new window and change the DOM of the calling window in JavaScript?', 'dynamically Change Itemized overlay draw circle using seek bar progress', 'How do I fix django.db.utils.IntegrityError: duplicate key value violates unique constraint?', 'Inno Setup not creating registry entry in Software/Microsoft/Windows/CurrentVersion/Uninstall', 'build from hadoop source code in centos', 'C# LinqToSql SubmitChanges() does not update, even though PK is set', 'How to read utf16 text file to string in golang?', 'Objective C ePub framework', 'Reducer output to different files based on keys', \"Is it possible for a Chrome Extension to get a user's full browsing history?\", 'Variable Number of Nested For Loops', 'Ordered http request parameters', 'Testing the Oracle to_date function', 'Getting the error of POST method from another PHP file', 'Multiple selection of worksheets into one workbook copy paste of content into one main sheet', 'Why do I keep getting \"developer inactive\" errors when calling the Beats Music API?', \"My select command doesn't work\", 'node js read files line by line', 'PHPStorm/Webstorm increase memory to more than 512MB', 'Want to open google.com at specific location and make it specific window size', 'Database not updating new row', 'Spring suite tools start error - spring boot', 'Slider in codenameone', 'Issue with $(this) and toggle() multiple classes', 'How to load file from dir using Racket?', 'Removing quotation mark using javascript does not remove single quotation marks', 'Firebase Android ChildEventListener Triggered onChildRemoved() before onChildAdded() When new data added', 'Python. Error using animation.FuncAnimation', 'How to make inline comments in Org-mode?', 'Find years with distinct digits - CCC 2013', 'Identify customer visits occurring after a given time period in mysql', 'Finding the distinct count from a cassandra column using Tableau', 'Prism : Change the active view', 'Get Color from int', 'Dynamic subversion repos via subdomains (in Apache)', 'How to multithread my for loop in Python', 'How to get recycler view list item count using Espresso', 'How to PIVOT and calculating column average', 'Fastest way to separate the digits of an int into an array in .NET?', 'Escaping special characters in SphinxSE', 'Importing sqlite file into r', 'Sort order of related products not working in Magento 1.6', \"Display 404 not found template for 'slugs' when publication returns empty cursor - Meteor - iron-router\", 'Is there a way to tell if an object has implemented ToString explicitly in c#', 'VFS: file-max limit 1231582 reached', 'Play 2.2 EssentialAction With Futures', 'AppBarLayout / CollapsingToolbarLayout expands indefinitely', 'how to deselect all Radio Button in Radio ButtonGroup on button click in flash as3?', 'numpy array creating with a sequence', 'Sed: Matching words with any permutation of two characters', 'Make Child element appear outside of parent', \"MobilePin createuserwizard doesn't work?\", 'Fit Image in canvas using WPF', 'Adding a fontawesome icon with border into form input', 'finding pixel location of Listview item seems to return wrong value', 'sails 0.9.8 not work, when created controller and lift it', 'Larave File not found at path but it does exist', 'RequiredFieldValidator causes validation on Server even if validator is disabled(CausesValidation=\"false\")', 'Retrieving HTML content from a page requiring authentication using PHP', 'How to generate linked-axis in matplotlib', 'Print % sign with string formatting', 'How to calculate the dimensions of the monitor in PyQt4/Windows/Linux?', 'VBA Outlook 2010 retrieving information from Active Directory', 'Modifying bootstrap thumbnails', \"ASP.Net: What's keeping old AppDomains alive?\", 'A library uses the same package as this project after importing Facebook SDK', 'Unable to run compiled .classes from the command line', 'Is it possible to partially decode and update JSON? (go)', 'How to use Apache-Commons DBCP with EclipseLink JPA and Tomcat 7.x', 'How to do batch geocoding using google-maps-services-java', 'Inserting an img into a text field (html, css)', 'NoClassDefFoundError during Tomcat graceful shutdown', 'Indesign (IDML file) Automation using HTML5 and Javascript', 'Writing to the ObjectOutputStream and getting rubbish back', 'How do I stop md-cards from stretching images to full vertical height?', 'SQL, missing end, but why?', 'SED - Search two pattern in a line and insert few word at the end of the line if pattern match is found', 'How to configure & run multiple websites with respective databases with single Laravel code instance', 'three.js CanvasRenderer - setting initial color for object together with transparency textures', 'IHTMLDocument2 - click button inside iframe', \"Resource 1 works, 2 doesn't\", 'how to show an image in an image field by a button click event in c# asp.net', 'How to use this for killing array of threads?', 'MVC scaffolding does not support Entity Framework 6 or later', 'Parse error using Remotipart', 'JAVA JAX-WS Deployment (JAVA Eclipse EE IDE)', 'kaminari and order_by', 'multisampling and fragment shader', 'C program- change char order in sentence', 'How to reload an IFrame every x seconds?', 'EF6 table per hierarchy, with unique index on derived property', 'Shell Script to add extension on file and directory', 'Absolute beginners guide to working with audio in C/C++?', 'Extract part of string', 'stopping toast android in other actvity', 'Client-side SSL not working with AWS API Gateway', 'Top Left Menu Bar Is Frozen when Main Window Shows Up', 'Category Axis Label Alignment for Multi Series bar chart in JAsper', 'Invalid Label - jQuery Ajax/Json request', 'Optimizing Haskell Recursive Lists', 'Symfony3: Service not able to get arguments', 'Reverse Geocoding not displaying info window on markers when clicked', 'How to restrict background click in Ionic confirmation popup', 'how to use CSPARQL-ReadyToGoPack-0.9 in a SBT project', 'How to sort UTF-8 lines in Vim?', 'How to handle NotFoundException elegantly in Neo4j 2.0?', 'Download multiple files simultaneously with PHP - Forking, Sockets', 'Submit form on one server, process it and then post results to another domain', 'Flyway Mysql multiline comment directive not parsed', 'Non-Blocking File Reads', 'ORACLE sql dynamic variables in stored procedure', 'nested ngFor with two data classes in angular2', 'Crossplatform webview in Qt5.6', 'Set the default encoding to UTF-8 for all JSPs without using @page directives', 'XSLT creating a table with varying amount of columns', 'how to send email with powershell', 'Asynchronous method using .Result', 'Is JENKINS Extensible Choice Parameter compatible with linux?', 'Starting Speech Recognition with CreateProcess() in C++', 'How do I animate adding subviews?', 'How can I change the default font for a Jekyll website', 'Impossible to compile Fortran code with include statement', 'Lazy loading images in Vue/Laravel', 'Web API read header value in controller constructor', 'Android wear WearableListView ImageView selector', 'Function pack() returns 0', 'Is it possible to have Firebase authentication via Facebook in a Phonegap App?', 'PHP Export MySQL to CSV - Results showing HTML', 'How to detect language preference in Laravel 5', 'VB WebBrowser click button', 'Reports using java collections', 'How to write all files Contain in the subfolders and in the folders in to a .txt file', 'Checking negative values from Google Forms', 'Libgdx reading json array values', 'Custom Buddypress Notification on Post Save', 'UITableView with UITextField - keep the data even after user scrolls', 'Visual Studio 2015 Update 1 automatically checks in files', 'Mobilefirst Failed synchronizing application from the administration service', 'Cannot execute for loop in vue.js', 'how to prevent duplicate item', 'Java Apache CLI OptionBuilder not working as Builder pattern', \"What's a proper way to turn off genymotion emulator?\", 'Jade select field populating data', \"Why is ' 2' > '10'?\", 'Mysql dump comments directives and simple comments', 'Cropping library not working on Nexus S', 'Create a segue and attach it between two view controllers through Swift?', 'Function to search recursively for patterns in vim', 'Integrating wordpress and laravel user management', 'Behaviour after takePicture() different on different devices/Android versions', 'Exporting Plone content: how to get the tarball created by quintagroup.transmogrifier.writer', 'Cassandra to Hive using Spark', 'Ruby on Rails :before_filter => :only_when_user_is_logged_in', 'How can I integrate Jacoco reports with SonarQube without using maven?', 'Can I use NSPredicate as key in a NSDictionary', 'Proxy Authentication Failed error', 'Could someone explain how to use the UpdateManager in TideSDK 1.3.1 Beta?', 'Properties - how to avoid code repetition', 'Pause/resume video recording using AVCaptureMovieFileOutput', 'Swift enum recursive associated value', 'How to grep particular string occurring multiple times', 'Hover map area sprite with jquery', 'Spark `LiveListenerBus` Exception is freaking me out', 'how to use pyplot.arrow or patches.Arrow in matplotlib?', 'Apache on Windows and Fiddler', 'how to pass the variable from api gateway to the url of another service running on EC2', 'Open link when doubleclicking on table row with jQuery', 'Wget span host only for images/stylesheets/javascript but not links', 'I am trying to show data using api . but data is not showing in custom listView . list is empty', \"Graphing sbt's incremental compilation logic\", 'how to get functionality of Long Press gesture in ios ver below 3.2', 'Change priority headings for a task with the api', 'Get values on a row based on two or more rows in Excel', 'Is using Silverlight a hindrance for Startups?', 'spotify session callback get_audio_buffer_stats', 'talend - specify jndi as datasource', 'Long data load time in Matlab', 'how can i change column width in base to content with vb.net and bootstrap?', 'Alternative to Microsoft.Practices.EnterpriseLibrary.Data', 'How to facet.pivot with spring-data-solr', 'Check empty output from fish function', 'pysolr update document with error', 'How to retrieve same column twice with different values of other column in same table', 'Updated: NodeJS - connect-keycloak middleware empty response error', 'Accordion open when page loads', \"Activity doesn't refresh after associated Broadcast Receiver's onReceive gets called.\", 'How do you detect DOCTYPE (Transitional or Strict) server-side in ASP.NET?', 'Firefox 9.0.1 Broke Internal Wiki Layout', 'onchange function in dropDownList yii2', 'play mp3 without default player', 'Convert SVG Data to SVG File that can be uploaded', 'Folder Picker for MS Word', \"Can't hide or close form after switching to another form\", 'How to ShellCode in linux with x64 processor.', 'How to set a specific timezone for windows CE By C#', 'Vagrant enters aborted state during apt-get update', \"attempting to make enter button 'clickable'\", 'ImageMagick Convert not generating correct color', 'Mybatis select with nested objects', \"My css height auto doesn't work\", 'D3 AngularJs Force Directed Graph', 'I want to add 30 days to mysql date row', 'How I can use FlexyPool with HikariCPFactory?', 'Wix installer: Verify that you have sufficient privileges to start system services', 'r, ts - error in stl, series has less than two periods (erroneous?)', 'typo3 - Adding content to the footer', 'Knockout re render template with new data model on change event of dropdown menu', '@ManyToMany relation not save', 'Downsampling of fMRI image with FSL', 'How to use Android AutoCompleteTextView on Xamarin.Forms', 'Why fstream::tellg() return value is enlarged by the number of newlines in the input text file, when file is formated for Windows (\\\\r\\\\n)?', 'Determine If Two Points Are Near', 'clicking logo on home page breaks navigation menu on mobile site', 'Use Iframe to embed csv and allow user to search from it', 'Install Chrome extension through windows registry', 'Display message on success does not work', 'jQuery masked input - format date as m/d/yyyy or m/dd/yyyy or mm/dd/yyyy or mm/d/yyyy', 'How to change spring session (redis) cookie name?', 'Any tool to suggest unit reference automatically for Delphi 2010?', 'Why does my method return a null password?', 'SQL Script - manipulate value based on previous non zero value', 'rotate image shows \"Out of memory\" exception', 'count button clicks', 'Joomla Custom Compoment Dev Env : Hot Deployment', 'Nexus 5 not showing on connected devices', 'How work the method TrueForAll? C# LINQ', 'PHP - Simplest Way to Post & Display', 'Update Temp Table with Group By', 'How to use Parse Push with Cordova, Appcelerator, etc', 'AS3 bitmapdata send to server picture is small in upperleft corner', 'How to set the Z order index for adorner in WPF', 'php microseconds', 'Creating a global database connection on an mdi form', 'Uncaught ReferenceError: React is not defined', 'VBA search column for strings and copy row to new worksheet', 'How can I record a test using Espresso without doing a clean install?', 'How can I char array in reverse order?', 'What kind of SCTP support is there on various Windows versions?', 'Saving changes to an EC2 instance without having to register an AMI each time?', 'Auto run Jetty on boot', 'How To Cache jQuery Template In Backbone View via Ajax?', 'Does this C++ static analysis rule make sense as is?', 'Same Ripple drawable(effect) appearing differently on ListView and RecyclerView', 'R ggplot2 assigning colours to a factor', 'Verifying a method was called without using IoC', \"What is 'seg cs' in bootsect.s\", 'setTimeout keeps firing', 'Formatting the way a string is entered into my database', 'Creating Jenkins Job using python API', 'python create single thread to do one task then quit', 'z order in issue in ConstraintLayout Android', 'Can I derive from a class that can only be created by a \"factory\"?', 'PHP OOP :: passing session key between classes', 'ASP.NET MVC 3, SQL Server', 'Recreating or deleting google services json', 'Probe problem when writing a I2C device driver', 'Jersey produce duplicate log messages', 'Exit / stop Array2D.initBased early', 'how to set array of date to fireDate in local notification at a time', 'alternative to async: false ajax', 'Oracle: how to get percent of total by a query?', 'How to match the recursive pattern `a(?R)b` including another string e.g. \"test{aaabbb}\"? (Regex)', 'How to disable GestureListener?', 'How to specify Code Style settings in a Qt Creator `.pro.shared` file?', 'cal extension template modification with .tmpl', 'Getting started with Groovy/Grails?', \"Opening a Ruby program's source file in the default editor\", 'How can I pass an array of Guid via Web API?', 'Backbone-Relational find or load?', \"what's the best way to format an xml string in ruby?\", 'Partial classes in Google Closure?', 'Add a repository in AccountController', 'Wikipedia API Autocomplete with Json', 'Apache Pig: unable to run my own pig.jar and pig-withouthadoop.jar', 'Optimizing list comprehension to find pairs of co-prime numbers', 'kivy access child id', 'Stucture values not staying, values changed to -858993460', 'Set toolbar title', 'How to add a row to a table using swt', 'jQuery ui selectmenu vertical position offset (relatively to buttons in this line)', 'SSIS : Warning: Failed to decrypt an encrypted XML node', 'gps not getting user location', 'Exporting a simple model with texture from Blender to three.js', 'Postman - Required MultipartFile parameter is not present - Spring, Java', 'Prevent akka actor from restarting child actor', 'UITableView not loaded', 'NTFS permission with modify date', 'QTreeView - how to tell if a drag/drop event is a reorder or a move between parents?', 'Prevent XUL notificationBox from closing when button is hit', 'Code not working. Notification that should go off once a day', 'Android Action Bar Button does not show up', '$.widget is not a function', 'jquery hide not taking parameter', \"How can i use a one form/table for multiple MVC's?\", 'MSTest: execution order of tests within the same TestClass', 'How to call jQuery function in HTML returned by AJAX', 'OAuth2 security considerations for client_id', 'Google Compute Instance 100% CPU Utilisation', 'Incompatible block pointer type when returning array?', 'Calling a REST api with an encrypted PEM client certificate', 'Select all objects in a list', 'Drag and insert div into another div', 'How to prevent firefox from scrolling to the bottom of the page when a large popup is opened', 'How to handle ((List<string>)Session.Add(\"\")', 'mysql inserting into 2 tables at once that have primary key and foreign key', \"What's the right way to remove multiple items from a QTableWidget?\", \"When MSTest fails in TestInitialize, why doesn't TestCleanup get executed?\", 'PHP CodeIgniter application not opening any page except default controller', 'Parsing JSON data without quotes with jQuery', 'Rewrite url in .htaccess', 'I/O error(socket error): [Errno 111] Connection refused', 'Git Error; RPC failed; result=22, HTTP code = 401', 'TFS 2010 - Set the State field to a certain value', 'ActionScript 3.0 How to create ProgressEvent instances in for loop with multiple files loaded from XML', 'how can i extract my query to find average', 'C# Windows Service - Default Arguments on Install', 'Upload large files with node js', 'Changing table headers in cakephp', 'hello world with JMS on Glassfish', 'Countdown timer using DateTime.Parse without defined date', \"Images in the 'drawable' folder are resized automatically?\", 'Find files with the same size and dellete all duplicates except the one has the shortest name using shell script', 'Writing Rules both in Firebase and in your Code', 'Search for words with specific starts and endings', 'Install Neo4j 3.0+ as a windows service', 'PHP convert 2 digit year to a 4 digit year', 'JSDoc auto-complete documentation in Eclipse is not working for Class.create()', 'Split a infix String to an array of String in java', 'Folder permissions in Azure web sites', 'Only have separators between UITableViewCells', 'Uncaught Syntax error, unrecognized expression: [object Object]', 'Need htaccess redirection', 'How to create this bootstrap carousel of iframes?', 'Doctrine2 - Get entity ID before flush', 'Xquery help sorted parent child relationship', 'How To Load Separate Pages In Android Gridview While Clicking Blocks or Items?', 'kineticjs rect fillText', 'is a query string with a / in it valid?', 'How to convert the BYTEARRAYS to NSString in objective -c', 'why is std::chrono::duration based on seconds', 'WCF REST Client Exception', 'Using UIBinder to create a Widget to go into a Dialog', 'OneDrive for Business :\"invalid_request\",\"error_description\":\"AADSTS90014: The request body must contain the following parameter: \\'grant_type', 'Are the any options for interfacing with the command prompt process from a .NET application other than the standard IO?', 'Adding data in the database using microsoft access and OleDb in C#', 'jQuery Ajax header not being passed', 'AngularJS: Multiple views with routing without losing scope', 'BackboneJS How to merge collections', 'Specflow :Could not load file or assembly TechTalk.SpecFlow, Version=2.2.0.0', 'Max byte calculated by System.Runtime.InteropServices.Marshal.SizeOf()', 'How can my application retrieve custom fields from a DocuSign transaction?', 'add active state to button in a button group', 'How to define clear range for pixel color', 'Roslyn VisualBasic.ScriptEngine doesnt recognize hostObject written on C#', \"Neither BindingResult nor plain target object for bean name 'categoryOptions' available as request attribute\", 'How to change Wicket behaviour on Page Expired', 'PHPUnit code coverage show 0% coverage', 'How to prove code correctness lemmas with the \"undefined\" constant', 'Visual Studio has insufficient privileges to debug this process. To debug this process, Visual Studio must be run as an administrator', 'WebApi EntitySetController using composite keys', 'How do I set up an OpenGL project using XCode 4.2 in C++?', 'Initialize static NSString at class level', 'Rich Text Editor inside Flux Form', 'Setting $PATH in xampp osx', 'How to extract data from html using PHP', 'How to get Current location using MapModule?', 'Excel VBA Syntax Errors & Compiling Issues', 'How to read Logback configuration file from path outside the war file?', 'jQuery ajax not getting every div elements', 'TCP Socket on JAVA - Any byte >= 128 is received as 65533', 'SqlBulkCopy keeps on throwing connection forcibly closed exception', 'Error sending to the following VALID addresses Jenkins', 'How to determine if a text has balanced delimiters?', 'How to flick through a deck of cards?', 'Selecting in SQLite Database Android', \"TSQL merge Incorrect syntax near ','\", 'Building Pocketsphinx On Android on Windows', 'Add background image in a div without empty space between div and footer', 'Include github project into wordpress plugin', 'django multivaluefield & multiwidget - compress and/or decompress not working', 'Android : Can i call my onresume() inside onpause().?', 'How to fit picture to absolute positioning modal window?', 'Redirect URL to PHP only if file does not exist with Nginx', 'Laravel 4 Exception: NotFoundHttpException', 'How To Start Using Kostache?', 'Assigned access application exits when Ctrl + Alt + Delete is pressed.', 'Circular dependency error when running migrations in Django 1.7c2', 'JavaFX setOnShown fires before window is visible', 'Flash Develop - Publishing', 'I want to use the variable I declared somewhere else but I cannot (simple sql query)', 'buttons are not displayed', 'Prevent Twitter responsive layout from collapsing when width < 320px', 'Show azure cost analysis data using Azure billing API/SDK', 'find the field names from a search query', 'OAuth 2.0 OpenID Connect Loopback and Keycloak', 'Windows Phone: How to retrieve the same photo from media library between application instances', 'Symfony2: determine if a controller is called from a development environment or from a production environment', 'When UITableView is fully reloaded', 'http.post(url, postData, options) does not set header', 'JSON stringify outputs empty object for not empty object', 'Display.syncExec not working inside Callable', 'XPath to first occurrence of element with text length >= 200 characters', 'Unable to push a docker image to local OpenShift Origin registry', 'SlideDown() using JavaScript not working as intended', 'Threading.Tasks Dispose meaning issue', 'VAL() function in JavaScript', 'Using php to send form to my email..Having an issue with 405 Not Allowed when form is submitted', 'Netty closeFuture().sync().channel(); blocks rest api', 'How to check if a specific button exists in Scrapy?', 'Remove logs from ORMLite Android', 'Language detection API/Library', 'Should I make 1 form for each upvote button or 1 form for all the buttons?', 'Eclipse GAE JDO 3.0', 'django-cms editors and HTML data attribute cleaned up', 'Xcode build error clang failed', 'setTimeout from a web worker', 'C# Populating a listview from a List', 'Javascript not working in django inline formset using urlify.js', 'PHP multi cURL performance worse than sequential file_get_contents', 'Converting PHP Contact Form to SMTP', 'How do I prevent the original method being called when mocking a class with PHPUnit?', 'Ensure footer will stick to bottom of page and flex with content', 'How to share files from any path using a FileProvider?', 'R: How to build sum of arrays third dimension containing NAs and returning a list?', 'Speeding up a strangely slow Rcpp function', 'How to create a service that sends/receives UDP broadcasts on multiple interfaces', 'Can someone tell me how to replace the following javascript code with a loop?', 'UIImageView layer border issue', 'COM object created by CComObject::CreateInstance not destroyed when pointer goes out of scope', 'Run 2 sql query with 1 query for save query result as .csv format', 'AWS Elastic Beanstalk Vs EC2 Container Service (ECS) - Docker', 'Connect to remote MongoDB instance from ASP.NET', 'Copying files with unicode names', \"ASP.NET Web application doesn't unload AppDomains after deploy\", 'Getting YouTube livestream URL', \"Can't use ToString() in LINQ to Entities query\", 'list comprehension to create list and for no-data value feed default value', \"JSX element type 'XXX' does not have any construct or call signatures\", 'Subroutine unexpectedly ends when a Workbook is closed', 'Creating a result set (using a select statement ) within a loop', 'Laravel 4.2 - Environment detection - homestead.yaml vs. start.php', 'Deploy a shell script with Ruby gem and install in bin directory', 'Change a string into an int', 'How do I stop a MySQL decimal field from being rounded?', \"Respecting argparse's privacy, vs. usability\", 'Very simple Web Service in Python', 'Emoji and UIWebView in iOS 5', 'Getting IOError: [Errno Invalid number of channels] -9998 when using mic with PyAudio on Raspberry Pi', 'Mono on Mac OS X - Parallel HTTP Downloads limited to 2', 'Delete files, directories and buckets in amazon s3 java', 'Android: Saving form data on a swipe rather than from a button', 'No description or item name on PayPal Payment Received email', 'Code igniter with data mapper giving in valid json', 'Where can I find official / canonical documentation for using JavaScript with \"classic\" ASP?', \"BroadcastReceiver isn't working\", 'Array compare and count which has similar values and which not', \"How to cancel 'viewWillAppear' after UIImagePickerController is dismissed\", 'In Scala, is it possible to write a script which refers to another script', \"after reload page IE is not retaining it's scroll position\", 'SpringBoot multiple authentication adapter', 'SMTP Contact Form blank screen on Submit', 'Destroy all sessions but one', 'C# WIndows CE Compact Framework 2.0 Set System Timezone', 'Appropriate representation of a 2D game board in Clojure', 'Ionic emulate ios shows black screen', 'How update APi with AngularJS?', 'Javascript based redirect: will it hurt SEO?', 'What is the difference between these two SOAP requests?', 'Microsoft Access Report - How to cycle through all pages of a report in print view?', \"What does Actor[akka:\\\\\\\\play\\\\deadLetters].tell() mean in a New Relic's trace of a Play Framework 2.0 web transaction?\", 'JRuby 1.7.0 will not install bundler given plenty of memory', 'solr multiple tokenizers for query', 'Is it possible to pass an EJS variable to an Angular ng-repeat filter?', 'How To Read Data using Ip Address', 'SSIS XML Decryption Message', 'Detecting selection change on a UITextView?', 'Different CSS background-image depending on month and year', \"What's the equivalent averageifs for standard deviation?\", 'Segmentation faults using f2py', 'Eclipse: Most useful refactorings']\n"
          ],
          "name": "stdout"
        }
      ]
    },
    {
      "cell_type": "code",
      "metadata": {
        "id": "8KQWDP1oExPj",
        "colab_type": "code",
        "colab": {}
      },
      "source": [
        "from sklearn.metrics.pairwise import cosine_similarity"
      ],
      "execution_count": 0,
      "outputs": []
    },
    {
      "cell_type": "markdown",
      "metadata": {
        "id": "ymPsUO_AExPl",
        "colab_type": "text"
      },
      "source": [
        "We will use cosine distance to rank candidate questions which you need to implement in the function *rank_candidates*. The function should return a sorted list of pairs *(initial position in candidates list, candidate)*. Index of some pair corresponds to its rank (the first is the best). For example, if the list of candidates was *[a, b, c]* and the most similar is *c*, then *a* and *b*, the function should return a list *[(2, c), (0, a), (1, b)]*.\n",
        "\n",
        "Pay attention, if you use the function *cosine_similarity* from *sklearn.metrics.pairwise* to calculate similarity because it works in a different way: most similar objects has greatest similarity. It's preferable to use a vectorized version of *cosine_similarity* function. Try to compute similarity at once and not use list comprehension. It should speed up your computations significantly."
      ]
    },
    {
      "cell_type": "code",
      "metadata": {
        "id": "MXQETAfxExPm",
        "colab_type": "code",
        "colab": {}
      },
      "source": [
        "def rank_candidates(question, candidates, embeddings, dim=300):\n",
        "    \"\"\"\n",
        "        question: a string\n",
        "        candidates: a list of strings (candidates) which we want to rank\n",
        "        embeddings: some embeddings\n",
        "        dim: dimension of the current embeddings\n",
        "        \n",
        "        result: a list of pairs (initial position in the list, question)\n",
        "    \"\"\"\n",
        "    \n",
        "    ######################################\n",
        "    ######### YOUR CODE HERE #############\n",
        "    ######################################\n",
        "    \n",
        "    #cand_embedding =np.zeros(dim)\n",
        "    ques_embedding=np.array([question_to_vec(question=question,embeddings=embeddings,dim=dim)])\n",
        "    \n",
        "    cand_embedding = np.array([question_to_vec(question=c,embeddings=embeddings,dim=dim) for c in candidates ])\n",
        "        \n",
        "    similar_value=np.array(cosine_similarity(ques_embedding,cand_embedding)[0])\n",
        "    #create a list hvaing cosine simvalue and candidates value\n",
        "    new_list = list(zip(similar_value,candidates,range(len(candidates))))\n",
        "    #sort the data \n",
        "    #key_fnction= range(len(candidates))\n",
        "    data = sorted(new_list,reverse=True)\n",
        "    return [(k,j) for i,j,k in data]\n",
        "    \n",
        "    "
      ],
      "execution_count": 0,
      "outputs": []
    },
    {
      "cell_type": "markdown",
      "metadata": {
        "id": "m5jzeIn-ExPq",
        "colab_type": "text"
      },
      "source": [
        "Test your code on the tiny examples:"
      ]
    },
    {
      "cell_type": "code",
      "metadata": {
        "id": "NqC1KEVLExPr",
        "colab_type": "code",
        "colab": {}
      },
      "source": [
        "def test_rank_candidates():\n",
        "    questions = ['converting string to list', 'Sending array via Ajax fails']\n",
        "    candidates = [['Convert Google results object (pure js) to Python object', \n",
        "                   'C# create cookie from string and send it',\n",
        "                   'How to use jQuery AJAX for an outside domain?'], \n",
        "                  ['Getting all list items of an unordered list in PHP', \n",
        "                   'WPF- How to update the changes in list item of a list', \n",
        "                   'select2 not displaying search results']]\n",
        "    results = [[(1, 'C# create cookie from string and send it'), \n",
        "                (0, 'Convert Google results object (pure js) to Python object'), \n",
        "                (2, 'How to use jQuery AJAX for an outside domain?')],\n",
        "               [(0, 'Getting all list items of an unordered list in PHP'), \n",
        "                (2, 'select2 not displaying search results'), \n",
        "                (1, 'WPF- How to update the changes in list item of a list')]]\n",
        "    for question, q_candidates, result in zip(questions, candidates, results):\n",
        "        ranks = rank_candidates(question, q_candidates, wv_embeddings, 300)\n",
        "        if not np.all(ranks == result):\n",
        "            return \"Check the function.\"\n",
        "    return \"Basic tests are passed.\""
      ],
      "execution_count": 0,
      "outputs": []
    },
    {
      "cell_type": "code",
      "metadata": {
        "id": "4ebV0rdVExPt",
        "colab_type": "code",
        "outputId": "a7b29c98-1140-4cd7-c38d-40ee44af671c",
        "colab": {
          "base_uri": "https://localhost:8080/",
          "height": 34
        }
      },
      "source": [
        "print(test_rank_candidates())"
      ],
      "execution_count": 0,
      "outputs": [
        {
          "output_type": "stream",
          "text": [
            "Basic tests are passed.\n"
          ],
          "name": "stdout"
        }
      ]
    },
    {
      "cell_type": "markdown",
      "metadata": {
        "id": "r21jDlwfExPv",
        "colab_type": "text"
      },
      "source": [
        "Now we can test the quality of the current approach. Run the next two cells to get the results. Pay attention that calculation of similarity between vectors takes time and this calculation is computed approximately in 10 minutes."
      ]
    },
    {
      "cell_type": "code",
      "metadata": {
        "id": "YZyQixV-ExPw",
        "colab_type": "code",
        "colab": {}
      },
      "source": [
        "wv_ranking = []\n",
        "for line in validation:\n",
        "    q, *ex = line\n",
        "    ranks = rank_candidates(q, ex, wv_embeddings)\n",
        "    wv_ranking.append([r[0] for r in ranks].index(0) + 1)"
      ],
      "execution_count": 0,
      "outputs": []
    },
    {
      "cell_type": "code",
      "metadata": {
        "id": "lIzJ1t3jExP0",
        "colab_type": "code",
        "outputId": "3983a084-d7ab-4c3d-bf8e-d7e9e5a67990",
        "colab": {
          "base_uri": "https://localhost:8080/",
          "height": 119
        }
      },
      "source": [
        "for k in [1, 5, 10, 100, 500, 1000]:\n",
        "    print(\"DCG@%4d: %.3f | Hits@%4d: %.3f\" % (k, dcg_score(wv_ranking, k), k, hits_count(wv_ranking, k)))"
      ],
      "execution_count": 0,
      "outputs": [
        {
          "output_type": "stream",
          "text": [
            "DCG@   1: 0.202 | Hits@   1: 0.202\n",
            "DCG@   5: 0.260 | Hits@   5: 0.311\n",
            "DCG@  10: 0.276 | Hits@  10: 0.359\n",
            "DCG@ 100: 0.314 | Hits@ 100: 0.549\n",
            "DCG@ 500: 0.347 | Hits@ 500: 0.809\n",
            "DCG@1000: 0.367 | Hits@1000: 1.000\n"
          ],
          "name": "stdout"
        }
      ]
    },
    {
      "cell_type": "markdown",
      "metadata": {
        "id": "2bYFrGeNExP4",
        "colab_type": "text"
      },
      "source": [
        "If you did all the steps correctly, you should be frustrated by the received results. Let's try to understand why the quality is so low. First of all, when you work with some data it is necessary to have an idea how the data looks like. Print several questions from the data:"
      ]
    },
    {
      "cell_type": "code",
      "metadata": {
        "id": "LgEgKnCZExP4",
        "colab_type": "code",
        "outputId": "7675b0c1-aef9-4783-a915-f94fefce6522",
        "colab": {
          "base_uri": "https://localhost:8080/",
          "height": 105
        }
      },
      "source": [
        "for line in validation[:4]:\n",
        "    q, *examples = line\n",
        "    print(q, *examples[:4])"
      ],
      "execution_count": 0,
      "outputs": [
        {
          "output_type": "stream",
          "text": [
            "How to print a binary heap tree without recursion? How do you best convert a recursive function to an iterative one? How can i use ng-model with directive in angular js flash: drawing and erasing toggle react component using hide show classname\n",
            "How to start PhoneStateListener programmatically? PhoneStateListener and service Java cast object[] to model WCF and What does this mean? How to uncheck checkbox using jQuery Uniform library\n",
            "jQuery: Show a div2 when mousenter over div1 is over when hover on div1 depenting on if it is on div2 or not it should act differently How to run selenium in google app engine/cloud? Python Comparing two lists of strings for similarities Hazelcast creates 3 nodes/members when configured as Hibernate L2 cache\n",
            "Performing async method in a loop in node.js and waiting for result Asynchronous sequence of events using promises Django CMS - not able to upload images through cmsplugin_filer_image Sorting an array by alphabetical order before it is selected by UIPickerView SQL, Microsoft SQl\n"
          ],
          "name": "stdout"
        }
      ]
    },
    {
      "cell_type": "markdown",
      "metadata": {
        "id": "LYEgYyZGExP7",
        "colab_type": "text"
      },
      "source": [
        "As you can see, we deal with the raw data. It means that we have many punctuation marks, special characters and unlowercased letters. In our case, it could lead to the situation where we can't find some embeddings, e.g. for the word \"grid?\". \n",
        "\n",
        "To solve this problem you should use the functions *text_prepare* from the previous assignments to prepare the data."
      ]
    },
    {
      "cell_type": "code",
      "metadata": {
        "id": "NCJx0lwsExP8",
        "colab_type": "code",
        "colab": {}
      },
      "source": [
        "from util import text_prepare"
      ],
      "execution_count": 0,
      "outputs": []
    },
    {
      "cell_type": "markdown",
      "metadata": {
        "id": "eMYKABtMExP9",
        "colab_type": "text"
      },
      "source": [
        "Now transform all the questions from the validation set:"
      ]
    },
    {
      "cell_type": "code",
      "metadata": {
        "id": "j5ME6Fu6ExP-",
        "colab_type": "code",
        "colab": {}
      },
      "source": [
        "prepared_validation = []\n",
        "for line in validation:\n",
        "    ######### YOUR CODE HERE #############\n",
        "    prepared_validation.append([text_prepare(source_data) for source_data in line])"
      ],
      "execution_count": 0,
      "outputs": []
    },
    {
      "cell_type": "markdown",
      "metadata": {
        "id": "1NfklpM7ExP_",
        "colab_type": "text"
      },
      "source": [
        "Let's evaluate the approach again after the preparation:"
      ]
    },
    {
      "cell_type": "code",
      "metadata": {
        "id": "LKcNSafZExQA",
        "colab_type": "code",
        "colab": {}
      },
      "source": [
        "wv_prepared_ranking = []\n",
        "for line in prepared_validation:\n",
        "    q, *ex = line\n",
        "    ranks = rank_candidates(q, ex, wv_embeddings)\n",
        "    wv_prepared_ranking.append([r[0] for r in ranks].index(0) + 1)"
      ],
      "execution_count": 0,
      "outputs": []
    },
    {
      "cell_type": "code",
      "metadata": {
        "id": "9Q8jHQRfExQB",
        "colab_type": "code",
        "outputId": "188d2e3d-40a2-497e-a271-146c5ebb6a45",
        "colab": {
          "base_uri": "https://localhost:8080/",
          "height": 119
        }
      },
      "source": [
        "for k in [1, 5, 10, 100, 500, 1000]:\n",
        "    print(\"DCG@%4d: %.3f | Hits@%4d: %.3f\" % (k, dcg_score(wv_prepared_ranking, k), \n",
        "                                              k, hits_count(wv_prepared_ranking, k)))"
      ],
      "execution_count": 0,
      "outputs": [
        {
          "output_type": "stream",
          "text": [
            "DCG@   1: 0.295 | Hits@   1: 0.295\n",
            "DCG@   5: 0.371 | Hits@   5: 0.437\n",
            "DCG@  10: 0.387 | Hits@  10: 0.489\n",
            "DCG@ 100: 0.422 | Hits@ 100: 0.657\n",
            "DCG@ 500: 0.444 | Hits@ 500: 0.834\n",
            "DCG@1000: 0.461 | Hits@1000: 1.000\n"
          ],
          "name": "stdout"
        }
      ]
    },
    {
      "cell_type": "markdown",
      "metadata": {
        "id": "NWdUjM7jExQD",
        "colab_type": "text"
      },
      "source": [
        "Now, prepare also train and test data, because you will need it in the future:"
      ]
    },
    {
      "cell_type": "code",
      "metadata": {
        "id": "OVnrT40MExQE",
        "colab_type": "code",
        "colab": {}
      },
      "source": [
        "def prepare_file(in_, out_):\n",
        "    out = open(out_, 'w')\n",
        "    for line in open(in_, encoding='utf8'):\n",
        "        line = line.strip().split('\\t')\n",
        "        new_line = [text_prepare(q) for q in line]\n",
        "        print(*new_line, sep='\\t', file=out)\n",
        "    out.close()"
      ],
      "execution_count": 0,
      "outputs": []
    },
    {
      "cell_type": "code",
      "metadata": {
        "id": "72G92sS4ExQF",
        "colab_type": "code",
        "colab": {}
      },
      "source": [
        "######################################\n",
        "######### YOUR CODE HERE #############\n",
        "######################################\n",
        "prepare_file('data/train.tsv','data/train_new_prepared.tsv')\n",
        "prepare_file('data/test.tsv','data/test_new_prepared.tsv')"
      ],
      "execution_count": 0,
      "outputs": []
    },
    {
      "cell_type": "markdown",
      "metadata": {
        "id": "8dfL0CQXExQH",
        "colab_type": "text"
      },
      "source": [
        "**Task 4 (W2VTokenizedRanks).** For each question from prepared *test.tsv* submit the ranks of the candidates to earn the points. The calculations should take about 3-5 minutes. Pay attention that the function *rank_candidates* returns a ranking, while in this case you should find a position in this ranking. Ranks should start with 1."
      ]
    },
    {
      "cell_type": "code",
      "metadata": {
        "id": "HinaFylWExQI",
        "colab_type": "code",
        "colab": {}
      },
      "source": [
        "from util import matrix_to_string"
      ],
      "execution_count": 0,
      "outputs": []
    },
    {
      "cell_type": "code",
      "metadata": {
        "id": "2tDA6CfRExQJ",
        "colab_type": "code",
        "outputId": "0e082a81-cfb7-4a96-cbd0-8aa4cb15cdfa",
        "colab": {
          "base_uri": "https://localhost:8080/",
          "height": 54
        }
      },
      "source": [
        "w2v_ranks_results = []\n",
        "prepared_test_data = 'data/test_new_prepared.tsv'######### YOUR CODE HERE #############\n",
        "for line in open(prepared_test_data):\n",
        "    q, *ex = line.strip().split('\\t')\n",
        "    ranks = rank_candidates(q, ex, wv_embeddings, 300)\n",
        "    ranked_candidates = [r[0] for r in ranks]\n",
        "    w2v_ranks_results.append([ranked_candidates.index(i) + 1 for i in range(len(ranked_candidates))])\n",
        "    \n",
        "grader.submit_tag('W2VTokenizedRanks', matrix_to_string(w2v_ranks_results))"
      ],
      "execution_count": 0,
      "outputs": [
        {
          "output_type": "stream",
          "text": [
            "Current answer for task W2VTokenizedRanks is: 95\t94\t7\t9\t64\t36\t31\t93\t23\t100\t99\t20\t60\t6\t97\t48\t70\t37\t41\t96\t29\t56\t2\t65\t68\t44\t27\t25\t57\t62\t11\t87\t50\t66\t7...\n"
          ],
          "name": "stdout"
        }
      ]
    },
    {
      "cell_type": "markdown",
      "metadata": {
        "id": "XC9SYAOKExQM",
        "colab_type": "text"
      },
      "source": [
        "## Advanced solution: StarSpace embeddings\n",
        "\n",
        "Now you are ready to train your own word embeddings! In particular, you need to train embeddings specially for our task of duplicates detection. Unfortunately, StarSpace cannot be run on Windows and we recommend to use provided\n",
        "[docker container](https://github.com/hse-aml/natural-language-processing/blob/master/Docker-tutorial.md) or other alternatives. Don't delete results of this task because you will need it in the final project.\n",
        "\n",
        "### How it works and what's the main difference with word2vec?\n",
        "The main point in this section is that StarSpace can be trained specifically for some tasks. In contrast to word2vec model, which tries to train similar embeddings for words in similar contexts, StarSpace uses embeddings for the whole sentence (just as a sum of embeddings of words and phrases). Despite the fact that in both cases we get word embeddings as a result of the training, StarSpace embeddings are trained using some supervised data, e.g. a set of similar sentence pairs, and thus they can better suit the task.\n",
        "\n",
        "In our case, StarSpace should use two types of sentence pairs for training: \"positive\" and \"negative\". \"Positive\" examples are extracted from the train sample (duplicates, high similarity) and the \"negative\" examples are generated randomly (low similarity assumed). \n",
        "\n",
        "### How to choose the best params for the model?\n",
        "Normally, you would start with some default choice and then run extensive experiments to compare different strategies. However, we have some recommendations ready for you to save your time:\n",
        "- Be careful with choosing the suitable training mode. In this task we want to explore texts similarity which corresponds to *trainMode = 3*.\n",
        "- Use adagrad optimization (parameter *adagrad = true*).\n",
        "- Set the length of phrase equal to 1 (parameter *ngrams*), because we need embeddings only for words.\n",
        "- Don't use a large number of *epochs* (we think that 5 should be enough).\n",
        "- Try dimension *dim* equal to 100.\n",
        "- To compare embeddings usually *cosine* *similarity* is used.\n",
        "- Set *minCount* greater than 1 (for example, 2) if you don't want to get embeddings for extremely rare words.\n",
        "- Parameter *verbose = true* could show you the progress of the training process.\n",
        "- Set parameter *fileFormat* equals *labelDoc*.\n",
        "- Parameter *negSearchLimit* is responsible for a number of negative examples which is used during the training. We think that 10 will be enought for this task.\n",
        "- To increase a speed of training we recommend to set *learning rate* to 0.05."
      ]
    },
    {
      "cell_type": "markdown",
      "metadata": {
        "id": "ZfnVpETNExQN",
        "colab_type": "text"
      },
      "source": [
        "Train StarSpace embeddings for unigrams on the train dataset. You don't need to change the format of the input data. Just don't forget to use prepared version of the training data. \n",
        "\n",
        "If you follow the instruction, the training process will take about 1 hour. The size of the embeddings' dictionary should be approximately 100 000 (number of lines in the result file). If you got significantly more than this number, try to check all the instructions above."
      ]
    },
    {
      "cell_type": "code",
      "metadata": {
        "id": "mv7qsOeJExQO",
        "colab_type": "code",
        "outputId": "30bcb99f-c451-4dd2-e7aa-d637b8cb407a",
        "colab": {
          "base_uri": "https://localhost:8080/",
          "height": 901
        }
      },
      "source": [
        "######### TRAINING HAPPENING HERE #############\n",
        "! ./Starspace/starspace train -trainFile 'data/train_new_prepared.tsv' -trainMode 3 -fileFormat labelDoc -negSearchLimit 10 -lr 0.05 -model starspace_word_embeddings"
      ],
      "execution_count": 0,
      "outputs": [
        {
          "output_type": "stream",
          "text": [
            "Arguments: \n",
            "lr: 0.05\n",
            "dim: 100\n",
            "epoch: 5\n",
            "maxTrainTime: 8640000\n",
            "validationPatience: 10\n",
            "saveEveryEpoch: 0\n",
            "loss: hinge\n",
            "margin: 0.05\n",
            "similarity: cosine\n",
            "maxNegSamples: 10\n",
            "negSearchLimit: 10\n",
            "batchSize: 5\n",
            "thread: 10\n",
            "minCount: 1\n",
            "minCountLabel: 1\n",
            "label: __label__\n",
            "label: __label__\n",
            "ngrams: 1\n",
            "bucket: 2000000\n",
            "adagrad: 1\n",
            "trainMode: 3\n",
            "fileFormat: labelDoc\n",
            "normalizeText: 0\n",
            "dropoutLHS: 0\n",
            "dropoutRHS: 0\n",
            "useWeight: 0\n",
            "weightSep: :\n",
            "Start to initialize starspace model.\n",
            "Build dict from input file : data/train_new_prepared.tsv\n",
            "Read 12M words\n",
            "Number of words in dictionary:  205838\n",
            "Number of labels in dictionary: 0\n",
            "Loading data from file : data/train_new_prepared.tsv\n",
            "Total number of examples loaded : 1000000\n",
            "Training epoch 0: 0.05 0.01\n",
            "Epoch: 100.0%  lr: 0.040001  loss: 0.044243  eta: 0h12m  tot: 0h3m4s  (20.0%)\n",
            " ---+++                Epoch    0 Train error : 0.04401508 +++--- ☃\n",
            "Training epoch 1: 0.04 0.01\n",
            "Epoch: 100.0%  lr: 0.030041  loss: 0.011734  eta: 0h8m  tot: 0h5m44s  (40.0%)\n",
            " ---+++                Epoch    1 Train error : 0.01177795 +++--- ☃\n",
            "Training epoch 2: 0.03 0.01\n",
            "Epoch: 100.0%  lr: 0.020059  loss: 0.008282  eta: 0h5m  tot: 0h8m32s  (60.0%)\n",
            " ---+++                Epoch    2 Train error : 0.00819125 +++--- ☃\n",
            "Training epoch 3: 0.02 0.01\n",
            "Epoch: 100.0%  lr: 0.010060  loss: 0.006627  eta: 0h2m  tot: 0h11m11s  (80.0%)\n",
            " ---+++                Epoch    3 Train error : 0.00662399 +++--- ☃\n",
            "Training epoch 4: 0.01 0.01\n",
            "Epoch: 100.0%  lr: 0.000010  loss: 0.005857  eta: <1min   tot: 0h13m52s  (100.0%)\n",
            " ---+++                Epoch    4 Train error : 0.00591726 +++--- ☃\n",
            "Saving model to file : starspace_word_embeddings\n",
            "Saving model in tsv format : starspace_word_embeddings.tsv\n"
          ],
          "name": "stdout"
        }
      ]
    },
    {
      "cell_type": "markdown",
      "metadata": {
        "collapsed": true,
        "id": "Gq3HhhxhExQP",
        "colab_type": "text"
      },
      "source": [
        "And now we can compare the new embeddings with the previous ones. You can find trained word vectors in the file *[model_file_name].tsv*. Upload the embeddings from StarSpace into a dict. "
      ]
    },
    {
      "cell_type": "code",
      "metadata": {
        "id": "yca7m5r_ExQP",
        "colab_type": "code",
        "colab": {}
      },
      "source": [
        "starspace_embeddings = {}######### YOUR CODE HERE #############\n",
        "for line in open('starspace_word_embeddings.tsv'):\n",
        "  word, starspace_vec = line.strip().split('\\t',1)\n",
        "  starspace_embeddings[word]=[float(vec_elem) for vec_elem in starspace_vec.split('\\t')]\n",
        "  \n",
        "    \n",
        "  "
      ],
      "execution_count": 0,
      "outputs": []
    },
    {
      "cell_type": "code",
      "metadata": {
        "id": "_dVfz8qwExQQ",
        "colab_type": "code",
        "colab": {}
      },
      "source": [
        "ss_prepared_ranking = []\n",
        "for line in prepared_validation:\n",
        "    q, *ex = line\n",
        "    ranks = rank_candidates(q, ex, starspace_embeddings, 100)\n",
        "    ss_prepared_ranking.append([r[0] for r in ranks].index(0) + 1)"
      ],
      "execution_count": 0,
      "outputs": []
    },
    {
      "cell_type": "code",
      "metadata": {
        "id": "-0X3_oHQExQR",
        "colab_type": "code",
        "outputId": "eb081158-03f3-408b-fa43-917030d0bbc2",
        "colab": {
          "base_uri": "https://localhost:8080/",
          "height": 119
        }
      },
      "source": [
        "for k in [1, 5, 10, 100, 500, 1000]:\n",
        "    print(\"DCG@%4d: %.3f | Hits@%4d: %.3f\" % (k, dcg_score(ss_prepared_ranking, k), \n",
        "                                               k, hits_count(ss_prepared_ranking, k)))"
      ],
      "execution_count": 0,
      "outputs": [
        {
          "output_type": "stream",
          "text": [
            "DCG@   1: 0.505 | Hits@   1: 0.505\n",
            "DCG@   5: 0.611 | Hits@   5: 0.700\n",
            "DCG@  10: 0.629 | Hits@  10: 0.756\n",
            "DCG@ 100: 0.660 | Hits@ 100: 0.906\n",
            "DCG@ 500: 0.670 | Hits@ 500: 0.981\n",
            "DCG@1000: 0.672 | Hits@1000: 1.000\n"
          ],
          "name": "stdout"
        }
      ]
    },
    {
      "cell_type": "markdown",
      "metadata": {
        "id": "en4ZjXQ8ExQS",
        "colab_type": "text"
      },
      "source": [
        "Due to training for the particular task with the supervised data, you should expect to obtain a higher quality than for the previous approach. In additiion, despite the fact that StarSpace's trained vectors have a smaller dimension than word2vec's, it provides better results in this task."
      ]
    },
    {
      "cell_type": "markdown",
      "metadata": {
        "id": "9thkJaQVExQT",
        "colab_type": "text"
      },
      "source": [
        "**Task 5 (StarSpaceRanks).** For each question from prepared *test.tsv* submit the ranks of the candidates for trained representation."
      ]
    },
    {
      "cell_type": "code",
      "metadata": {
        "id": "F5e4N17xExQU",
        "colab_type": "code",
        "outputId": "3386ab3b-59e9-431d-f915-c997a8f1ac99",
        "colab": {
          "base_uri": "https://localhost:8080/",
          "height": 54
        }
      },
      "source": [
        "starspace_ranks_results = []\n",
        "prepared_test_data = 'data/test_new_prepared.tsv'######### YOUR CODE HERE #############\n",
        "for line in open(prepared_test_data):\n",
        "    q, *ex = line.strip().split('\\t')\n",
        "    ranks = rank_candidates(q, ex, starspace_embeddings, 100)\n",
        "    ranked_candidates = [r[0] for r in ranks]\n",
        "    starspace_ranks_results.append([ranked_candidates.index(i) + 1 for i in range(len(ranked_candidates))])\n",
        "    \n",
        "grader.submit_tag('StarSpaceRanks', matrix_to_string(starspace_ranks_results))"
      ],
      "execution_count": 0,
      "outputs": [
        {
          "output_type": "stream",
          "text": [
            "Current answer for task StarSpaceRanks is: 64\t59\t37\t23\t7\t40\t94\t82\t29\t39\t5\t24\t4\t32\t68\t79\t17\t8\t78\t58\t87\t20\t3\t97\t49\t48\t93\t65\t31\t30\t56\t80\t96\t62\t76\t...\n"
          ],
          "name": "stdout"
        }
      ]
    },
    {
      "cell_type": "markdown",
      "metadata": {
        "id": "jtH6YlycExQV",
        "colab_type": "text"
      },
      "source": [
        "Please, **don't remove** the file with these embeddings because you will need them in the final project."
      ]
    },
    {
      "cell_type": "markdown",
      "metadata": {
        "id": "D-jeLPXYExQV",
        "colab_type": "text"
      },
      "source": [
        "### Authorization & Submission\n",
        "To submit assignment parts to Cousera platform, please, enter your e-mail and token into variables below. You can generate token on this programming assignment page. <b>Note:</b> Token expires 30 minutes after generation."
      ]
    },
    {
      "cell_type": "code",
      "metadata": {
        "id": "DyjkXtYEExQW",
        "colab_type": "code",
        "outputId": "188c394d-0ab9-4c55-9ac2-18e7bdb2a467",
        "colab": {
          "base_uri": "https://localhost:8080/",
          "height": 615
        }
      },
      "source": [
        "STUDENT_EMAIL = \"\"# EMAIL \n",
        "STUDENT_TOKEN = \"\"# TOKEN \n",
        "grader.status()"
      ],
      "execution_count": 0,
      "outputs": [
        {
          "output_type": "stream",
          "text": [
            "You want to submit these parts:\n",
            "Task Question2Vec: 0.019293891059027776\n",
            "-0.028727213541666668\n",
            "0.046056111653645836\n",
            "0.08525933159722222\n",
            "0.02430555555555...\n",
            "Task HitsCount: 1.0\n",
            "0.5\n",
            "1.0\n",
            "0.5\n",
            "1.0\n",
            "0.3333333333333333\n",
            "0.6666666666666666\n",
            "1.0\n",
            "0.1\n",
            "0.2\n",
            "0.3\n",
            "0.4\n",
            "0.5\n",
            "0.6\n",
            "0.7\n",
            "0.8\n",
            "0.9\n",
            "1....\n",
            "Task DCGScore: 1.0\n",
            "0.5\n",
            "0.8154648767857288\n",
            "0.5\n",
            "0.8154648767857288\n",
            "0.3333333333333333\n",
            "0.5436432511904858\n",
            "0.7103099178...\n",
            "Task W2VTokenizedRanks: 95\t94\t7\t9\t64\t36\t31\t93\t23\t100\t99\t20\t60\t6\t97\t48\t70\t37\t41\t96\t29\t56\t2\t65\t68\t44\t27\t25\t57\t62\t11\t87\t50\t66\t7...\n",
            "Task StarSpaceRanks: 64\t59\t37\t23\t7\t40\t94\t82\t29\t39\t5\t24\t4\t32\t68\t79\t17\t8\t78\t58\t87\t20\t3\t97\t49\t48\t93\t65\t31\t30\t56\t80\t96\t62\t76\t...\n"
          ],
          "name": "stdout"
        }
      ]
    },
    {
      "cell_type": "markdown",
      "metadata": {
        "id": "LjT1G8f5ExQW",
        "colab_type": "text"
      },
      "source": [
        "If you want to submit these answers, run cell below"
      ]
    },
    {
      "cell_type": "code",
      "metadata": {
        "id": "4O4LcuLBExQX",
        "colab_type": "code",
        "outputId": "6862dfdc-3844-4d50-8e3a-92b830c4539f",
        "colab": {
          "base_uri": "https://localhost:8080/",
          "height": 34
        }
      },
      "source": [
        "grader.submit(STUDENT_EMAIL, STUDENT_TOKEN)"
      ],
      "execution_count": 0,
      "outputs": [
        {
          "output_type": "stream",
          "text": [
            "Submitted to Coursera platform. See results on assignment page!\n"
          ],
          "name": "stdout"
        }
      ]
    },
    {
      "cell_type": "code",
      "metadata": {
        "id": "bQTMzgSNkgHJ",
        "colab_type": "code",
        "colab": {}
      },
      "source": [
        ""
      ],
      "execution_count": 0,
      "outputs": []
    }
  ]
}